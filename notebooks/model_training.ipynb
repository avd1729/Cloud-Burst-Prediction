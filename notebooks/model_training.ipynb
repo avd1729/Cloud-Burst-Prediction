{
 "cells": [
  {
   "cell_type": "code",
   "execution_count": 1,
   "metadata": {},
   "outputs": [],
   "source": [
    "import numpy as np\n",
    "import pandas as pd"
   ]
  },
  {
   "cell_type": "code",
   "execution_count": 2,
   "metadata": {},
   "outputs": [],
   "source": [
    "import pickle\n",
    "\n",
    "with open('pkl/pca.pkl', 'rb') as file:\n",
    "    X_pca_reduced = pickle.load(file)\n",
    "with open('pkl/grp.pkl', 'rb') as file:\n",
    "    X_grp_reduced = pickle.load(file)\n",
    "with open('pkl/lle.pkl', 'rb') as file:\n",
    "    X_lle_reduced = pickle.load(file)\n",
    "with open('pkl/y.pkl', 'rb') as file:\n",
    "    y = pickle.load(file)\n",
    "with open('pkl/x.pkl', 'rb') as file:\n",
    "    X = pickle.load(file)"
   ]
  },
  {
   "cell_type": "code",
   "execution_count": 3,
   "metadata": {},
   "outputs": [
    {
     "data": {
      "text/plain": [
       "(9840, 2)"
      ]
     },
     "execution_count": 3,
     "metadata": {},
     "output_type": "execute_result"
    }
   ],
   "source": [
    "X_pca_reduced.shape"
   ]
  },
  {
   "cell_type": "code",
   "execution_count": 4,
   "metadata": {},
   "outputs": [],
   "source": [
    "from sklearn.metrics import mean_squared_error\n",
    "from sklearn.linear_model import LinearRegression\n",
    "from sklearn.linear_model import ElasticNet\n",
    "from sklearn.ensemble import ExtraTreesRegressor\n",
    "from sklearn.ensemble import RandomForestRegressor\n",
    "from sklearn.svm import SVR"
   ]
  },
  {
   "cell_type": "code",
   "execution_count": 5,
   "metadata": {},
   "outputs": [],
   "source": [
    "from sklearn.model_selection import train_test_split\n",
    "\n",
    "X_train , X_test , y_train , y_test = train_test_split(X , y , test_size=0.2 , random_state=42)"
   ]
  },
  {
   "cell_type": "code",
   "execution_count": 6,
   "metadata": {},
   "outputs": [
    {
     "name": "stdout",
     "output_type": "stream",
     "text": [
      "Root mean squared error of the model : 21.28175822370377 \n"
     ]
    }
   ],
   "source": [
    "reg = LinearRegression()\n",
    "reg.fit(X_train , y_train)\n",
    "y_pred = reg.predict(X_test)\n",
    "\n",
    "rmse = np.sqrt(mean_squared_error(y_test , y_pred))\n",
    "print(f\"Root mean squared error of the model : {rmse} \")"
   ]
  },
  {
   "cell_type": "code",
   "execution_count": 7,
   "metadata": {},
   "outputs": [
    {
     "name": "stdout",
     "output_type": "stream",
     "text": [
      "Root mean squared error of the model : 21.34695350985563 \n"
     ]
    }
   ],
   "source": [
    "reg = ElasticNet(alpha=0.1 , l1_ratio=0.5)\n",
    "reg.fit(X_train , y_train)\n",
    "y_pred = reg.predict(X_test)\n",
    "\n",
    "rmse = np.sqrt(mean_squared_error(y_test , y_pred))\n",
    "print(f\"Root mean squared error of the model : {rmse} \")"
   ]
  },
  {
   "cell_type": "code",
   "execution_count": 8,
   "metadata": {},
   "outputs": [
    {
     "name": "stdout",
     "output_type": "stream",
     "text": [
      "Root mean squared error of the model : 7.814722139258768 \n"
     ]
    }
   ],
   "source": [
    "reg = ExtraTreesRegressor()\n",
    "reg.fit(X_train , y_train)\n",
    "y_pred = reg.predict(X_test)\n",
    "\n",
    "rmse = np.sqrt(mean_squared_error(y_test , y_pred))\n",
    "print(f\"Root mean squared error of the model : {rmse} \")"
   ]
  },
  {
   "cell_type": "code",
   "execution_count": 9,
   "metadata": {},
   "outputs": [
    {
     "name": "stdout",
     "output_type": "stream",
     "text": [
      "Root mean squared error of the model : 8.771034800613736 \n"
     ]
    }
   ],
   "source": [
    "reg = RandomForestRegressor()\n",
    "reg.fit(X_train , y_train)\n",
    "y_pred = reg.predict(X_test)\n",
    "\n",
    "rmse = np.sqrt(mean_squared_error(y_test , y_pred))\n",
    "print(f\"Root mean squared error of the model : {rmse} \")"
   ]
  },
  {
   "cell_type": "code",
   "execution_count": 10,
   "metadata": {},
   "outputs": [
    {
     "name": "stdout",
     "output_type": "stream",
     "text": [
      "Root mean squared error of the model : 29.11262299509143 \n"
     ]
    }
   ],
   "source": [
    "reg = SVR()\n",
    "reg.fit(X_train , y_train)\n",
    "y_pred = reg.predict(X_test)\n",
    "\n",
    "rmse = np.sqrt(mean_squared_error(y_test , y_pred))\n",
    "print(f\"Root mean squared error of the model : {rmse} \")"
   ]
  },
  {
   "cell_type": "code",
   "execution_count": 11,
   "metadata": {},
   "outputs": [],
   "source": [
    "X_train_pca , X_test_pca , y_train_pca , y_test_pca = train_test_split(X_pca_reduced , y , test_size=0.2 , random_state=42)"
   ]
  },
  {
   "cell_type": "code",
   "execution_count": 12,
   "metadata": {},
   "outputs": [
    {
     "name": "stdout",
     "output_type": "stream",
     "text": [
      "Root mean squared error of the model : 31.350680292850857 \n"
     ]
    }
   ],
   "source": [
    "reg = LinearRegression()\n",
    "reg.fit(X_train_pca , y_train_pca)\n",
    "y_pred = reg.predict(X_test_pca)\n",
    "\n",
    "rmse = np.sqrt(mean_squared_error(y_test_pca , y_pred))\n",
    "print(f\"Root mean squared error of the model : {rmse} \")"
   ]
  },
  {
   "cell_type": "code",
   "execution_count": 13,
   "metadata": {},
   "outputs": [
    {
     "name": "stdout",
     "output_type": "stream",
     "text": [
      "Root mean squared error of the model : 31.350652229380728 \n"
     ]
    }
   ],
   "source": [
    "reg = ElasticNet(alpha=0.1 , l1_ratio=0.5)\n",
    "reg.fit(X_train_pca , y_train_pca)\n",
    "y_pred = reg.predict(X_test_pca)\n",
    "\n",
    "rmse = np.sqrt(mean_squared_error(y_test_pca , y_pred))\n",
    "print(f\"Root mean squared error of the model : {rmse} \")"
   ]
  },
  {
   "cell_type": "code",
   "execution_count": 14,
   "metadata": {},
   "outputs": [
    {
     "name": "stdout",
     "output_type": "stream",
     "text": [
      "Root mean squared error of the model : 29.69258946875055 \n"
     ]
    }
   ],
   "source": [
    "reg = ExtraTreesRegressor()\n",
    "reg.fit(X_train_pca , y_train_pca)\n",
    "y_pred = reg.predict(X_test_pca)\n",
    "\n",
    "rmse = np.sqrt(mean_squared_error(y_test_pca , y_pred))\n",
    "print(f\"Root mean squared error of the model : {rmse} \")"
   ]
  },
  {
   "cell_type": "code",
   "execution_count": 15,
   "metadata": {},
   "outputs": [
    {
     "name": "stdout",
     "output_type": "stream",
     "text": [
      "Root mean squared error of the model : 29.45184960097921 \n"
     ]
    }
   ],
   "source": [
    "reg = RandomForestRegressor()\n",
    "reg.fit(X_train_pca , y_train_pca)\n",
    "y_pred = reg.predict(X_test_pca)\n",
    "\n",
    "rmse = np.sqrt(mean_squared_error(y_test_pca , y_pred))\n",
    "print(f\"Root mean squared error of the model : {rmse} \")"
   ]
  },
  {
   "cell_type": "code",
   "execution_count": 16,
   "metadata": {},
   "outputs": [
    {
     "name": "stdout",
     "output_type": "stream",
     "text": [
      "Root mean squared error of the model : 31.37039595314812 \n"
     ]
    }
   ],
   "source": [
    "reg = SVR()\n",
    "reg.fit(X_train_pca , y_train_pca)\n",
    "y_pred = reg.predict(X_test_pca)\n",
    "\n",
    "rmse = np.sqrt(mean_squared_error(y_test_pca , y_pred))\n",
    "print(f\"Root mean squared error of the model : {rmse} \")"
   ]
  },
  {
   "cell_type": "code",
   "execution_count": 17,
   "metadata": {},
   "outputs": [],
   "source": [
    "X_train_grp , X_test_grp , y_train_grp , y_test_grp = train_test_split(X_grp_reduced , y , test_size=0.2 , random_state=42)"
   ]
  },
  {
   "cell_type": "code",
   "execution_count": 18,
   "metadata": {},
   "outputs": [
    {
     "name": "stdout",
     "output_type": "stream",
     "text": [
      "Root mean squared error of the model : 30.988720713986574 \n"
     ]
    }
   ],
   "source": [
    "reg = LinearRegression()\n",
    "reg.fit(X_train_grp , y_train_grp)\n",
    "y_pred = reg.predict(X_test_grp)\n",
    "\n",
    "rmse = np.sqrt(mean_squared_error(y_test_grp , y_pred))\n",
    "print(f\"Root mean squared error of the model : {rmse} \")"
   ]
  },
  {
   "cell_type": "code",
   "execution_count": 19,
   "metadata": {},
   "outputs": [
    {
     "name": "stdout",
     "output_type": "stream",
     "text": [
      "Root mean squared error of the model : 30.988722128431302 \n"
     ]
    }
   ],
   "source": [
    "reg = ElasticNet(alpha=0.15 , l1_ratio=0.5)\n",
    "reg.fit(X_train_grp , y_train_grp)\n",
    "y_pred = reg.predict(X_test_grp)\n",
    "\n",
    "rmse = np.sqrt(mean_squared_error(y_test_grp , y_pred))\n",
    "print(f\"Root mean squared error of the model : {rmse} \")"
   ]
  },
  {
   "cell_type": "code",
   "execution_count": 20,
   "metadata": {},
   "outputs": [
    {
     "name": "stdout",
     "output_type": "stream",
     "text": [
      "Root mean squared error of the model : 29.12092809038765 \n"
     ]
    }
   ],
   "source": [
    "reg = ExtraTreesRegressor()\n",
    "reg.fit(X_train_grp , y_train_grp)\n",
    "y_pred = reg.predict(X_test_grp)\n",
    "\n",
    "rmse = np.sqrt(mean_squared_error(y_test_grp , y_pred))\n",
    "print(f\"Root mean squared error of the model : {rmse} \")"
   ]
  },
  {
   "cell_type": "code",
   "execution_count": 21,
   "metadata": {},
   "outputs": [
    {
     "name": "stdout",
     "output_type": "stream",
     "text": [
      "Root mean squared error of the model : 28.918117773622573 \n"
     ]
    }
   ],
   "source": [
    "reg = RandomForestRegressor()\n",
    "reg.fit(X_train_grp , y_train_grp)\n",
    "y_pred = reg.predict(X_test_grp)\n",
    "\n",
    "rmse = np.sqrt(mean_squared_error(y_test_grp , y_pred))\n",
    "print(f\"Root mean squared error of the model : {rmse} \")"
   ]
  },
  {
   "cell_type": "code",
   "execution_count": 22,
   "metadata": {},
   "outputs": [
    {
     "name": "stdout",
     "output_type": "stream",
     "text": [
      "Root mean squared error of the model : 30.72016884652581 \n"
     ]
    }
   ],
   "source": [
    "reg = SVR()\n",
    "reg.fit(X_train_grp , y_train_grp)\n",
    "y_pred = reg.predict(X_test_grp)\n",
    "\n",
    "rmse = np.sqrt(mean_squared_error(y_test_grp , y_pred))\n",
    "print(f\"Root mean squared error of the model : {rmse} \")"
   ]
  },
  {
   "cell_type": "code",
   "execution_count": 23,
   "metadata": {},
   "outputs": [],
   "source": [
    "X_train_lle , X_test_lle , y_train_lle , y_test_lle = train_test_split(X_lle_reduced , y , test_size=0.2 , random_state=42)"
   ]
  },
  {
   "cell_type": "code",
   "execution_count": 24,
   "metadata": {},
   "outputs": [
    {
     "name": "stdout",
     "output_type": "stream",
     "text": [
      "Root mean squared error of the model : 31.45563757876123 \n"
     ]
    }
   ],
   "source": [
    "reg = LinearRegression()\n",
    "reg.fit(X_train_lle , y_train_lle)\n",
    "y_pred = reg.predict(X_test_lle)\n",
    "\n",
    "rmse = np.sqrt(mean_squared_error(y_test_lle , y_pred))\n",
    "print(f\"Root mean squared error of the model : {rmse} \")"
   ]
  },
  {
   "cell_type": "code",
   "execution_count": 25,
   "metadata": {},
   "outputs": [
    {
     "name": "stdout",
     "output_type": "stream",
     "text": [
      "Root mean squared error of the model : 31.899375937867827 \n"
     ]
    }
   ],
   "source": [
    "reg = ElasticNet(alpha=0.15 , l1_ratio=0.5)\n",
    "reg.fit(X_train_lle , y_train_lle)\n",
    "y_pred = reg.predict(X_test_lle)\n",
    "\n",
    "rmse = np.sqrt(mean_squared_error(y_test_lle , y_pred))\n",
    "print(f\"Root mean squared error of the model : {rmse} \")"
   ]
  },
  {
   "cell_type": "code",
   "execution_count": 26,
   "metadata": {},
   "outputs": [
    {
     "name": "stdout",
     "output_type": "stream",
     "text": [
      "Root mean squared error of the model : 29.725153384801903 \n"
     ]
    }
   ],
   "source": [
    "reg = ExtraTreesRegressor()\n",
    "reg.fit(X_train_lle , y_train_lle)\n",
    "y_pred = reg.predict(X_test_lle)\n",
    "\n",
    "rmse = np.sqrt(mean_squared_error(y_test_lle , y_pred))\n",
    "print(f\"Root mean squared error of the model : {rmse} \")"
   ]
  },
  {
   "cell_type": "code",
   "execution_count": 27,
   "metadata": {},
   "outputs": [
    {
     "name": "stdout",
     "output_type": "stream",
     "text": [
      "Root mean squared error of the model : 29.723096155534304 \n"
     ]
    }
   ],
   "source": [
    "reg = RandomForestRegressor()\n",
    "reg.fit(X_train_lle , y_train_lle)\n",
    "y_pred = reg.predict(X_test_lle)\n",
    "\n",
    "rmse = np.sqrt(mean_squared_error(y_test_lle , y_pred))\n",
    "print(f\"Root mean squared error of the model : {rmse} \")"
   ]
  },
  {
   "cell_type": "code",
   "execution_count": 28,
   "metadata": {},
   "outputs": [
    {
     "name": "stdout",
     "output_type": "stream",
     "text": [
      "Root mean squared error of the model : 31.30273207817544 \n"
     ]
    }
   ],
   "source": [
    "reg = SVR()\n",
    "reg.fit(X_train_lle , y_train_lle)\n",
    "y_pred = reg.predict(X_test_lle)\n",
    "\n",
    "rmse = np.sqrt(mean_squared_error(y_test_lle , y_pred))\n",
    "print(f\"Root mean squared error of the model : {rmse} \")"
   ]
  },
  {
   "cell_type": "code",
   "execution_count": 29,
   "metadata": {},
   "outputs": [
    {
     "name": "stdout",
     "output_type": "stream",
     "text": [
      "Root mean squared error of the model : 8.373531372263223 \n"
     ]
    }
   ],
   "source": [
    "from sklearn.ensemble import StackingRegressor\n",
    "\n",
    "stacking_reg = StackingRegressor(\n",
    "    estimators = [\n",
    "        ('Extra Trees ',ExtraTreesRegressor()),\n",
    "        ('Random Forest ',RandomForestRegressor()),\n",
    "        ('Linear Regression', LinearRegression())\n",
    "    ],\n",
    "    final_estimator = ExtraTreesRegressor() , cv = 5\n",
    ")\n",
    "stacking_reg.fit(X_train , y_train)\n",
    "y_pred = stacking_reg.predict(X_test)\n",
    "\n",
    "rmse = np.sqrt(mean_squared_error(y_test , y_pred))\n",
    "print(f\"Root mean squared error of the model : {rmse} \")"
   ]
  },
  {
   "cell_type": "code",
   "execution_count": 30,
   "metadata": {},
   "outputs": [],
   "source": [
    "# Saving the final model\n",
    "with open('C:/Users/Aravind/Work/PROJECTS/Cloudburst-Prediction-System/models/ml_model.pkl', 'wb') as file:\n",
    "    pickle.dump(stacking_reg, file)"
   ]
  }
 ],
 "metadata": {
  "kernelspec": {
   "display_name": "Python 3",
   "language": "python",
   "name": "python3"
  },
  "language_info": {
   "codemirror_mode": {
    "name": "ipython",
    "version": 3
   },
   "file_extension": ".py",
   "mimetype": "text/x-python",
   "name": "python",
   "nbconvert_exporter": "python",
   "pygments_lexer": "ipython3",
   "version": "3.11.3"
  },
  "orig_nbformat": 4
 },
 "nbformat": 4,
 "nbformat_minor": 2
}
