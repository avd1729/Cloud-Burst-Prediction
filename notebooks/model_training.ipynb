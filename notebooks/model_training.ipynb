{
 "cells": [
  {
   "cell_type": "code",
   "execution_count": 24,
   "metadata": {},
   "outputs": [],
   "source": [
    "import numpy as np\n",
    "import pandas as pd"
   ]
  },
  {
   "cell_type": "code",
   "execution_count": 25,
   "metadata": {},
   "outputs": [],
   "source": [
    "import pickle\n",
    "\n",
    "with open('pkl/pca.pkl', 'rb') as file:\n",
    "    X_pca_reduced = pickle.load(file)\n",
    "with open('pkl/grp.pkl', 'rb') as file:\n",
    "    X_grp_reduced = pickle.load(file)\n",
    "with open('pkl/lle.pkl', 'rb') as file:\n",
    "    X_lle_reduced = pickle.load(file)\n",
    "with open('pkl/y.pkl', 'rb') as file:\n",
    "    y = pickle.load(file)\n",
    "with open('pkl/x.pkl', 'rb') as file:\n",
    "    X = pickle.load(file)"
   ]
  },
  {
   "cell_type": "code",
   "execution_count": 26,
   "metadata": {},
   "outputs": [
    {
     "data": {
      "text/plain": [
       "(9840, 2)"
      ]
     },
     "execution_count": 26,
     "metadata": {},
     "output_type": "execute_result"
    }
   ],
   "source": [
    "X_pca_reduced.shape"
   ]
  },
  {
   "cell_type": "code",
   "execution_count": 27,
   "metadata": {},
   "outputs": [],
   "source": [
    "from sklearn.metrics import mean_squared_error\n",
    "from sklearn.linear_model import LinearRegression\n",
    "from sklearn.linear_model import ElasticNet\n",
    "from sklearn.ensemble import ExtraTreesRegressor\n",
    "from sklearn.ensemble import RandomForestRegressor\n",
    "from sklearn.svm import SVR"
   ]
  },
  {
   "cell_type": "code",
   "execution_count": 28,
   "metadata": {},
   "outputs": [],
   "source": [
    "from sklearn.model_selection import train_test_split\n",
    "\n",
    "X_train , X_test , y_train , y_test = train_test_split(X , y , test_size=0.2 , random_state=42)"
   ]
  },
  {
   "cell_type": "code",
   "execution_count": 29,
   "metadata": {},
   "outputs": [
    {
     "name": "stdout",
     "output_type": "stream",
     "text": [
      "Root mean squared error of the model : 21.28175822370377 \n"
     ]
    }
   ],
   "source": [
    "reg = LinearRegression()\n",
    "reg.fit(X_train , y_train)\n",
    "y_pred = reg.predict(X_test)\n",
    "\n",
    "rmse = np.sqrt(mean_squared_error(y_test , y_pred))\n",
    "print(f\"Root mean squared error of the model : {rmse} \")"
   ]
  },
  {
   "cell_type": "code",
   "execution_count": 30,
   "metadata": {},
   "outputs": [
    {
     "name": "stdout",
     "output_type": "stream",
     "text": [
      "Root mean squared error of the model : 21.34695350985563 \n"
     ]
    }
   ],
   "source": [
    "reg = ElasticNet(alpha=0.1 , l1_ratio=0.5)\n",
    "reg.fit(X_train , y_train)\n",
    "y_pred = reg.predict(X_test)\n",
    "\n",
    "rmse = np.sqrt(mean_squared_error(y_test , y_pred))\n",
    "print(f\"Root mean squared error of the model : {rmse} \")"
   ]
  },
  {
   "cell_type": "code",
   "execution_count": 31,
   "metadata": {},
   "outputs": [
    {
     "name": "stdout",
     "output_type": "stream",
     "text": [
      "Root mean squared error of the model : 7.852888832024179 \n"
     ]
    }
   ],
   "source": [
    "reg = ExtraTreesRegressor()\n",
    "reg.fit(X_train , y_train)\n",
    "y_pred = reg.predict(X_test)\n",
    "\n",
    "rmse = np.sqrt(mean_squared_error(y_test , y_pred))\n",
    "print(f\"Root mean squared error of the model : {rmse} \")"
   ]
  },
  {
   "cell_type": "code",
   "execution_count": 32,
   "metadata": {},
   "outputs": [
    {
     "name": "stdout",
     "output_type": "stream",
     "text": [
      "Root mean squared error of the model : 8.75982032834917 \n"
     ]
    }
   ],
   "source": [
    "reg = RandomForestRegressor()\n",
    "reg.fit(X_train , y_train)\n",
    "y_pred = reg.predict(X_test)\n",
    "\n",
    "rmse = np.sqrt(mean_squared_error(y_test , y_pred))\n",
    "print(f\"Root mean squared error of the model : {rmse} \")"
   ]
  },
  {
   "cell_type": "code",
   "execution_count": 33,
   "metadata": {},
   "outputs": [
    {
     "name": "stdout",
     "output_type": "stream",
     "text": [
      "Root mean squared error of the model : 29.11262299509143 \n"
     ]
    }
   ],
   "source": [
    "reg = SVR()\n",
    "reg.fit(X_train , y_train)\n",
    "y_pred = reg.predict(X_test)\n",
    "\n",
    "rmse = np.sqrt(mean_squared_error(y_test , y_pred))\n",
    "print(f\"Root mean squared error of the model : {rmse} \")"
   ]
  },
  {
   "cell_type": "code",
   "execution_count": 34,
   "metadata": {},
   "outputs": [],
   "source": [
    "X_train_pca , X_test_pca , y_train_pca , y_test_pca = train_test_split(X_pca_reduced , y , test_size=0.2 , random_state=42)"
   ]
  },
  {
   "cell_type": "code",
   "execution_count": 35,
   "metadata": {},
   "outputs": [
    {
     "name": "stdout",
     "output_type": "stream",
     "text": [
      "Root mean squared error of the model : 31.350680292850857 \n"
     ]
    }
   ],
   "source": [
    "reg = LinearRegression()\n",
    "reg.fit(X_train_pca , y_train_pca)\n",
    "y_pred = reg.predict(X_test_pca)\n",
    "\n",
    "rmse = np.sqrt(mean_squared_error(y_test_pca , y_pred))\n",
    "print(f\"Root mean squared error of the model : {rmse} \")"
   ]
  },
  {
   "cell_type": "code",
   "execution_count": 36,
   "metadata": {},
   "outputs": [
    {
     "name": "stdout",
     "output_type": "stream",
     "text": [
      "Root mean squared error of the model : 31.350652229380728 \n"
     ]
    }
   ],
   "source": [
    "reg = ElasticNet(alpha=0.1 , l1_ratio=0.5)\n",
    "reg.fit(X_train_pca , y_train_pca)\n",
    "y_pred = reg.predict(X_test_pca)\n",
    "\n",
    "rmse = np.sqrt(mean_squared_error(y_test_pca , y_pred))\n",
    "print(f\"Root mean squared error of the model : {rmse} \")"
   ]
  },
  {
   "cell_type": "code",
   "execution_count": 37,
   "metadata": {},
   "outputs": [
    {
     "name": "stdout",
     "output_type": "stream",
     "text": [
      "Root mean squared error of the model : 29.660575128805995 \n"
     ]
    }
   ],
   "source": [
    "reg = ExtraTreesRegressor()\n",
    "reg.fit(X_train_pca , y_train_pca)\n",
    "y_pred = reg.predict(X_test_pca)\n",
    "\n",
    "rmse = np.sqrt(mean_squared_error(y_test_pca , y_pred))\n",
    "print(f\"Root mean squared error of the model : {rmse} \")"
   ]
  },
  {
   "cell_type": "code",
   "execution_count": 38,
   "metadata": {},
   "outputs": [
    {
     "name": "stdout",
     "output_type": "stream",
     "text": [
      "Root mean squared error of the model : 29.38610463864398 \n"
     ]
    }
   ],
   "source": [
    "reg = RandomForestRegressor()\n",
    "reg.fit(X_train_pca , y_train_pca)\n",
    "y_pred = reg.predict(X_test_pca)\n",
    "\n",
    "rmse = np.sqrt(mean_squared_error(y_test_pca , y_pred))\n",
    "print(f\"Root mean squared error of the model : {rmse} \")"
   ]
  },
  {
   "cell_type": "code",
   "execution_count": 39,
   "metadata": {},
   "outputs": [
    {
     "name": "stdout",
     "output_type": "stream",
     "text": [
      "Root mean squared error of the model : 31.37039595314812 \n"
     ]
    }
   ],
   "source": [
    "reg = SVR()\n",
    "reg.fit(X_train_pca , y_train_pca)\n",
    "y_pred = reg.predict(X_test_pca)\n",
    "\n",
    "rmse = np.sqrt(mean_squared_error(y_test_pca , y_pred))\n",
    "print(f\"Root mean squared error of the model : {rmse} \")"
   ]
  },
  {
   "cell_type": "code",
   "execution_count": 40,
   "metadata": {},
   "outputs": [],
   "source": [
    "X_train_grp , X_test_grp , y_train_grp , y_test_grp = train_test_split(X_grp_reduced , y , test_size=0.2 , random_state=42)"
   ]
  },
  {
   "cell_type": "code",
   "execution_count": 41,
   "metadata": {},
   "outputs": [
    {
     "name": "stdout",
     "output_type": "stream",
     "text": [
      "Root mean squared error of the model : 31.136515167215194 \n"
     ]
    }
   ],
   "source": [
    "reg = LinearRegression()\n",
    "reg.fit(X_train_grp , y_train_grp)\n",
    "y_pred = reg.predict(X_test_grp)\n",
    "\n",
    "rmse = np.sqrt(mean_squared_error(y_test_grp , y_pred))\n",
    "print(f\"Root mean squared error of the model : {rmse} \")"
   ]
  },
  {
   "cell_type": "code",
   "execution_count": 42,
   "metadata": {},
   "outputs": [
    {
     "name": "stdout",
     "output_type": "stream",
     "text": [
      "Root mean squared error of the model : 31.136481030838628 \n"
     ]
    }
   ],
   "source": [
    "reg = ElasticNet(alpha=0.15 , l1_ratio=0.5)\n",
    "reg.fit(X_train_grp , y_train_grp)\n",
    "y_pred = reg.predict(X_test_grp)\n",
    "\n",
    "rmse = np.sqrt(mean_squared_error(y_test_grp , y_pred))\n",
    "print(f\"Root mean squared error of the model : {rmse} \")"
   ]
  },
  {
   "cell_type": "code",
   "execution_count": 43,
   "metadata": {},
   "outputs": [
    {
     "name": "stdout",
     "output_type": "stream",
     "text": [
      "Root mean squared error of the model : 30.033781204081414 \n"
     ]
    }
   ],
   "source": [
    "reg = ExtraTreesRegressor()\n",
    "reg.fit(X_train_grp , y_train_grp)\n",
    "y_pred = reg.predict(X_test_grp)\n",
    "\n",
    "rmse = np.sqrt(mean_squared_error(y_test_grp , y_pred))\n",
    "print(f\"Root mean squared error of the model : {rmse} \")"
   ]
  },
  {
   "cell_type": "code",
   "execution_count": 44,
   "metadata": {},
   "outputs": [
    {
     "name": "stdout",
     "output_type": "stream",
     "text": [
      "Root mean squared error of the model : 29.969695627348887 \n"
     ]
    }
   ],
   "source": [
    "reg = RandomForestRegressor()\n",
    "reg.fit(X_train_grp , y_train_grp)\n",
    "y_pred = reg.predict(X_test_grp)\n",
    "\n",
    "rmse = np.sqrt(mean_squared_error(y_test_grp , y_pred))\n",
    "print(f\"Root mean squared error of the model : {rmse} \")"
   ]
  },
  {
   "cell_type": "code",
   "execution_count": 45,
   "metadata": {},
   "outputs": [
    {
     "name": "stdout",
     "output_type": "stream",
     "text": [
      "Root mean squared error of the model : 30.881062305005813 \n"
     ]
    }
   ],
   "source": [
    "reg = SVR()\n",
    "reg.fit(X_train_grp , y_train_grp)\n",
    "y_pred = reg.predict(X_test_grp)\n",
    "\n",
    "rmse = np.sqrt(mean_squared_error(y_test_grp , y_pred))\n",
    "print(f\"Root mean squared error of the model : {rmse} \")"
   ]
  },
  {
   "cell_type": "code",
   "execution_count": 46,
   "metadata": {},
   "outputs": [],
   "source": [
    "X_train_lle , X_test_lle , y_train_lle , y_test_lle = train_test_split(X_lle_reduced , y , test_size=0.2 , random_state=42)"
   ]
  },
  {
   "cell_type": "code",
   "execution_count": 47,
   "metadata": {},
   "outputs": [
    {
     "name": "stdout",
     "output_type": "stream",
     "text": [
      "Root mean squared error of the model : 31.455624963888983 \n"
     ]
    }
   ],
   "source": [
    "reg = LinearRegression()\n",
    "reg.fit(X_train_lle , y_train_lle)\n",
    "y_pred = reg.predict(X_test_lle)\n",
    "\n",
    "rmse = np.sqrt(mean_squared_error(y_test_lle , y_pred))\n",
    "print(f\"Root mean squared error of the model : {rmse} \")"
   ]
  },
  {
   "cell_type": "code",
   "execution_count": 48,
   "metadata": {},
   "outputs": [
    {
     "name": "stdout",
     "output_type": "stream",
     "text": [
      "Root mean squared error of the model : 31.899375937867827 \n"
     ]
    }
   ],
   "source": [
    "reg = ElasticNet(alpha=0.15 , l1_ratio=0.5)\n",
    "reg.fit(X_train_lle , y_train_lle)\n",
    "y_pred = reg.predict(X_test_lle)\n",
    "\n",
    "rmse = np.sqrt(mean_squared_error(y_test_lle , y_pred))\n",
    "print(f\"Root mean squared error of the model : {rmse} \")"
   ]
  },
  {
   "cell_type": "code",
   "execution_count": 49,
   "metadata": {},
   "outputs": [
    {
     "name": "stdout",
     "output_type": "stream",
     "text": [
      "Root mean squared error of the model : 29.727179760519288 \n"
     ]
    }
   ],
   "source": [
    "reg = ExtraTreesRegressor()\n",
    "reg.fit(X_train_lle , y_train_lle)\n",
    "y_pred = reg.predict(X_test_lle)\n",
    "\n",
    "rmse = np.sqrt(mean_squared_error(y_test_lle , y_pred))\n",
    "print(f\"Root mean squared error of the model : {rmse} \")"
   ]
  },
  {
   "cell_type": "code",
   "execution_count": 50,
   "metadata": {},
   "outputs": [
    {
     "name": "stdout",
     "output_type": "stream",
     "text": [
      "Root mean squared error of the model : 29.7522223524317 \n"
     ]
    }
   ],
   "source": [
    "reg = RandomForestRegressor()\n",
    "reg.fit(X_train_lle , y_train_lle)\n",
    "y_pred = reg.predict(X_test_lle)\n",
    "\n",
    "rmse = np.sqrt(mean_squared_error(y_test_lle , y_pred))\n",
    "print(f\"Root mean squared error of the model : {rmse} \")"
   ]
  },
  {
   "cell_type": "code",
   "execution_count": 51,
   "metadata": {},
   "outputs": [
    {
     "name": "stdout",
     "output_type": "stream",
     "text": [
      "Root mean squared error of the model : 31.302726350589122 \n"
     ]
    }
   ],
   "source": [
    "reg = SVR()\n",
    "reg.fit(X_train_lle , y_train_lle)\n",
    "y_pred = reg.predict(X_test_lle)\n",
    "\n",
    "rmse = np.sqrt(mean_squared_error(y_test_lle , y_pred))\n",
    "print(f\"Root mean squared error of the model : {rmse} \")"
   ]
  },
  {
   "cell_type": "code",
   "execution_count": 53,
   "metadata": {},
   "outputs": [
    {
     "name": "stdout",
     "output_type": "stream",
     "text": [
      "Root mean squared error of the model : 7.879055721016196 \n"
     ]
    }
   ],
   "source": [
    "fin_reg = ExtraTreesRegressor()\n",
    "fin_reg.fit(X_train , y_train)\n",
    "y_pred = fin_reg.predict(X_test)\n",
    "\n",
    "rmse = np.sqrt(mean_squared_error(y_test , y_pred))\n",
    "print(f\"Root mean squared error of the model : {rmse} \")"
   ]
  },
  {
   "cell_type": "code",
   "execution_count": 55,
   "metadata": {},
   "outputs": [],
   "source": [
    "with open('C:/Users/Aravind/Work/PROJECTS/Cloudburst-Prediction-System/models/ml_model.pkl', 'wb') as file:\n",
    "    pickle.dump(fin_reg, file)"
   ]
  }
 ],
 "metadata": {
  "kernelspec": {
   "display_name": "Python 3",
   "language": "python",
   "name": "python3"
  },
  "language_info": {
   "codemirror_mode": {
    "name": "ipython",
    "version": 3
   },
   "file_extension": ".py",
   "mimetype": "text/x-python",
   "name": "python",
   "nbconvert_exporter": "python",
   "pygments_lexer": "ipython3",
   "version": "3.11.3"
  },
  "orig_nbformat": 4
 },
 "nbformat": 4,
 "nbformat_minor": 2
}
