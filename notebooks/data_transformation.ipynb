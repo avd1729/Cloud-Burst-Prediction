{
 "cells": [
  {
   "cell_type": "code",
   "execution_count": 1,
   "metadata": {},
   "outputs": [],
   "source": [
    "import numpy as np\n",
    "import pandas as pd"
   ]
  },
  {
   "cell_type": "code",
   "execution_count": 2,
   "metadata": {},
   "outputs": [],
   "source": [
    "data = pd.read_csv('C:/Users/Aravind/Work/PROJECTS/Cloudburst-Prediction-System/data/interim/Data-reduced.csv')"
   ]
  },
  {
   "cell_type": "code",
   "execution_count": 3,
   "metadata": {},
   "outputs": [
    {
     "name": "stdout",
     "output_type": "stream",
     "text": [
      "<class 'pandas.core.frame.DataFrame'>\n",
      "RangeIndex: 9840 entries, 0 to 9839\n",
      "Data columns (total 32 columns):\n",
      " #   Column                        Non-Null Count  Dtype  \n",
      "---  ------                        --------------  -----  \n",
      " 0   location_name                 9840 non-null   object \n",
      " 1   latitude                      9840 non-null   float64\n",
      " 2   longitude                     9840 non-null   float64\n",
      " 3   temperature_celsius           9840 non-null   float64\n",
      " 4   condition_text                9840 non-null   object \n",
      " 5   wind_mph                      9840 non-null   float64\n",
      " 6   wind_degree                   9840 non-null   int64  \n",
      " 7   wind_direction                9840 non-null   object \n",
      " 8   pressure_mb                   9840 non-null   float64\n",
      " 9   pressure_in                   9840 non-null   float64\n",
      " 10  precip_mm                     9840 non-null   float64\n",
      " 11  precip_in                     9840 non-null   float64\n",
      " 12  humidity                      9840 non-null   int64  \n",
      " 13  cloud                         9840 non-null   int64  \n",
      " 14  feels_like_celsius            9840 non-null   float64\n",
      " 15  visibility_miles              9840 non-null   float64\n",
      " 16  uv_index                      9840 non-null   float64\n",
      " 17  gust_mph                      9840 non-null   float64\n",
      " 18  air_quality_Carbon_Monoxide   9840 non-null   float64\n",
      " 19  air_quality_Ozone             9840 non-null   float64\n",
      " 20  air_quality_Nitrogen_dioxide  9840 non-null   float64\n",
      " 21  air_quality_Sulphur_dioxide   9840 non-null   float64\n",
      " 22  air_quality_PM2.5             9840 non-null   float64\n",
      " 23  air_quality_PM10              9840 non-null   float64\n",
      " 24  air_quality_us-epa-index      9840 non-null   int64  \n",
      " 25  air_quality_gb-defra-index    9840 non-null   int64  \n",
      " 26  sunrise                       9840 non-null   object \n",
      " 27  sunset                        9840 non-null   object \n",
      " 28  moonrise                      9291 non-null   object \n",
      " 29  moonset                       9840 non-null   object \n",
      " 30  moon_phase                    9840 non-null   object \n",
      " 31  moon_illumination             9840 non-null   int64  \n",
      "dtypes: float64(18), int64(6), object(8)\n",
      "memory usage: 2.4+ MB\n"
     ]
    }
   ],
   "source": [
    "data.info()"
   ]
  },
  {
   "cell_type": "code",
   "execution_count": 4,
   "metadata": {},
   "outputs": [],
   "source": [
    "data = data.drop(['sunrise','sunset','moonrise','moonset','location_name'],axis=1)"
   ]
  },
  {
   "cell_type": "code",
   "execution_count": 5,
   "metadata": {},
   "outputs": [
    {
     "data": {
      "text/plain": [
       "condition_text\n",
       "Clear                                  2423\n",
       "Partly cloudy                          1866\n",
       "Mist                                   1395\n",
       "Light rain shower                       949\n",
       "Patchy rain possible                    943\n",
       "Sunny                                   772\n",
       "Cloudy                                  414\n",
       "Moderate or heavy rain shower           244\n",
       "Overcast                                239\n",
       "Fog                                     216\n",
       "Light rain                              103\n",
       "Moderate or heavy rain with thunder      55\n",
       "Moderate rain                            40\n",
       "Torrential rain shower                   30\n",
       "Light drizzle                            29\n",
       "Thundery outbreaks possible              26\n",
       "Moderate rain at times                   23\n",
       "Patchy light drizzle                     21\n",
       "Patchy light rain                        19\n",
       "Heavy rain                               17\n",
       "Patchy light rain with thunder            8\n",
       "Light snow showers                        3\n",
       "Heavy rain at times                       2\n",
       "Patchy snow possible                      2\n",
       "Moderate or heavy snow showers            1\n",
       "Name: count, dtype: int64"
      ]
     },
     "execution_count": 5,
     "metadata": {},
     "output_type": "execute_result"
    }
   ],
   "source": [
    "data['condition_text'].value_counts()"
   ]
  },
  {
   "cell_type": "code",
   "execution_count": 6,
   "metadata": {},
   "outputs": [
    {
     "data": {
      "text/plain": [
       "moon_phase\n",
       "Waning Crescent    3283\n",
       "Waning Gibbous     3275\n",
       "Full Moon          1100\n",
       "New Moon           1094\n",
       "Last Quarter        545\n",
       "Waxing Gibbous      543\n",
       "Name: count, dtype: int64"
      ]
     },
     "execution_count": 6,
     "metadata": {},
     "output_type": "execute_result"
    }
   ],
   "source": [
    "data['moon_phase'].value_counts()"
   ]
  },
  {
   "cell_type": "code",
   "execution_count": 7,
   "metadata": {},
   "outputs": [
    {
     "data": {
      "text/plain": [
       "wind_direction\n",
       "W      1523\n",
       "WSW    1392\n",
       "WNW     916\n",
       "E       694\n",
       "ENE     647\n",
       "NE      569\n",
       "SW      556\n",
       "NW      524\n",
       "SE      517\n",
       "ESE     452\n",
       "N       395\n",
       "SSE     337\n",
       "NNE     335\n",
       "SSW     331\n",
       "NNW     329\n",
       "S       323\n",
       "Name: count, dtype: int64"
      ]
     },
     "execution_count": 7,
     "metadata": {},
     "output_type": "execute_result"
    }
   ],
   "source": [
    "data['wind_direction'].value_counts()"
   ]
  },
  {
   "cell_type": "code",
   "execution_count": 8,
   "metadata": {},
   "outputs": [
    {
     "name": "stderr",
     "output_type": "stream",
     "text": [
      "c:\\Users\\Aravind\\AppData\\Local\\Programs\\Python\\Python311\\Lib\\site-packages\\sklearn\\utils\\validation.py:605: FutureWarning: is_sparse is deprecated and will be removed in a future version. Check `isinstance(dtype, pd.SparseDtype)` instead.\n",
      "  if is_sparse(pd_dtype):\n",
      "c:\\Users\\Aravind\\AppData\\Local\\Programs\\Python\\Python311\\Lib\\site-packages\\sklearn\\utils\\validation.py:614: FutureWarning: is_sparse is deprecated and will be removed in a future version. Check `isinstance(dtype, pd.SparseDtype)` instead.\n",
      "  if is_sparse(pd_dtype) or not is_extension_array_dtype(pd_dtype):\n",
      "c:\\Users\\Aravind\\AppData\\Local\\Programs\\Python\\Python311\\Lib\\site-packages\\sklearn\\utils\\validation.py:605: FutureWarning: is_sparse is deprecated and will be removed in a future version. Check `isinstance(dtype, pd.SparseDtype)` instead.\n",
      "  if is_sparse(pd_dtype):\n",
      "c:\\Users\\Aravind\\AppData\\Local\\Programs\\Python\\Python311\\Lib\\site-packages\\sklearn\\utils\\validation.py:614: FutureWarning: is_sparse is deprecated and will be removed in a future version. Check `isinstance(dtype, pd.SparseDtype)` instead.\n",
      "  if is_sparse(pd_dtype) or not is_extension_array_dtype(pd_dtype):\n",
      "c:\\Users\\Aravind\\AppData\\Local\\Programs\\Python\\Python311\\Lib\\site-packages\\sklearn\\utils\\validation.py:605: FutureWarning: is_sparse is deprecated and will be removed in a future version. Check `isinstance(dtype, pd.SparseDtype)` instead.\n",
      "  if is_sparse(pd_dtype):\n",
      "c:\\Users\\Aravind\\AppData\\Local\\Programs\\Python\\Python311\\Lib\\site-packages\\sklearn\\utils\\validation.py:614: FutureWarning: is_sparse is deprecated and will be removed in a future version. Check `isinstance(dtype, pd.SparseDtype)` instead.\n",
      "  if is_sparse(pd_dtype) or not is_extension_array_dtype(pd_dtype):\n",
      "c:\\Users\\Aravind\\AppData\\Local\\Programs\\Python\\Python311\\Lib\\site-packages\\sklearn\\utils\\validation.py:605: FutureWarning: is_sparse is deprecated and will be removed in a future version. Check `isinstance(dtype, pd.SparseDtype)` instead.\n",
      "  if is_sparse(pd_dtype):\n",
      "c:\\Users\\Aravind\\AppData\\Local\\Programs\\Python\\Python311\\Lib\\site-packages\\sklearn\\utils\\validation.py:614: FutureWarning: is_sparse is deprecated and will be removed in a future version. Check `isinstance(dtype, pd.SparseDtype)` instead.\n",
      "  if is_sparse(pd_dtype) or not is_extension_array_dtype(pd_dtype):\n",
      "c:\\Users\\Aravind\\AppData\\Local\\Programs\\Python\\Python311\\Lib\\site-packages\\sklearn\\utils\\validation.py:605: FutureWarning: is_sparse is deprecated and will be removed in a future version. Check `isinstance(dtype, pd.SparseDtype)` instead.\n",
      "  if is_sparse(pd_dtype):\n",
      "c:\\Users\\Aravind\\AppData\\Local\\Programs\\Python\\Python311\\Lib\\site-packages\\sklearn\\utils\\validation.py:614: FutureWarning: is_sparse is deprecated and will be removed in a future version. Check `isinstance(dtype, pd.SparseDtype)` instead.\n",
      "  if is_sparse(pd_dtype) or not is_extension_array_dtype(pd_dtype):\n",
      "c:\\Users\\Aravind\\AppData\\Local\\Programs\\Python\\Python311\\Lib\\site-packages\\sklearn\\utils\\validation.py:605: FutureWarning: is_sparse is deprecated and will be removed in a future version. Check `isinstance(dtype, pd.SparseDtype)` instead.\n",
      "  if is_sparse(pd_dtype):\n",
      "c:\\Users\\Aravind\\AppData\\Local\\Programs\\Python\\Python311\\Lib\\site-packages\\sklearn\\utils\\validation.py:614: FutureWarning: is_sparse is deprecated and will be removed in a future version. Check `isinstance(dtype, pd.SparseDtype)` instead.\n",
      "  if is_sparse(pd_dtype) or not is_extension_array_dtype(pd_dtype):\n"
     ]
    }
   ],
   "source": [
    "from sklearn.preprocessing import OrdinalEncoder\n",
    "\n",
    "encoder = OrdinalEncoder()\n",
    "data[['condition_text','wind_direction','moon_phase']] = encoder.fit_transform(data[['condition_text','wind_direction','moon_phase']])"
   ]
  },
  {
   "cell_type": "code",
   "execution_count": 9,
   "metadata": {},
   "outputs": [
    {
     "name": "stdout",
     "output_type": "stream",
     "text": [
      "<class 'pandas.core.frame.DataFrame'>\n",
      "RangeIndex: 9840 entries, 0 to 9839\n",
      "Data columns (total 27 columns):\n",
      " #   Column                        Non-Null Count  Dtype  \n",
      "---  ------                        --------------  -----  \n",
      " 0   latitude                      9840 non-null   float64\n",
      " 1   longitude                     9840 non-null   float64\n",
      " 2   temperature_celsius           9840 non-null   float64\n",
      " 3   condition_text                9840 non-null   float64\n",
      " 4   wind_mph                      9840 non-null   float64\n",
      " 5   wind_degree                   9840 non-null   int64  \n",
      " 6   wind_direction                9840 non-null   float64\n",
      " 7   pressure_mb                   9840 non-null   float64\n",
      " 8   pressure_in                   9840 non-null   float64\n",
      " 9   precip_mm                     9840 non-null   float64\n",
      " 10  precip_in                     9840 non-null   float64\n",
      " 11  humidity                      9840 non-null   int64  \n",
      " 12  cloud                         9840 non-null   int64  \n",
      " 13  feels_like_celsius            9840 non-null   float64\n",
      " 14  visibility_miles              9840 non-null   float64\n",
      " 15  uv_index                      9840 non-null   float64\n",
      " 16  gust_mph                      9840 non-null   float64\n",
      " 17  air_quality_Carbon_Monoxide   9840 non-null   float64\n",
      " 18  air_quality_Ozone             9840 non-null   float64\n",
      " 19  air_quality_Nitrogen_dioxide  9840 non-null   float64\n",
      " 20  air_quality_Sulphur_dioxide   9840 non-null   float64\n",
      " 21  air_quality_PM2.5             9840 non-null   float64\n",
      " 22  air_quality_PM10              9840 non-null   float64\n",
      " 23  air_quality_us-epa-index      9840 non-null   int64  \n",
      " 24  air_quality_gb-defra-index    9840 non-null   int64  \n",
      " 25  moon_phase                    9840 non-null   float64\n",
      " 26  moon_illumination             9840 non-null   int64  \n",
      "dtypes: float64(21), int64(6)\n",
      "memory usage: 2.0 MB\n"
     ]
    }
   ],
   "source": [
    "data.info()"
   ]
  },
  {
   "cell_type": "code",
   "execution_count": 18,
   "metadata": {},
   "outputs": [
    {
     "data": {
      "text/html": [
       "<div>\n",
       "<style scoped>\n",
       "    .dataframe tbody tr th:only-of-type {\n",
       "        vertical-align: middle;\n",
       "    }\n",
       "\n",
       "    .dataframe tbody tr th {\n",
       "        vertical-align: top;\n",
       "    }\n",
       "\n",
       "    .dataframe thead th {\n",
       "        text-align: right;\n",
       "    }\n",
       "</style>\n",
       "<table border=\"1\" class=\"dataframe\">\n",
       "  <thead>\n",
       "    <tr style=\"text-align: right;\">\n",
       "      <th></th>\n",
       "      <th>latitude</th>\n",
       "      <th>longitude</th>\n",
       "      <th>temperature_celsius</th>\n",
       "      <th>condition_text</th>\n",
       "      <th>wind_mph</th>\n",
       "      <th>wind_degree</th>\n",
       "      <th>wind_direction</th>\n",
       "      <th>pressure_mb</th>\n",
       "      <th>pressure_in</th>\n",
       "      <th>precip_mm</th>\n",
       "      <th>...</th>\n",
       "      <th>air_quality_Carbon_Monoxide</th>\n",
       "      <th>air_quality_Ozone</th>\n",
       "      <th>air_quality_Nitrogen_dioxide</th>\n",
       "      <th>air_quality_Sulphur_dioxide</th>\n",
       "      <th>air_quality_PM2.5</th>\n",
       "      <th>air_quality_PM10</th>\n",
       "      <th>air_quality_us-epa-index</th>\n",
       "      <th>air_quality_gb-defra-index</th>\n",
       "      <th>moon_phase</th>\n",
       "      <th>moon_illumination</th>\n",
       "    </tr>\n",
       "  </thead>\n",
       "  <tbody>\n",
       "    <tr>\n",
       "      <th>0</th>\n",
       "      <td>24.57</td>\n",
       "      <td>77.72</td>\n",
       "      <td>27.5</td>\n",
       "      <td>16.0</td>\n",
       "      <td>12.8</td>\n",
       "      <td>281</td>\n",
       "      <td>14.0</td>\n",
       "      <td>1008.0</td>\n",
       "      <td>29.77</td>\n",
       "      <td>0.0</td>\n",
       "      <td>...</td>\n",
       "      <td>243.7</td>\n",
       "      <td>45.8</td>\n",
       "      <td>1.7</td>\n",
       "      <td>3.1</td>\n",
       "      <td>12.6</td>\n",
       "      <td>18.5</td>\n",
       "      <td>1</td>\n",
       "      <td>2</td>\n",
       "      <td>5.0</td>\n",
       "      <td>93</td>\n",
       "    </tr>\n",
       "    <tr>\n",
       "      <th>1</th>\n",
       "      <td>23.33</td>\n",
       "      <td>77.80</td>\n",
       "      <td>27.5</td>\n",
       "      <td>22.0</td>\n",
       "      <td>9.6</td>\n",
       "      <td>287</td>\n",
       "      <td>14.0</td>\n",
       "      <td>1008.0</td>\n",
       "      <td>29.78</td>\n",
       "      <td>0.0</td>\n",
       "      <td>...</td>\n",
       "      <td>240.3</td>\n",
       "      <td>38.3</td>\n",
       "      <td>2.1</td>\n",
       "      <td>2.6</td>\n",
       "      <td>10.7</td>\n",
       "      <td>14.2</td>\n",
       "      <td>1</td>\n",
       "      <td>1</td>\n",
       "      <td>5.0</td>\n",
       "      <td>93</td>\n",
       "    </tr>\n",
       "    <tr>\n",
       "      <th>2</th>\n",
       "      <td>22.07</td>\n",
       "      <td>78.93</td>\n",
       "      <td>26.3</td>\n",
       "      <td>16.0</td>\n",
       "      <td>11.4</td>\n",
       "      <td>317</td>\n",
       "      <td>7.0</td>\n",
       "      <td>1009.0</td>\n",
       "      <td>29.78</td>\n",
       "      <td>0.0</td>\n",
       "      <td>...</td>\n",
       "      <td>220.3</td>\n",
       "      <td>57.2</td>\n",
       "      <td>0.6</td>\n",
       "      <td>1.7</td>\n",
       "      <td>16.8</td>\n",
       "      <td>20.7</td>\n",
       "      <td>2</td>\n",
       "      <td>2</td>\n",
       "      <td>5.0</td>\n",
       "      <td>93</td>\n",
       "    </tr>\n",
       "    <tr>\n",
       "      <th>3</th>\n",
       "      <td>21.86</td>\n",
       "      <td>77.93</td>\n",
       "      <td>25.6</td>\n",
       "      <td>1.0</td>\n",
       "      <td>10.5</td>\n",
       "      <td>297</td>\n",
       "      <td>14.0</td>\n",
       "      <td>1009.0</td>\n",
       "      <td>29.80</td>\n",
       "      <td>0.0</td>\n",
       "      <td>...</td>\n",
       "      <td>200.3</td>\n",
       "      <td>25.0</td>\n",
       "      <td>1.2</td>\n",
       "      <td>1.1</td>\n",
       "      <td>4.9</td>\n",
       "      <td>6.6</td>\n",
       "      <td>1</td>\n",
       "      <td>1</td>\n",
       "      <td>5.0</td>\n",
       "      <td>93</td>\n",
       "    </tr>\n",
       "    <tr>\n",
       "      <th>4</th>\n",
       "      <td>22.75</td>\n",
       "      <td>77.72</td>\n",
       "      <td>27.2</td>\n",
       "      <td>1.0</td>\n",
       "      <td>10.1</td>\n",
       "      <td>274</td>\n",
       "      <td>13.0</td>\n",
       "      <td>1009.0</td>\n",
       "      <td>29.79</td>\n",
       "      <td>0.0</td>\n",
       "      <td>...</td>\n",
       "      <td>257.0</td>\n",
       "      <td>30.8</td>\n",
       "      <td>2.2</td>\n",
       "      <td>1.8</td>\n",
       "      <td>11.4</td>\n",
       "      <td>14.8</td>\n",
       "      <td>1</td>\n",
       "      <td>1</td>\n",
       "      <td>5.0</td>\n",
       "      <td>93</td>\n",
       "    </tr>\n",
       "  </tbody>\n",
       "</table>\n",
       "<p>5 rows × 27 columns</p>\n",
       "</div>"
      ],
      "text/plain": [
       "   latitude  longitude  temperature_celsius  condition_text  wind_mph  \\\n",
       "0     24.57      77.72                 27.5            16.0      12.8   \n",
       "1     23.33      77.80                 27.5            22.0       9.6   \n",
       "2     22.07      78.93                 26.3            16.0      11.4   \n",
       "3     21.86      77.93                 25.6             1.0      10.5   \n",
       "4     22.75      77.72                 27.2             1.0      10.1   \n",
       "\n",
       "   wind_degree  wind_direction  pressure_mb  pressure_in  precip_mm  ...  \\\n",
       "0          281            14.0       1008.0        29.77        0.0  ...   \n",
       "1          287            14.0       1008.0        29.78        0.0  ...   \n",
       "2          317             7.0       1009.0        29.78        0.0  ...   \n",
       "3          297            14.0       1009.0        29.80        0.0  ...   \n",
       "4          274            13.0       1009.0        29.79        0.0  ...   \n",
       "\n",
       "   air_quality_Carbon_Monoxide  air_quality_Ozone  \\\n",
       "0                        243.7               45.8   \n",
       "1                        240.3               38.3   \n",
       "2                        220.3               57.2   \n",
       "3                        200.3               25.0   \n",
       "4                        257.0               30.8   \n",
       "\n",
       "   air_quality_Nitrogen_dioxide  air_quality_Sulphur_dioxide  \\\n",
       "0                           1.7                          3.1   \n",
       "1                           2.1                          2.6   \n",
       "2                           0.6                          1.7   \n",
       "3                           1.2                          1.1   \n",
       "4                           2.2                          1.8   \n",
       "\n",
       "   air_quality_PM2.5  air_quality_PM10  air_quality_us-epa-index  \\\n",
       "0               12.6              18.5                         1   \n",
       "1               10.7              14.2                         1   \n",
       "2               16.8              20.7                         2   \n",
       "3                4.9               6.6                         1   \n",
       "4               11.4              14.8                         1   \n",
       "\n",
       "   air_quality_gb-defra-index  moon_phase  moon_illumination  \n",
       "0                           2         5.0                 93  \n",
       "1                           1         5.0                 93  \n",
       "2                           2         5.0                 93  \n",
       "3                           1         5.0                 93  \n",
       "4                           1         5.0                 93  \n",
       "\n",
       "[5 rows x 27 columns]"
      ]
     },
     "execution_count": 18,
     "metadata": {},
     "output_type": "execute_result"
    }
   ],
   "source": [
    "data.head()"
   ]
  },
  {
   "cell_type": "code",
   "execution_count": 19,
   "metadata": {},
   "outputs": [
    {
     "data": {
      "text/plain": [
       "count    9840.000000\n",
       "mean        4.953557\n",
       "std         1.868091\n",
       "min         0.000000\n",
       "25%         5.000000\n",
       "50%         6.000000\n",
       "75%         6.000000\n",
       "max         6.000000\n",
       "Name: visibility_miles, dtype: float64"
      ]
     },
     "execution_count": 19,
     "metadata": {},
     "output_type": "execute_result"
    }
   ],
   "source": [
    "data['visibility_miles'].describe()"
   ]
  },
  {
   "cell_type": "code",
   "execution_count": 10,
   "metadata": {},
   "outputs": [],
   "source": [
    "csv_file_path = 'C:/Users/Aravind/Work/PROJECTS/Cloudburst-Prediction-System/data/processed/Data-final.csv'\n",
    "data.to_csv(csv_file_path, index=False)"
   ]
  },
  {
   "cell_type": "code",
   "execution_count": 11,
   "metadata": {},
   "outputs": [],
   "source": [
    "X = data.drop(['cloud'],axis=1)\n",
    "y = data['cloud']"
   ]
  },
  {
   "cell_type": "code",
   "execution_count": 12,
   "metadata": {},
   "outputs": [
    {
     "name": "stderr",
     "output_type": "stream",
     "text": [
      "c:\\Users\\Aravind\\AppData\\Local\\Programs\\Python\\Python311\\Lib\\site-packages\\sklearn\\utils\\validation.py:767: FutureWarning: is_sparse is deprecated and will be removed in a future version. Check `isinstance(dtype, pd.SparseDtype)` instead.\n",
      "  if not hasattr(array, \"sparse\") and array.dtypes.apply(is_sparse).any():\n",
      "c:\\Users\\Aravind\\AppData\\Local\\Programs\\Python\\Python311\\Lib\\site-packages\\sklearn\\utils\\validation.py:605: FutureWarning: is_sparse is deprecated and will be removed in a future version. Check `isinstance(dtype, pd.SparseDtype)` instead.\n",
      "  if is_sparse(pd_dtype):\n",
      "c:\\Users\\Aravind\\AppData\\Local\\Programs\\Python\\Python311\\Lib\\site-packages\\sklearn\\utils\\validation.py:614: FutureWarning: is_sparse is deprecated and will be removed in a future version. Check `isinstance(dtype, pd.SparseDtype)` instead.\n",
      "  if is_sparse(pd_dtype) or not is_extension_array_dtype(pd_dtype):\n"
     ]
    }
   ],
   "source": [
    "from sklearn.decomposition import PCA\n",
    "\n",
    "pca = PCA(n_components=0.95)\n",
    "X_pca_reduced = pca.fit_transform(X)"
   ]
  },
  {
   "cell_type": "code",
   "execution_count": 13,
   "metadata": {},
   "outputs": [
    {
     "data": {
      "text/plain": [
       "(9840, 26)"
      ]
     },
     "execution_count": 13,
     "metadata": {},
     "output_type": "execute_result"
    }
   ],
   "source": [
    "X.shape"
   ]
  },
  {
   "cell_type": "code",
   "execution_count": 14,
   "metadata": {},
   "outputs": [
    {
     "data": {
      "text/plain": [
       "(9840, 2)"
      ]
     },
     "execution_count": 14,
     "metadata": {},
     "output_type": "execute_result"
    }
   ],
   "source": [
    "X_pca_reduced.shape"
   ]
  },
  {
   "cell_type": "code",
   "execution_count": 15,
   "metadata": {},
   "outputs": [
    {
     "name": "stderr",
     "output_type": "stream",
     "text": [
      "c:\\Users\\Aravind\\AppData\\Local\\Programs\\Python\\Python311\\Lib\\site-packages\\sklearn\\utils\\validation.py:767: FutureWarning: is_sparse is deprecated and will be removed in a future version. Check `isinstance(dtype, pd.SparseDtype)` instead.\n",
      "  if not hasattr(array, \"sparse\") and array.dtypes.apply(is_sparse).any():\n",
      "c:\\Users\\Aravind\\AppData\\Local\\Programs\\Python\\Python311\\Lib\\site-packages\\sklearn\\utils\\validation.py:605: FutureWarning: is_sparse is deprecated and will be removed in a future version. Check `isinstance(dtype, pd.SparseDtype)` instead.\n",
      "  if is_sparse(pd_dtype):\n",
      "c:\\Users\\Aravind\\AppData\\Local\\Programs\\Python\\Python311\\Lib\\site-packages\\sklearn\\utils\\validation.py:614: FutureWarning: is_sparse is deprecated and will be removed in a future version. Check `isinstance(dtype, pd.SparseDtype)` instead.\n",
      "  if is_sparse(pd_dtype) or not is_extension_array_dtype(pd_dtype):\n",
      "c:\\Users\\Aravind\\AppData\\Local\\Programs\\Python\\Python311\\Lib\\site-packages\\sklearn\\utils\\validation.py:767: FutureWarning: is_sparse is deprecated and will be removed in a future version. Check `isinstance(dtype, pd.SparseDtype)` instead.\n",
      "  if not hasattr(array, \"sparse\") and array.dtypes.apply(is_sparse).any():\n",
      "c:\\Users\\Aravind\\AppData\\Local\\Programs\\Python\\Python311\\Lib\\site-packages\\sklearn\\utils\\validation.py:605: FutureWarning: is_sparse is deprecated and will be removed in a future version. Check `isinstance(dtype, pd.SparseDtype)` instead.\n",
      "  if is_sparse(pd_dtype):\n",
      "c:\\Users\\Aravind\\AppData\\Local\\Programs\\Python\\Python311\\Lib\\site-packages\\sklearn\\utils\\validation.py:614: FutureWarning: is_sparse is deprecated and will be removed in a future version. Check `isinstance(dtype, pd.SparseDtype)` instead.\n",
      "  if is_sparse(pd_dtype) or not is_extension_array_dtype(pd_dtype):\n"
     ]
    }
   ],
   "source": [
    "from sklearn.random_projection import GaussianRandomProjection\n",
    "\n",
    "grp = GaussianRandomProjection(n_components=2)\n",
    "X_grp_reduced = grp.fit_transform(X)"
   ]
  },
  {
   "cell_type": "code",
   "execution_count": 16,
   "metadata": {},
   "outputs": [
    {
     "name": "stderr",
     "output_type": "stream",
     "text": [
      "c:\\Users\\Aravind\\AppData\\Local\\Programs\\Python\\Python311\\Lib\\site-packages\\sklearn\\utils\\validation.py:767: FutureWarning: is_sparse is deprecated and will be removed in a future version. Check `isinstance(dtype, pd.SparseDtype)` instead.\n",
      "  if not hasattr(array, \"sparse\") and array.dtypes.apply(is_sparse).any():\n",
      "c:\\Users\\Aravind\\AppData\\Local\\Programs\\Python\\Python311\\Lib\\site-packages\\sklearn\\utils\\validation.py:605: FutureWarning: is_sparse is deprecated and will be removed in a future version. Check `isinstance(dtype, pd.SparseDtype)` instead.\n",
      "  if is_sparse(pd_dtype):\n",
      "c:\\Users\\Aravind\\AppData\\Local\\Programs\\Python\\Python311\\Lib\\site-packages\\sklearn\\utils\\validation.py:614: FutureWarning: is_sparse is deprecated and will be removed in a future version. Check `isinstance(dtype, pd.SparseDtype)` instead.\n",
      "  if is_sparse(pd_dtype) or not is_extension_array_dtype(pd_dtype):\n"
     ]
    }
   ],
   "source": [
    "from sklearn.manifold import LocallyLinearEmbedding\n",
    "\n",
    "lle = LocallyLinearEmbedding(n_components=2 , n_neighbors=10)\n",
    "X_lle_reduced = lle.fit_transform(X)\n"
   ]
  },
  {
   "cell_type": "code",
   "execution_count": 17,
   "metadata": {},
   "outputs": [],
   "source": [
    "import pickle\n",
    "\n",
    "with open('pkl/x.pkl', 'wb') as file:\n",
    "    pickle.dump(X, file)\n",
    "with open('pkl/pca.pkl', 'wb') as file:\n",
    "    pickle.dump(X_pca_reduced, file)\n",
    "with open('pkl/grp.pkl', 'wb') as file:\n",
    "    pickle.dump(X_grp_reduced, file)\n",
    "with open('pkl/lle.pkl', 'wb') as file:\n",
    "    pickle.dump(X_lle_reduced, file)\n",
    "with open('pkl/y.pkl', 'wb') as file:\n",
    "    pickle.dump(y, file)\n"
   ]
  }
 ],
 "metadata": {
  "kernelspec": {
   "display_name": "Python 3",
   "language": "python",
   "name": "python3"
  },
  "language_info": {
   "codemirror_mode": {
    "name": "ipython",
    "version": 3
   },
   "file_extension": ".py",
   "mimetype": "text/x-python",
   "name": "python",
   "nbconvert_exporter": "python",
   "pygments_lexer": "ipython3",
   "version": "3.11.5"
  },
  "orig_nbformat": 4
 },
 "nbformat": 4,
 "nbformat_minor": 2
}
