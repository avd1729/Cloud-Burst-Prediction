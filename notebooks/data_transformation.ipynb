{
 "cells": [
  {
   "cell_type": "code",
   "execution_count": 2,
   "metadata": {},
   "outputs": [],
   "source": [
    "import numpy as np\n",
    "import pandas as pd"
   ]
  },
  {
   "cell_type": "code",
   "execution_count": 3,
   "metadata": {},
   "outputs": [],
   "source": [
    "data = pd.read_csv('C:/Users/Aravind/Work/PROJECTS/Cloudburst-Prediction-System/data/interim/Data-reduced.csv')"
   ]
  },
  {
   "cell_type": "code",
   "execution_count": 4,
   "metadata": {},
   "outputs": [
    {
     "name": "stdout",
     "output_type": "stream",
     "text": [
      "<class 'pandas.core.frame.DataFrame'>\n",
      "RangeIndex: 9840 entries, 0 to 9839\n",
      "Data columns (total 32 columns):\n",
      " #   Column                        Non-Null Count  Dtype  \n",
      "---  ------                        --------------  -----  \n",
      " 0   location_name                 9840 non-null   object \n",
      " 1   latitude                      9840 non-null   float64\n",
      " 2   longitude                     9840 non-null   float64\n",
      " 3   temperature_celsius           9840 non-null   float64\n",
      " 4   condition_text                9840 non-null   object \n",
      " 5   wind_mph                      9840 non-null   float64\n",
      " 6   wind_degree                   9840 non-null   int64  \n",
      " 7   wind_direction                9840 non-null   object \n",
      " 8   pressure_mb                   9840 non-null   float64\n",
      " 9   pressure_in                   9840 non-null   float64\n",
      " 10  precip_mm                     9840 non-null   float64\n",
      " 11  precip_in                     9840 non-null   float64\n",
      " 12  humidity                      9840 non-null   int64  \n",
      " 13  cloud                         9840 non-null   int64  \n",
      " 14  feels_like_celsius            9840 non-null   float64\n",
      " 15  visibility_miles              9840 non-null   float64\n",
      " 16  uv_index                      9840 non-null   float64\n",
      " 17  gust_mph                      9840 non-null   float64\n",
      " 18  air_quality_Carbon_Monoxide   9840 non-null   float64\n",
      " 19  air_quality_Ozone             9840 non-null   float64\n",
      " 20  air_quality_Nitrogen_dioxide  9840 non-null   float64\n",
      " 21  air_quality_Sulphur_dioxide   9840 non-null   float64\n",
      " 22  air_quality_PM2.5             9840 non-null   float64\n",
      " 23  air_quality_PM10              9840 non-null   float64\n",
      " 24  air_quality_us-epa-index      9840 non-null   int64  \n",
      " 25  air_quality_gb-defra-index    9840 non-null   int64  \n",
      " 26  sunrise                       9840 non-null   object \n",
      " 27  sunset                        9840 non-null   object \n",
      " 28  moonrise                      9291 non-null   object \n",
      " 29  moonset                       9840 non-null   object \n",
      " 30  moon_phase                    9840 non-null   object \n",
      " 31  moon_illumination             9840 non-null   int64  \n",
      "dtypes: float64(18), int64(6), object(8)\n",
      "memory usage: 2.4+ MB\n"
     ]
    }
   ],
   "source": [
    "data.info()"
   ]
  },
  {
   "cell_type": "code",
   "execution_count": 5,
   "metadata": {},
   "outputs": [],
   "source": [
    "data = data.drop(['sunrise','sunset','moonrise','moonset','location_name'],axis=1)"
   ]
  },
  {
   "cell_type": "code",
   "execution_count": 6,
   "metadata": {},
   "outputs": [
    {
     "data": {
      "text/plain": [
       "condition_text\n",
       "Clear                                  2423\n",
       "Partly cloudy                          1866\n",
       "Mist                                   1395\n",
       "Light rain shower                       949\n",
       "Patchy rain possible                    943\n",
       "Sunny                                   772\n",
       "Cloudy                                  414\n",
       "Moderate or heavy rain shower           244\n",
       "Overcast                                239\n",
       "Fog                                     216\n",
       "Light rain                              103\n",
       "Moderate or heavy rain with thunder      55\n",
       "Moderate rain                            40\n",
       "Torrential rain shower                   30\n",
       "Light drizzle                            29\n",
       "Thundery outbreaks possible              26\n",
       "Moderate rain at times                   23\n",
       "Patchy light drizzle                     21\n",
       "Patchy light rain                        19\n",
       "Heavy rain                               17\n",
       "Patchy light rain with thunder            8\n",
       "Light snow showers                        3\n",
       "Heavy rain at times                       2\n",
       "Patchy snow possible                      2\n",
       "Moderate or heavy snow showers            1\n",
       "Name: count, dtype: int64"
      ]
     },
     "execution_count": 6,
     "metadata": {},
     "output_type": "execute_result"
    }
   ],
   "source": [
    "data['condition_text'].value_counts()"
   ]
  },
  {
   "cell_type": "code",
   "execution_count": 7,
   "metadata": {},
   "outputs": [
    {
     "data": {
      "text/plain": [
       "moon_phase\n",
       "Waning Crescent    3283\n",
       "Waning Gibbous     3275\n",
       "Full Moon          1100\n",
       "New Moon           1094\n",
       "Last Quarter        545\n",
       "Waxing Gibbous      543\n",
       "Name: count, dtype: int64"
      ]
     },
     "execution_count": 7,
     "metadata": {},
     "output_type": "execute_result"
    }
   ],
   "source": [
    "data['moon_phase'].value_counts()"
   ]
  },
  {
   "cell_type": "code",
   "execution_count": 8,
   "metadata": {},
   "outputs": [
    {
     "data": {
      "text/plain": [
       "wind_direction\n",
       "W      1523\n",
       "WSW    1392\n",
       "WNW     916\n",
       "E       694\n",
       "ENE     647\n",
       "NE      569\n",
       "SW      556\n",
       "NW      524\n",
       "SE      517\n",
       "ESE     452\n",
       "N       395\n",
       "SSE     337\n",
       "NNE     335\n",
       "SSW     331\n",
       "NNW     329\n",
       "S       323\n",
       "Name: count, dtype: int64"
      ]
     },
     "execution_count": 8,
     "metadata": {},
     "output_type": "execute_result"
    }
   ],
   "source": [
    "data['wind_direction'].value_counts()"
   ]
  },
  {
   "cell_type": "code",
   "execution_count": 9,
   "metadata": {},
   "outputs": [],
   "source": [
    "from sklearn.preprocessing import OrdinalEncoder\n",
    "\n",
    "encoder = OrdinalEncoder()\n",
    "data[['condition_text','wind_direction','moon_phase']] = encoder.fit_transform(data[['condition_text','wind_direction','moon_phase']])"
   ]
  },
  {
   "cell_type": "code",
   "execution_count": 10,
   "metadata": {},
   "outputs": [
    {
     "name": "stdout",
     "output_type": "stream",
     "text": [
      "<class 'pandas.core.frame.DataFrame'>\n",
      "RangeIndex: 9840 entries, 0 to 9839\n",
      "Data columns (total 27 columns):\n",
      " #   Column                        Non-Null Count  Dtype  \n",
      "---  ------                        --------------  -----  \n",
      " 0   latitude                      9840 non-null   float64\n",
      " 1   longitude                     9840 non-null   float64\n",
      " 2   temperature_celsius           9840 non-null   float64\n",
      " 3   condition_text                9840 non-null   float64\n",
      " 4   wind_mph                      9840 non-null   float64\n",
      " 5   wind_degree                   9840 non-null   int64  \n",
      " 6   wind_direction                9840 non-null   float64\n",
      " 7   pressure_mb                   9840 non-null   float64\n",
      " 8   pressure_in                   9840 non-null   float64\n",
      " 9   precip_mm                     9840 non-null   float64\n",
      " 10  precip_in                     9840 non-null   float64\n",
      " 11  humidity                      9840 non-null   int64  \n",
      " 12  cloud                         9840 non-null   int64  \n",
      " 13  feels_like_celsius            9840 non-null   float64\n",
      " 14  visibility_miles              9840 non-null   float64\n",
      " 15  uv_index                      9840 non-null   float64\n",
      " 16  gust_mph                      9840 non-null   float64\n",
      " 17  air_quality_Carbon_Monoxide   9840 non-null   float64\n",
      " 18  air_quality_Ozone             9840 non-null   float64\n",
      " 19  air_quality_Nitrogen_dioxide  9840 non-null   float64\n",
      " 20  air_quality_Sulphur_dioxide   9840 non-null   float64\n",
      " 21  air_quality_PM2.5             9840 non-null   float64\n",
      " 22  air_quality_PM10              9840 non-null   float64\n",
      " 23  air_quality_us-epa-index      9840 non-null   int64  \n",
      " 24  air_quality_gb-defra-index    9840 non-null   int64  \n",
      " 25  moon_phase                    9840 non-null   float64\n",
      " 26  moon_illumination             9840 non-null   int64  \n",
      "dtypes: float64(21), int64(6)\n",
      "memory usage: 2.0 MB\n"
     ]
    }
   ],
   "source": [
    "data.info()"
   ]
  },
  {
   "cell_type": "code",
   "execution_count": 11,
   "metadata": {},
   "outputs": [],
   "source": [
    "csv_file_path = 'C:/Users/Aravind/Work/PROJECTS/Cloudburst-Prediction-System/data/processed/Data-final.csv'\n",
    "data.to_csv(csv_file_path, index=False)"
   ]
  },
  {
   "cell_type": "code",
   "execution_count": 12,
   "metadata": {},
   "outputs": [],
   "source": [
    "X = data.drop(['cloud'],axis=1)\n",
    "y = data['cloud']"
   ]
  },
  {
   "cell_type": "code",
   "execution_count": 13,
   "metadata": {},
   "outputs": [],
   "source": [
    "from sklearn.decomposition import PCA\n",
    "\n",
    "pca = PCA(n_components=0.95)\n",
    "X_pca_reduced = pca.fit_transform(X)"
   ]
  },
  {
   "cell_type": "code",
   "execution_count": 14,
   "metadata": {},
   "outputs": [
    {
     "data": {
      "text/plain": [
       "(9840, 26)"
      ]
     },
     "execution_count": 14,
     "metadata": {},
     "output_type": "execute_result"
    }
   ],
   "source": [
    "X.shape"
   ]
  },
  {
   "cell_type": "code",
   "execution_count": 15,
   "metadata": {},
   "outputs": [
    {
     "data": {
      "text/plain": [
       "(9840, 2)"
      ]
     },
     "execution_count": 15,
     "metadata": {},
     "output_type": "execute_result"
    }
   ],
   "source": [
    "X_pca_reduced.shape"
   ]
  },
  {
   "cell_type": "code",
   "execution_count": 16,
   "metadata": {},
   "outputs": [],
   "source": [
    "from sklearn.random_projection import GaussianRandomProjection\n",
    "\n",
    "grp = GaussianRandomProjection(n_components=2)\n",
    "X_grp_reduced = grp.fit_transform(X)"
   ]
  },
  {
   "cell_type": "code",
   "execution_count": 17,
   "metadata": {},
   "outputs": [],
   "source": [
    "from sklearn.manifold import LocallyLinearEmbedding\n",
    "\n",
    "lle = LocallyLinearEmbedding(n_components=2 , n_neighbors=10)\n",
    "X_lle_reduced = lle.fit_transform(X)\n"
   ]
  },
  {
   "cell_type": "code",
   "execution_count": 18,
   "metadata": {},
   "outputs": [],
   "source": [
    "import pickle\n",
    "\n",
    "with open('pkl/x.pkl', 'wb') as file:\n",
    "    pickle.dump(X, file)\n",
    "with open('pkl/pca.pkl', 'wb') as file:\n",
    "    pickle.dump(X_pca_reduced, file)\n",
    "with open('pkl/grp.pkl', 'wb') as file:\n",
    "    pickle.dump(X_grp_reduced, file)\n",
    "with open('pkl/lle.pkl', 'wb') as file:\n",
    "    pickle.dump(X_lle_reduced, file)\n",
    "with open('pkl/y.pkl', 'wb') as file:\n",
    "    pickle.dump(y, file)\n"
   ]
  }
 ],
 "metadata": {
  "kernelspec": {
   "display_name": "Python 3",
   "language": "python",
   "name": "python3"
  },
  "language_info": {
   "codemirror_mode": {
    "name": "ipython",
    "version": 3
   },
   "file_extension": ".py",
   "mimetype": "text/x-python",
   "name": "python",
   "nbconvert_exporter": "python",
   "pygments_lexer": "ipython3",
   "version": "3.11.3"
  },
  "orig_nbformat": 4
 },
 "nbformat": 4,
 "nbformat_minor": 2
}
