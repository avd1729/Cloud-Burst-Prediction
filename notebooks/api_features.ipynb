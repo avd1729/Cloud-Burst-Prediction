{
 "cells": [
  {
   "cell_type": "code",
   "execution_count": 120,
   "metadata": {},
   "outputs": [],
   "source": [
    "import warnings\n",
    "warnings.filterwarnings('ignore')"
   ]
  },
  {
   "cell_type": "code",
   "execution_count": 121,
   "metadata": {},
   "outputs": [],
   "source": [
    "import numpy as np\n",
    "import pandas as pd\n",
    "import tensorflow as tf"
   ]
  },
  {
   "cell_type": "code",
   "execution_count": 122,
   "metadata": {},
   "outputs": [],
   "source": [
    "data = pd.read_csv('C:/Users/Aravind/Work/PROJECTS/Cloudburst-Prediction-System/data/processed/Data-final.csv')"
   ]
  },
  {
   "cell_type": "code",
   "execution_count": 123,
   "metadata": {},
   "outputs": [
    {
     "name": "stdout",
     "output_type": "stream",
     "text": [
      "<class 'pandas.core.frame.DataFrame'>\n",
      "RangeIndex: 9840 entries, 0 to 9839\n",
      "Data columns (total 27 columns):\n",
      " #   Column                        Non-Null Count  Dtype  \n",
      "---  ------                        --------------  -----  \n",
      " 0   latitude                      9840 non-null   float64\n",
      " 1   longitude                     9840 non-null   float64\n",
      " 2   temperature_celsius           9840 non-null   float64\n",
      " 3   condition_text                9840 non-null   float64\n",
      " 4   wind_mph                      9840 non-null   float64\n",
      " 5   wind_degree                   9840 non-null   int64  \n",
      " 6   wind_direction                9840 non-null   float64\n",
      " 7   pressure_mb                   9840 non-null   float64\n",
      " 8   pressure_in                   9840 non-null   float64\n",
      " 9   precip_mm                     9840 non-null   float64\n",
      " 10  precip_in                     9840 non-null   float64\n",
      " 11  humidity                      9840 non-null   int64  \n",
      " 12  cloud                         9840 non-null   int64  \n",
      " 13  feels_like_celsius            9840 non-null   float64\n",
      " 14  visibility_miles              9840 non-null   float64\n",
      " 15  uv_index                      9840 non-null   float64\n",
      " 16  gust_mph                      9840 non-null   float64\n",
      " 17  air_quality_Carbon_Monoxide   9840 non-null   float64\n",
      " 18  air_quality_Ozone             9840 non-null   float64\n",
      " 19  air_quality_Nitrogen_dioxide  9840 non-null   float64\n",
      " 20  air_quality_Sulphur_dioxide   9840 non-null   float64\n",
      " 21  air_quality_PM2.5             9840 non-null   float64\n",
      " 22  air_quality_PM10              9840 non-null   float64\n",
      " 23  air_quality_us-epa-index      9840 non-null   int64  \n",
      " 24  air_quality_gb-defra-index    9840 non-null   int64  \n",
      " 25  moon_phase                    9840 non-null   float64\n",
      " 26  moon_illumination             9840 non-null   int64  \n",
      "dtypes: float64(21), int64(6)\n",
      "memory usage: 2.0 MB\n"
     ]
    }
   ],
   "source": [
    "data.info()"
   ]
  },
  {
   "cell_type": "code",
   "execution_count": 124,
   "metadata": {},
   "outputs": [],
   "source": [
    "data = data[['latitude' , 'longitude' ,'temperature_celsius' , 'feels_like_celsius' , 'pressure_mb' , 'humidity' ,  'wind_mph' , 'wind_degree' , 'cloud']]"
   ]
  },
  {
   "cell_type": "code",
   "execution_count": 125,
   "metadata": {},
   "outputs": [
    {
     "name": "stdout",
     "output_type": "stream",
     "text": [
      "<class 'pandas.core.frame.DataFrame'>\n",
      "RangeIndex: 9840 entries, 0 to 9839\n",
      "Data columns (total 9 columns):\n",
      " #   Column               Non-Null Count  Dtype  \n",
      "---  ------               --------------  -----  \n",
      " 0   latitude             9840 non-null   float64\n",
      " 1   longitude            9840 non-null   float64\n",
      " 2   temperature_celsius  9840 non-null   float64\n",
      " 3   feels_like_celsius   9840 non-null   float64\n",
      " 4   pressure_mb          9840 non-null   float64\n",
      " 5   humidity             9840 non-null   int64  \n",
      " 6   wind_mph             9840 non-null   float64\n",
      " 7   wind_degree          9840 non-null   int64  \n",
      " 8   cloud                9840 non-null   int64  \n",
      "dtypes: float64(6), int64(3)\n",
      "memory usage: 692.0 KB\n"
     ]
    }
   ],
   "source": [
    "data.info()"
   ]
  },
  {
   "cell_type": "code",
   "execution_count": 126,
   "metadata": {},
   "outputs": [],
   "source": [
    "conversion_factor = 273.15\n",
    "data['temperature_celsius'] = data['temperature_celsius'].add(conversion_factor)\n",
    "data['feels_like_celsius'] = data['feels_like_celsius'].add(conversion_factor)"
   ]
  },
  {
   "cell_type": "code",
   "execution_count": 127,
   "metadata": {},
   "outputs": [],
   "source": [
    "new_column_name = 'temperature_kelvin'\n",
    "data = data.rename(columns={'temperature_celsius': new_column_name})"
   ]
  },
  {
   "cell_type": "code",
   "execution_count": 128,
   "metadata": {},
   "outputs": [],
   "source": [
    "new_column_name = 'feels_like_kelvin'\n",
    "data = data.rename(columns={'feels_like_celsius': new_column_name})"
   ]
  },
  {
   "cell_type": "code",
   "execution_count": 129,
   "metadata": {},
   "outputs": [
    {
     "name": "stdout",
     "output_type": "stream",
     "text": [
      "<class 'pandas.core.frame.DataFrame'>\n",
      "RangeIndex: 9840 entries, 0 to 9839\n",
      "Data columns (total 9 columns):\n",
      " #   Column              Non-Null Count  Dtype  \n",
      "---  ------              --------------  -----  \n",
      " 0   latitude            9840 non-null   float64\n",
      " 1   longitude           9840 non-null   float64\n",
      " 2   temperature_kelvin  9840 non-null   float64\n",
      " 3   feels_like_kelvin   9840 non-null   float64\n",
      " 4   pressure_mb         9840 non-null   float64\n",
      " 5   humidity            9840 non-null   int64  \n",
      " 6   wind_mph            9840 non-null   float64\n",
      " 7   wind_degree         9840 non-null   int64  \n",
      " 8   cloud               9840 non-null   int64  \n",
      "dtypes: float64(6), int64(3)\n",
      "memory usage: 692.0 KB\n"
     ]
    }
   ],
   "source": [
    "data.info()"
   ]
  },
  {
   "cell_type": "code",
   "execution_count": 130,
   "metadata": {},
   "outputs": [
    {
     "data": {
      "text/html": [
       "<div>\n",
       "<style scoped>\n",
       "    .dataframe tbody tr th:only-of-type {\n",
       "        vertical-align: middle;\n",
       "    }\n",
       "\n",
       "    .dataframe tbody tr th {\n",
       "        vertical-align: top;\n",
       "    }\n",
       "\n",
       "    .dataframe thead th {\n",
       "        text-align: right;\n",
       "    }\n",
       "</style>\n",
       "<table border=\"1\" class=\"dataframe\">\n",
       "  <thead>\n",
       "    <tr style=\"text-align: right;\">\n",
       "      <th></th>\n",
       "      <th>latitude</th>\n",
       "      <th>longitude</th>\n",
       "      <th>temperature_kelvin</th>\n",
       "      <th>feels_like_kelvin</th>\n",
       "      <th>pressure_mb</th>\n",
       "      <th>humidity</th>\n",
       "      <th>wind_mph</th>\n",
       "      <th>wind_degree</th>\n",
       "      <th>cloud</th>\n",
       "    </tr>\n",
       "  </thead>\n",
       "  <tbody>\n",
       "    <tr>\n",
       "      <th>0</th>\n",
       "      <td>24.57</td>\n",
       "      <td>77.72</td>\n",
       "      <td>300.65</td>\n",
       "      <td>302.85</td>\n",
       "      <td>1008.0</td>\n",
       "      <td>67</td>\n",
       "      <td>12.8</td>\n",
       "      <td>281</td>\n",
       "      <td>26</td>\n",
       "    </tr>\n",
       "    <tr>\n",
       "      <th>1</th>\n",
       "      <td>23.33</td>\n",
       "      <td>77.80</td>\n",
       "      <td>300.65</td>\n",
       "      <td>303.15</td>\n",
       "      <td>1008.0</td>\n",
       "      <td>70</td>\n",
       "      <td>9.6</td>\n",
       "      <td>287</td>\n",
       "      <td>19</td>\n",
       "    </tr>\n",
       "    <tr>\n",
       "      <th>2</th>\n",
       "      <td>22.07</td>\n",
       "      <td>78.93</td>\n",
       "      <td>299.45</td>\n",
       "      <td>301.35</td>\n",
       "      <td>1009.0</td>\n",
       "      <td>70</td>\n",
       "      <td>11.4</td>\n",
       "      <td>317</td>\n",
       "      <td>51</td>\n",
       "    </tr>\n",
       "    <tr>\n",
       "      <th>3</th>\n",
       "      <td>21.86</td>\n",
       "      <td>77.93</td>\n",
       "      <td>298.75</td>\n",
       "      <td>300.75</td>\n",
       "      <td>1009.0</td>\n",
       "      <td>76</td>\n",
       "      <td>10.5</td>\n",
       "      <td>297</td>\n",
       "      <td>65</td>\n",
       "    </tr>\n",
       "    <tr>\n",
       "      <th>4</th>\n",
       "      <td>22.75</td>\n",
       "      <td>77.72</td>\n",
       "      <td>300.35</td>\n",
       "      <td>303.05</td>\n",
       "      <td>1009.0</td>\n",
       "      <td>74</td>\n",
       "      <td>10.1</td>\n",
       "      <td>274</td>\n",
       "      <td>82</td>\n",
       "    </tr>\n",
       "  </tbody>\n",
       "</table>\n",
       "</div>"
      ],
      "text/plain": [
       "   latitude  longitude  temperature_kelvin  feels_like_kelvin  pressure_mb  \\\n",
       "0     24.57      77.72              300.65             302.85       1008.0   \n",
       "1     23.33      77.80              300.65             303.15       1008.0   \n",
       "2     22.07      78.93              299.45             301.35       1009.0   \n",
       "3     21.86      77.93              298.75             300.75       1009.0   \n",
       "4     22.75      77.72              300.35             303.05       1009.0   \n",
       "\n",
       "   humidity  wind_mph  wind_degree  cloud  \n",
       "0        67      12.8          281     26  \n",
       "1        70       9.6          287     19  \n",
       "2        70      11.4          317     51  \n",
       "3        76      10.5          297     65  \n",
       "4        74      10.1          274     82  "
      ]
     },
     "execution_count": 130,
     "metadata": {},
     "output_type": "execute_result"
    }
   ],
   "source": [
    "data.head()"
   ]
  },
  {
   "cell_type": "code",
   "execution_count": 131,
   "metadata": {},
   "outputs": [],
   "source": [
    "X = data.drop(['cloud'],axis=1)\n",
    "y = data['cloud']"
   ]
  },
  {
   "cell_type": "code",
   "execution_count": 132,
   "metadata": {},
   "outputs": [],
   "source": [
    "from sklearn.model_selection import train_test_split\n",
    "\n",
    "X_train , X_test , y_train , y_test = train_test_split(X , y , test_size=0.2 , random_state=42)"
   ]
  },
  {
   "cell_type": "code",
   "execution_count": 133,
   "metadata": {},
   "outputs": [],
   "source": [
    "from sklearn.metrics import mean_squared_error\n",
    "from sklearn.ensemble import RandomForestRegressor\n",
    "from sklearn.metrics import r2_score"
   ]
  },
  {
   "cell_type": "code",
   "execution_count": 134,
   "metadata": {},
   "outputs": [
    {
     "name": "stdout",
     "output_type": "stream",
     "text": [
      "Root mean squared error of the model : 19.73689236401432 \n",
      "R2 score of the model : 0.6171104615018725 \n"
     ]
    }
   ],
   "source": [
    "reg = RandomForestRegressor(max_depth=8)\n",
    "reg.fit(X_train , y_train)\n",
    "y_pred = reg.predict(X_test)\n",
    "\n",
    "rmse = np.sqrt(mean_squared_error(y_test , y_pred))\n",
    "print(f\"Root mean squared error of the model : {rmse} \")\n",
    "r2 = r2_score(y_test , y_pred)\n",
    "print(f\"R2 score of the model : {r2} \")"
   ]
  },
  {
   "cell_type": "code",
   "execution_count": 135,
   "metadata": {},
   "outputs": [],
   "source": [
    "X_train_full, X_test, y_train_full, y_test = train_test_split(\n",
    "    X , y, random_state=42)\n",
    "X_train, X_valid, y_train, y_valid = train_test_split(\n",
    "    X_train_full, y_train_full, random_state=42)"
   ]
  },
  {
   "cell_type": "code",
   "execution_count": 136,
   "metadata": {},
   "outputs": [],
   "source": [
    "tf.random.set_seed(42)\n",
    "norm_layer = tf.keras.layers.Normalization(input_shape=X_train.shape[1:])\n",
    "model = tf.keras.Sequential([\n",
    "    norm_layer,\n",
    "    tf.keras.layers.Dense(50, activation=\"relu\" , kernel_initializer=\"he_normal\"),\n",
    "    tf.keras.layers.Dense(50, activation=\"relu\", kernel_initializer=\"he_normal\"),\n",
    "    tf.keras.layers.Dense(50, activation=\"relu\", kernel_initializer=\"he_normal\"),\n",
    "    tf.keras.layers.Dense(50, activation=\"relu\", kernel_initializer=\"he_normal\"),\n",
    "    tf.keras.layers.Dense(50, activation=\"relu\", kernel_initializer=\"he_normal\"),\n",
    "    tf.keras.layers.Dense(50, activation=\"relu\", kernel_initializer=\"he_normal\"),\n",
    "    tf.keras.layers.Dense(50, activation=\"relu\", kernel_initializer=\"he_normal\"),\n",
    "    tf.keras.layers.Dense(1)\n",
    "])"
   ]
  },
  {
   "cell_type": "code",
   "execution_count": 137,
   "metadata": {},
   "outputs": [
    {
     "name": "stdout",
     "output_type": "stream",
     "text": [
      "Epoch 1/20\n",
      "173/173 [==============================] - 2s 3ms/step - loss: 914.2134 - root_mean_squared_error: 30.2360 - val_loss: 525.8221 - val_root_mean_squared_error: 22.9308\n",
      "Epoch 2/20\n",
      "173/173 [==============================] - 0s 2ms/step - loss: 486.8940 - root_mean_squared_error: 22.0657 - val_loss: 502.6782 - val_root_mean_squared_error: 22.4205\n",
      "Epoch 3/20\n",
      "173/173 [==============================] - 0s 2ms/step - loss: 467.5189 - root_mean_squared_error: 21.6222 - val_loss: 494.6923 - val_root_mean_squared_error: 22.2417\n",
      "Epoch 4/20\n",
      "173/173 [==============================] - 0s 2ms/step - loss: 450.6953 - root_mean_squared_error: 21.2296 - val_loss: 482.3617 - val_root_mean_squared_error: 21.9627\n",
      "Epoch 5/20\n",
      "173/173 [==============================] - 0s 2ms/step - loss: 439.8345 - root_mean_squared_error: 20.9722 - val_loss: 481.5851 - val_root_mean_squared_error: 21.9450\n",
      "Epoch 6/20\n",
      "173/173 [==============================] - 0s 2ms/step - loss: 431.3122 - root_mean_squared_error: 20.7681 - val_loss: 474.9312 - val_root_mean_squared_error: 21.7929\n",
      "Epoch 7/20\n",
      "173/173 [==============================] - 0s 2ms/step - loss: 422.5374 - root_mean_squared_error: 20.5557 - val_loss: 458.7148 - val_root_mean_squared_error: 21.4176\n",
      "Epoch 8/20\n",
      "173/173 [==============================] - 0s 2ms/step - loss: 415.3927 - root_mean_squared_error: 20.3812 - val_loss: 455.6611 - val_root_mean_squared_error: 21.3462\n",
      "Epoch 9/20\n",
      "173/173 [==============================] - 0s 2ms/step - loss: 407.9907 - root_mean_squared_error: 20.1988 - val_loss: 463.6187 - val_root_mean_squared_error: 21.5318\n",
      "Epoch 10/20\n",
      "173/173 [==============================] - 0s 2ms/step - loss: 403.8959 - root_mean_squared_error: 20.0972 - val_loss: 449.3512 - val_root_mean_squared_error: 21.1979\n",
      "Epoch 11/20\n",
      "173/173 [==============================] - 0s 2ms/step - loss: 397.8175 - root_mean_squared_error: 19.9454 - val_loss: 461.7875 - val_root_mean_squared_error: 21.4892\n",
      "Epoch 12/20\n",
      "173/173 [==============================] - 0s 2ms/step - loss: 392.3739 - root_mean_squared_error: 19.8084 - val_loss: 439.1526 - val_root_mean_squared_error: 20.9560\n",
      "Epoch 13/20\n",
      "173/173 [==============================] - 0s 2ms/step - loss: 388.4557 - root_mean_squared_error: 19.7093 - val_loss: 464.8194 - val_root_mean_squared_error: 21.5597\n",
      "Epoch 14/20\n",
      "173/173 [==============================] - 0s 2ms/step - loss: 379.2189 - root_mean_squared_error: 19.4735 - val_loss: 439.6068 - val_root_mean_squared_error: 20.9668\n",
      "Epoch 15/20\n",
      "173/173 [==============================] - 0s 2ms/step - loss: 378.1352 - root_mean_squared_error: 19.4457 - val_loss: 432.3179 - val_root_mean_squared_error: 20.7923\n",
      "Epoch 16/20\n",
      "173/173 [==============================] - 0s 2ms/step - loss: 370.4979 - root_mean_squared_error: 19.2483 - val_loss: 435.7527 - val_root_mean_squared_error: 20.8747\n",
      "Epoch 17/20\n",
      "173/173 [==============================] - 0s 2ms/step - loss: 366.0952 - root_mean_squared_error: 19.1336 - val_loss: 429.5712 - val_root_mean_squared_error: 20.7261\n",
      "Epoch 18/20\n",
      "173/173 [==============================] - 0s 2ms/step - loss: 359.9109 - root_mean_squared_error: 18.9713 - val_loss: 437.0512 - val_root_mean_squared_error: 20.9058\n",
      "Epoch 19/20\n",
      "173/173 [==============================] - 0s 2ms/step - loss: 354.6898 - root_mean_squared_error: 18.8332 - val_loss: 416.8332 - val_root_mean_squared_error: 20.4165\n",
      "Epoch 20/20\n",
      "173/173 [==============================] - 0s 2ms/step - loss: 348.9615 - root_mean_squared_error: 18.6805 - val_loss: 417.8812 - val_root_mean_squared_error: 20.4421\n"
     ]
    }
   ],
   "source": [
    "optimizer = tf.keras.optimizers.Nadam(learning_rate=1e-3)\n",
    "model.compile(loss=\"mse\", optimizer=optimizer, metrics=[\"RootMeanSquaredError\"])\n",
    "norm_layer.adapt(X_train)\n",
    "history = model.fit(X_train, y_train, epochs=20,\n",
    "                    validation_data=(X_valid, y_valid))"
   ]
  },
  {
   "cell_type": "code",
   "execution_count": 138,
   "metadata": {},
   "outputs": [
    {
     "data": {
      "image/png": "[encoded data removed]",
      "text/plain": [
       "<Figure size 1200x800 with 1 Axes>"
      ]
     },
     "metadata": {},
     "output_type": "display_data"
    }
   ],
   "source": [
    "import matplotlib.pyplot as plt\n",
    "\n",
    "pd.DataFrame(history.history).plot(\n",
    "    figsize=(12, 8), xlim=[0, 20], ylim=[0, 1000], grid=True, xlabel=\"Epoch\",\n",
    "    style=[\"r--\", \"r--.\", \"b-\", \"b-*\"])\n",
    "plt.legend(loc=\"lower left\")\n",
    "plt.show()"
   ]
  },
  {
   "cell_type": "code",
   "execution_count": 139,
   "metadata": {},
   "outputs": [],
   "source": [
    "tf.random.set_seed(42)\n",
    "model = tf.keras.Sequential([\n",
    "    tf.keras.layers.Flatten(),\n",
    "    tf.keras.layers.BatchNormalization(),\n",
    "    tf.keras.layers.Dense(512, activation='relu',\n",
    "                          kernel_initializer=\"he_normal\"),\n",
    "    tf.keras.layers.BatchNormalization(),\n",
    "    tf.keras.layers.Dense(256, activation='relu',\n",
    "                          kernel_initializer=\"he_normal\"),\n",
    "    tf.keras.layers.BatchNormalization(),\n",
    "    tf.keras.layers.Dense(128, activation='relu',\n",
    "                          kernel_initializer=\"he_normal\"),\n",
    "    tf.keras.layers.BatchNormalization(),\n",
    "    tf.keras.layers.Dense(64, activation='relu',\n",
    "                          kernel_initializer=\"he_normal\"),\n",
    "    tf.keras.layers.BatchNormalization(),\n",
    "    tf.keras.layers.Dense(1)\n",
    "])"
   ]
  },
  {
   "cell_type": "code",
   "execution_count": 140,
   "metadata": {},
   "outputs": [],
   "source": [
    "optimizer = tf.keras.optimizers.Nadam(learning_rate=1e-3)\n",
    "model.compile(loss=\"mse\", optimizer=optimizer, metrics=[\"RootMeanSquaredError\"])"
   ]
  },
  {
   "cell_type": "code",
   "execution_count": 147,
   "metadata": {},
   "outputs": [
    {
     "name": "stdout",
     "output_type": "stream",
     "text": [
      "Epoch 1/50\n",
      "173/173 [==============================] - 1s 5ms/step - loss: 401.2051 - root_mean_squared_error: 20.0301 - val_loss: 415.2439 - val_root_mean_squared_error: 20.3775\n",
      "Epoch 2/50\n",
      "173/173 [==============================] - 1s 5ms/step - loss: 390.5191 - root_mean_squared_error: 19.7616 - val_loss: 407.3159 - val_root_mean_squared_error: 20.1821\n",
      "Epoch 3/50\n",
      "173/173 [==============================] - 1s 5ms/step - loss: 396.9633 - root_mean_squared_error: 19.9239 - val_loss: 409.8205 - val_root_mean_squared_error: 20.2440\n",
      "Epoch 4/50\n",
      "173/173 [==============================] - 1s 4ms/step - loss: 393.0092 - root_mean_squared_error: 19.8245 - val_loss: 407.5467 - val_root_mean_squared_error: 20.1878\n",
      "Epoch 5/50\n",
      "173/173 [==============================] - 1s 4ms/step - loss: 386.0131 - root_mean_squared_error: 19.6472 - val_loss: 407.4727 - val_root_mean_squared_error: 20.1860\n",
      "Epoch 6/50\n",
      "173/173 [==============================] - 1s 5ms/step - loss: 382.5162 - root_mean_squared_error: 19.5580 - val_loss: 403.2840 - val_root_mean_squared_error: 20.0819\n",
      "Epoch 7/50\n",
      "173/173 [==============================] - 1s 5ms/step - loss: 388.6755 - root_mean_squared_error: 19.7149 - val_loss: 400.0728 - val_root_mean_squared_error: 20.0018\n",
      "Epoch 8/50\n",
      "173/173 [==============================] - 1s 5ms/step - loss: 377.2199 - root_mean_squared_error: 19.4221 - val_loss: 404.5219 - val_root_mean_squared_error: 20.1127\n",
      "Epoch 9/50\n",
      "173/173 [==============================] - 1s 5ms/step - loss: 390.7797 - root_mean_squared_error: 19.7681 - val_loss: 392.0324 - val_root_mean_squared_error: 19.7998\n",
      "Epoch 10/50\n",
      "173/173 [==============================] - 1s 4ms/step - loss: 381.2048 - root_mean_squared_error: 19.5245 - val_loss: 404.5586 - val_root_mean_squared_error: 20.1136\n",
      "Epoch 11/50\n",
      "173/173 [==============================] - 1s 4ms/step - loss: 385.1454 - root_mean_squared_error: 19.6251 - val_loss: 412.2554 - val_root_mean_squared_error: 20.3041\n",
      "Epoch 12/50\n",
      "173/173 [==============================] - 1s 4ms/step - loss: 382.0859 - root_mean_squared_error: 19.5470 - val_loss: 394.6747 - val_root_mean_squared_error: 19.8664\n",
      "Epoch 13/50\n",
      "173/173 [==============================] - 1s 4ms/step - loss: 381.2153 - root_mean_squared_error: 19.5247 - val_loss: 391.6474 - val_root_mean_squared_error: 19.7901\n",
      "Epoch 14/50\n",
      "173/173 [==============================] - 1s 4ms/step - loss: 377.1799 - root_mean_squared_error: 19.4211 - val_loss: 392.9954 - val_root_mean_squared_error: 19.8241\n",
      "Epoch 15/50\n",
      "173/173 [==============================] - 1s 4ms/step - loss: 374.3481 - root_mean_squared_error: 19.3481 - val_loss: 387.9789 - val_root_mean_squared_error: 19.6972\n",
      "Epoch 16/50\n",
      "173/173 [==============================] - 1s 4ms/step - loss: 373.6184 - root_mean_squared_error: 19.3292 - val_loss: 397.1299 - val_root_mean_squared_error: 19.9281\n",
      "Epoch 17/50\n",
      "173/173 [==============================] - 1s 4ms/step - loss: 363.2654 - root_mean_squared_error: 19.0595 - val_loss: 402.0610 - val_root_mean_squared_error: 20.0515\n",
      "Epoch 18/50\n",
      "173/173 [==============================] - 1s 5ms/step - loss: 368.3705 - root_mean_squared_error: 19.1930 - val_loss: 387.4121 - val_root_mean_squared_error: 19.6828\n",
      "Epoch 19/50\n",
      "173/173 [==============================] - 1s 5ms/step - loss: 369.4490 - root_mean_squared_error: 19.2211 - val_loss: 390.6959 - val_root_mean_squared_error: 19.7660\n",
      "Epoch 20/50\n",
      "173/173 [==============================] - 1s 4ms/step - loss: 358.6640 - root_mean_squared_error: 18.9384 - val_loss: 385.3577 - val_root_mean_squared_error: 19.6305\n",
      "Epoch 21/50\n",
      "173/173 [==============================] - 1s 4ms/step - loss: 376.4468 - root_mean_squared_error: 19.4022 - val_loss: 401.0772 - val_root_mean_squared_error: 20.0269\n",
      "Epoch 22/50\n",
      "173/173 [==============================] - 1s 4ms/step - loss: 373.2888 - root_mean_squared_error: 19.3207 - val_loss: 388.2025 - val_root_mean_squared_error: 19.7029\n",
      "Epoch 23/50\n",
      "173/173 [==============================] - 1s 4ms/step - loss: 366.2838 - root_mean_squared_error: 19.1385 - val_loss: 392.3982 - val_root_mean_squared_error: 19.8090\n",
      "Epoch 24/50\n",
      "173/173 [==============================] - 1s 4ms/step - loss: 368.9850 - root_mean_squared_error: 19.2090 - val_loss: 389.7003 - val_root_mean_squared_error: 19.7408\n",
      "Epoch 25/50\n",
      "173/173 [==============================] - 1s 5ms/step - loss: 366.9212 - root_mean_squared_error: 19.1552 - val_loss: 396.9557 - val_root_mean_squared_error: 19.9237\n",
      "Epoch 26/50\n",
      "173/173 [==============================] - 1s 4ms/step - loss: 369.1939 - root_mean_squared_error: 19.2144 - val_loss: 391.4736 - val_root_mean_squared_error: 19.7857\n",
      "Epoch 27/50\n",
      "173/173 [==============================] - 1s 4ms/step - loss: 361.6573 - root_mean_squared_error: 19.0173 - val_loss: 395.7772 - val_root_mean_squared_error: 19.8941\n",
      "Epoch 28/50\n",
      "173/173 [==============================] - 1s 4ms/step - loss: 347.2953 - root_mean_squared_error: 18.6359 - val_loss: 389.4329 - val_root_mean_squared_error: 19.7341\n",
      "Epoch 29/50\n",
      "173/173 [==============================] - 1s 4ms/step - loss: 352.6494 - root_mean_squared_error: 18.7790 - val_loss: 387.4087 - val_root_mean_squared_error: 19.6827\n",
      "Epoch 30/50\n",
      "173/173 [==============================] - 1s 5ms/step - loss: 359.9110 - root_mean_squared_error: 18.9713 - val_loss: 396.9713 - val_root_mean_squared_error: 19.9241\n",
      "Epoch 31/50\n",
      "173/173 [==============================] - 1s 4ms/step - loss: 350.3289 - root_mean_squared_error: 18.7171 - val_loss: 395.1683 - val_root_mean_squared_error: 19.8788\n",
      "Epoch 32/50\n",
      "173/173 [==============================] - 1s 4ms/step - loss: 356.1031 - root_mean_squared_error: 18.8707 - val_loss: 385.5775 - val_root_mean_squared_error: 19.6361\n",
      "Epoch 33/50\n",
      "173/173 [==============================] - 1s 4ms/step - loss: 364.6629 - root_mean_squared_error: 19.0961 - val_loss: 384.2769 - val_root_mean_squared_error: 19.6030\n",
      "Epoch 34/50\n",
      "173/173 [==============================] - 1s 4ms/step - loss: 349.0070 - root_mean_squared_error: 18.6817 - val_loss: 385.4203 - val_root_mean_squared_error: 19.6321\n",
      "Epoch 35/50\n",
      "173/173 [==============================] - 1s 4ms/step - loss: 348.3019 - root_mean_squared_error: 18.6628 - val_loss: 397.6249 - val_root_mean_squared_error: 19.9405\n",
      "Epoch 36/50\n",
      "173/173 [==============================] - 1s 4ms/step - loss: 352.0663 - root_mean_squared_error: 18.7634 - val_loss: 392.8750 - val_root_mean_squared_error: 19.8211\n",
      "Epoch 37/50\n",
      "173/173 [==============================] - 1s 4ms/step - loss: 349.3715 - root_mean_squared_error: 18.6915 - val_loss: 386.5374 - val_root_mean_squared_error: 19.6606\n",
      "Epoch 38/50\n",
      "173/173 [==============================] - 1s 4ms/step - loss: 341.5333 - root_mean_squared_error: 18.4806 - val_loss: 377.4267 - val_root_mean_squared_error: 19.4275\n",
      "Epoch 39/50\n",
      "173/173 [==============================] - 1s 4ms/step - loss: 346.2850 - root_mean_squared_error: 18.6087 - val_loss: 386.9713 - val_root_mean_squared_error: 19.6716\n",
      "Epoch 40/50\n",
      "173/173 [==============================] - 1s 4ms/step - loss: 350.5372 - root_mean_squared_error: 18.7226 - val_loss: 391.4083 - val_root_mean_squared_error: 19.7840\n",
      "Epoch 41/50\n",
      "173/173 [==============================] - 1s 4ms/step - loss: 350.0385 - root_mean_squared_error: 18.7093 - val_loss: 381.9668 - val_root_mean_squared_error: 19.5440\n",
      "Epoch 42/50\n",
      "173/173 [==============================] - 1s 4ms/step - loss: 351.1414 - root_mean_squared_error: 18.7388 - val_loss: 377.3177 - val_root_mean_squared_error: 19.4247\n",
      "Epoch 43/50\n",
      "173/173 [==============================] - 1s 4ms/step - loss: 337.1555 - root_mean_squared_error: 18.3618 - val_loss: 394.1292 - val_root_mean_squared_error: 19.8527\n",
      "Epoch 44/50\n",
      "173/173 [==============================] - 1s 4ms/step - loss: 350.7993 - root_mean_squared_error: 18.7296 - val_loss: 385.7162 - val_root_mean_squared_error: 19.6397\n",
      "Epoch 45/50\n",
      "173/173 [==============================] - 1s 4ms/step - loss: 345.4874 - root_mean_squared_error: 18.5873 - val_loss: 380.4991 - val_root_mean_squared_error: 19.5064\n",
      "Epoch 46/50\n",
      "173/173 [==============================] - 1s 4ms/step - loss: 343.9875 - root_mean_squared_error: 18.5469 - val_loss: 398.1454 - val_root_mean_squared_error: 19.9536\n",
      "Epoch 47/50\n",
      "173/173 [==============================] - 1s 4ms/step - loss: 349.3549 - root_mean_squared_error: 18.6910 - val_loss: 387.1638 - val_root_mean_squared_error: 19.6765\n",
      "Epoch 48/50\n",
      "173/173 [==============================] - 1s 4ms/step - loss: 346.2546 - root_mean_squared_error: 18.6079 - val_loss: 375.7895 - val_root_mean_squared_error: 19.3853\n",
      "Epoch 49/50\n",
      "173/173 [==============================] - 1s 4ms/step - loss: 339.6397 - root_mean_squared_error: 18.4293 - val_loss: 381.5384 - val_root_mean_squared_error: 19.5330\n",
      "Epoch 50/50\n",
      "173/173 [==============================] - 1s 4ms/step - loss: 335.5307 - root_mean_squared_error: 18.3175 - val_loss: 379.7933 - val_root_mean_squared_error: 19.4883\n"
     ]
    }
   ],
   "source": [
    "history = model.fit(X_train, y_train, epochs=50,\n",
    "                    validation_data=(X_valid, y_valid))"
   ]
  },
  {
   "cell_type": "code",
   "execution_count": 148,
   "metadata": {},
   "outputs": [
    {
     "name": "stdout",
     "output_type": "stream",
     "text": [
      "77/77 [==============================] - 0s 1ms/step - loss: 370.1192 - root_mean_squared_error: 19.2385\n"
     ]
    }
   ],
   "source": [
    "score = model.evaluate(X_test , y_test)"
   ]
  },
  {
   "cell_type": "code",
   "execution_count": 149,
   "metadata": {},
   "outputs": [
    {
     "name": "stdout",
     "output_type": "stream",
     "text": [
      "RMSE of the model is 19.238481521606445\n"
     ]
    }
   ],
   "source": [
    "print(f\"RMSE of the model is {score[1]}\")"
   ]
  },
  {
   "cell_type": "code",
   "execution_count": 150,
   "metadata": {},
   "outputs": [
    {
     "name": "stdout",
     "output_type": "stream",
     "text": [
      "77/77 [==============================] - 0s 1ms/step\n",
      "R2 score of the model : 0.6337559158548117 \n"
     ]
    }
   ],
   "source": [
    "y_pred = model.predict(X_test)\n",
    "r2 = r2_score(y_test , y_pred)\n",
    "print(f\"R2 score of the model : {r2} \")"
   ]
  },
  {
   "cell_type": "code",
   "execution_count": 152,
   "metadata": {},
   "outputs": [
    {
     "data": {
      "image/png": "[encoded data removed]",
      "text/plain": [
       "<Figure size 1200x800 with 1 Axes>"
      ]
     },
     "metadata": {},
     "output_type": "display_data"
    }
   ],
   "source": [
    "import matplotlib.pyplot as plt\n",
    "\n",
    "pd.DataFrame(history.history).plot(\n",
    "    figsize=(12, 8), xlim=[0, 20], ylim=[0, 500], grid=True, xlabel=\"Epoch\",\n",
    "    style=[\"r--\", \"r--.\", \"b-\", \"b-*\"])\n",
    "plt.legend(loc=\"lower left\")\n",
    "plt.show()"
   ]
  },
  {
   "cell_type": "code",
   "execution_count": 153,
   "metadata": {},
   "outputs": [
    {
     "name": "stderr",
     "output_type": "stream",
     "text": [
      "WARNING:absl:Found untraced functions such as _update_step_xla while saving (showing 1 of 1). These functions will not be directly callable after loading.\n"
     ]
    },
    {
     "name": "stdout",
     "output_type": "stream",
     "text": [
      "INFO:tensorflow:Assets written to: C:/Users/Aravind/Work/PROJECTS/Cloudburst-Prediction-System/models/api_model\\assets\n"
     ]
    },
    {
     "name": "stderr",
     "output_type": "stream",
     "text": [
      "INFO:tensorflow:Assets written to: C:/Users/Aravind/Work/PROJECTS/Cloudburst-Prediction-System/models/api_model\\assets\n"
     ]
    }
   ],
   "source": [
    "model.save(\"C:/Users/Aravind/Work/PROJECTS/Cloudburst-Prediction-System/models/api_model\" , save_format=\"tf\")"
   ]
  }
 ],
 "metadata": {
  "kernelspec": {
   "display_name": "Python 3",
   "language": "python",
   "name": "python3"
  },
  "language_info": {
   "codemirror_mode": {
    "name": "ipython",
    "version": 3
   },
   "file_extension": ".py",
   "mimetype": "text/x-python",
   "name": "python",
   "nbconvert_exporter": "python",
   "pygments_lexer": "ipython3",
   "version": "3.11.5"
  }
 },
 "nbformat": 4,
 "nbformat_minor": 2
}
