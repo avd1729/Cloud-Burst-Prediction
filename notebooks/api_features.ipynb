{
 "cells": [
  {
   "cell_type": "code",
   "execution_count": 23,
   "metadata": {},
   "outputs": [],
   "source": [
    "import warnings\n",
    "warnings.filterwarnings('ignore')"
   ]
  },
  {
   "cell_type": "code",
   "execution_count": 24,
   "metadata": {},
   "outputs": [],
   "source": [
    "import numpy as np\n",
    "import pandas as pd\n",
    "import tensorflow as tf"
   ]
  },
  {
   "cell_type": "code",
   "execution_count": 25,
   "metadata": {},
   "outputs": [],
   "source": [
    "data = pd.read_csv('C:/Users/Aravind/Work/PROJECTS/Cloudburst-Prediction-System/data/processed/Data-final.csv')"
   ]
  },
  {
   "cell_type": "code",
   "execution_count": 26,
   "metadata": {},
   "outputs": [
    {
     "name": "stdout",
     "output_type": "stream",
     "text": [
      "<class 'pandas.core.frame.DataFrame'>\n",
      "RangeIndex: 9840 entries, 0 to 9839\n",
      "Data columns (total 27 columns):\n",
      " #   Column                        Non-Null Count  Dtype  \n",
      "---  ------                        --------------  -----  \n",
      " 0   latitude                      9840 non-null   float64\n",
      " 1   longitude                     9840 non-null   float64\n",
      " 2   temperature_celsius           9840 non-null   float64\n",
      " 3   condition_text                9840 non-null   float64\n",
      " 4   wind_mph                      9840 non-null   float64\n",
      " 5   wind_degree                   9840 non-null   int64  \n",
      " 6   wind_direction                9840 non-null   float64\n",
      " 7   pressure_mb                   9840 non-null   float64\n",
      " 8   pressure_in                   9840 non-null   float64\n",
      " 9   precip_mm                     9840 non-null   float64\n",
      " 10  precip_in                     9840 non-null   float64\n",
      " 11  humidity                      9840 non-null   int64  \n",
      " 12  cloud                         9840 non-null   int64  \n",
      " 13  feels_like_celsius            9840 non-null   float64\n",
      " 14  visibility_miles              9840 non-null   float64\n",
      " 15  uv_index                      9840 non-null   float64\n",
      " 16  gust_mph                      9840 non-null   float64\n",
      " 17  air_quality_Carbon_Monoxide   9840 non-null   float64\n",
      " 18  air_quality_Ozone             9840 non-null   float64\n",
      " 19  air_quality_Nitrogen_dioxide  9840 non-null   float64\n",
      " 20  air_quality_Sulphur_dioxide   9840 non-null   float64\n",
      " 21  air_quality_PM2.5             9840 non-null   float64\n",
      " 22  air_quality_PM10              9840 non-null   float64\n",
      " 23  air_quality_us-epa-index      9840 non-null   int64  \n",
      " 24  air_quality_gb-defra-index    9840 non-null   int64  \n",
      " 25  moon_phase                    9840 non-null   float64\n",
      " 26  moon_illumination             9840 non-null   int64  \n",
      "dtypes: float64(21), int64(6)\n",
      "memory usage: 2.0 MB\n"
     ]
    }
   ],
   "source": [
    "data.info()"
   ]
  },
  {
   "cell_type": "code",
   "execution_count": 27,
   "metadata": {},
   "outputs": [],
   "source": [
    "data = data[['latitude' , 'longitude' ,'temperature_celsius' , 'feels_like_celsius' , 'pressure_mb' , 'humidity' ,  'wind_mph' , 'wind_degree' , 'cloud']]"
   ]
  },
  {
   "cell_type": "code",
   "execution_count": 28,
   "metadata": {},
   "outputs": [
    {
     "name": "stdout",
     "output_type": "stream",
     "text": [
      "<class 'pandas.core.frame.DataFrame'>\n",
      "RangeIndex: 9840 entries, 0 to 9839\n",
      "Data columns (total 9 columns):\n",
      " #   Column               Non-Null Count  Dtype  \n",
      "---  ------               --------------  -----  \n",
      " 0   latitude             9840 non-null   float64\n",
      " 1   longitude            9840 non-null   float64\n",
      " 2   temperature_celsius  9840 non-null   float64\n",
      " 3   feels_like_celsius   9840 non-null   float64\n",
      " 4   pressure_mb          9840 non-null   float64\n",
      " 5   humidity             9840 non-null   int64  \n",
      " 6   wind_mph             9840 non-null   float64\n",
      " 7   wind_degree          9840 non-null   int64  \n",
      " 8   cloud                9840 non-null   int64  \n",
      "dtypes: float64(6), int64(3)\n",
      "memory usage: 692.0 KB\n"
     ]
    }
   ],
   "source": [
    "data.info()"
   ]
  },
  {
   "cell_type": "code",
   "execution_count": 29,
   "metadata": {},
   "outputs": [],
   "source": [
    "conversion_factor = 273.15\n",
    "data['temperature_celsius'] = data['temperature_celsius'].add(conversion_factor)\n",
    "data['feels_like_celsius'] = data['feels_like_celsius'].add(conversion_factor)"
   ]
  },
  {
   "cell_type": "code",
   "execution_count": 30,
   "metadata": {},
   "outputs": [],
   "source": [
    "new_column_name = 'temperature_kelvin'\n",
    "data = data.rename(columns={'temperature_celsius': new_column_name})"
   ]
  },
  {
   "cell_type": "code",
   "execution_count": 31,
   "metadata": {},
   "outputs": [],
   "source": [
    "new_column_name = 'feels_like_kelvin'\n",
    "data = data.rename(columns={'feels_like_celsius': new_column_name})"
   ]
  },
  {
   "cell_type": "code",
   "execution_count": 32,
   "metadata": {},
   "outputs": [
    {
     "name": "stdout",
     "output_type": "stream",
     "text": [
      "<class 'pandas.core.frame.DataFrame'>\n",
      "RangeIndex: 9840 entries, 0 to 9839\n",
      "Data columns (total 9 columns):\n",
      " #   Column              Non-Null Count  Dtype  \n",
      "---  ------              --------------  -----  \n",
      " 0   latitude            9840 non-null   float64\n",
      " 1   longitude           9840 non-null   float64\n",
      " 2   temperature_kelvin  9840 non-null   float64\n",
      " 3   feels_like_kelvin   9840 non-null   float64\n",
      " 4   pressure_mb         9840 non-null   float64\n",
      " 5   humidity            9840 non-null   int64  \n",
      " 6   wind_mph            9840 non-null   float64\n",
      " 7   wind_degree         9840 non-null   int64  \n",
      " 8   cloud               9840 non-null   int64  \n",
      "dtypes: float64(6), int64(3)\n",
      "memory usage: 692.0 KB\n"
     ]
    }
   ],
   "source": [
    "data.info()"
   ]
  },
  {
   "cell_type": "code",
   "execution_count": 34,
   "metadata": {},
   "outputs": [
    {
     "data": {
      "text/html": [
       "<div>\n",
       "<style scoped>\n",
       "    .dataframe tbody tr th:only-of-type {\n",
       "        vertical-align: middle;\n",
       "    }\n",
       "\n",
       "    .dataframe tbody tr th {\n",
       "        vertical-align: top;\n",
       "    }\n",
       "\n",
       "    .dataframe thead th {\n",
       "        text-align: right;\n",
       "    }\n",
       "</style>\n",
       "<table border=\"1\" class=\"dataframe\">\n",
       "  <thead>\n",
       "    <tr style=\"text-align: right;\">\n",
       "      <th></th>\n",
       "      <th>latitude</th>\n",
       "      <th>longitude</th>\n",
       "      <th>temperature_kelvin</th>\n",
       "      <th>feels_like_kelvin</th>\n",
       "      <th>pressure_mb</th>\n",
       "      <th>humidity</th>\n",
       "      <th>wind_mph</th>\n",
       "      <th>wind_degree</th>\n",
       "      <th>cloud</th>\n",
       "    </tr>\n",
       "  </thead>\n",
       "  <tbody>\n",
       "    <tr>\n",
       "      <th>0</th>\n",
       "      <td>24.57</td>\n",
       "      <td>77.72</td>\n",
       "      <td>300.65</td>\n",
       "      <td>302.85</td>\n",
       "      <td>1008.0</td>\n",
       "      <td>67</td>\n",
       "      <td>12.8</td>\n",
       "      <td>281</td>\n",
       "      <td>26</td>\n",
       "    </tr>\n",
       "    <tr>\n",
       "      <th>1</th>\n",
       "      <td>23.33</td>\n",
       "      <td>77.80</td>\n",
       "      <td>300.65</td>\n",
       "      <td>303.15</td>\n",
       "      <td>1008.0</td>\n",
       "      <td>70</td>\n",
       "      <td>9.6</td>\n",
       "      <td>287</td>\n",
       "      <td>19</td>\n",
       "    </tr>\n",
       "    <tr>\n",
       "      <th>2</th>\n",
       "      <td>22.07</td>\n",
       "      <td>78.93</td>\n",
       "      <td>299.45</td>\n",
       "      <td>301.35</td>\n",
       "      <td>1009.0</td>\n",
       "      <td>70</td>\n",
       "      <td>11.4</td>\n",
       "      <td>317</td>\n",
       "      <td>51</td>\n",
       "    </tr>\n",
       "    <tr>\n",
       "      <th>3</th>\n",
       "      <td>21.86</td>\n",
       "      <td>77.93</td>\n",
       "      <td>298.75</td>\n",
       "      <td>300.75</td>\n",
       "      <td>1009.0</td>\n",
       "      <td>76</td>\n",
       "      <td>10.5</td>\n",
       "      <td>297</td>\n",
       "      <td>65</td>\n",
       "    </tr>\n",
       "    <tr>\n",
       "      <th>4</th>\n",
       "      <td>22.75</td>\n",
       "      <td>77.72</td>\n",
       "      <td>300.35</td>\n",
       "      <td>303.05</td>\n",
       "      <td>1009.0</td>\n",
       "      <td>74</td>\n",
       "      <td>10.1</td>\n",
       "      <td>274</td>\n",
       "      <td>82</td>\n",
       "    </tr>\n",
       "  </tbody>\n",
       "</table>\n",
       "</div>"
      ],
      "text/plain": [
       "   latitude  longitude  temperature_kelvin  feels_like_kelvin  pressure_mb  \\\n",
       "0     24.57      77.72              300.65             302.85       1008.0   \n",
       "1     23.33      77.80              300.65             303.15       1008.0   \n",
       "2     22.07      78.93              299.45             301.35       1009.0   \n",
       "3     21.86      77.93              298.75             300.75       1009.0   \n",
       "4     22.75      77.72              300.35             303.05       1009.0   \n",
       "\n",
       "   humidity  wind_mph  wind_degree  cloud  \n",
       "0        67      12.8          281     26  \n",
       "1        70       9.6          287     19  \n",
       "2        70      11.4          317     51  \n",
       "3        76      10.5          297     65  \n",
       "4        74      10.1          274     82  "
      ]
     },
     "execution_count": 34,
     "metadata": {},
     "output_type": "execute_result"
    }
   ],
   "source": [
    "data.head()"
   ]
  },
  {
   "cell_type": "code",
   "execution_count": 33,
   "metadata": {},
   "outputs": [],
   "source": [
    "X = data.drop(['cloud'],axis=1)\n",
    "y = data['cloud']"
   ]
  },
  {
   "cell_type": "code",
   "execution_count": 35,
   "metadata": {},
   "outputs": [],
   "source": [
    "from sklearn.model_selection import train_test_split\n",
    "\n",
    "X_train , X_valid , y_train , y_valid = train_test_split(X , y , test_size=0.1 , random_state=42)"
   ]
  },
  {
   "cell_type": "code",
   "execution_count": 47,
   "metadata": {},
   "outputs": [],
   "source": [
    "tf.random.set_seed(42)\n",
    "norm_layer = tf.keras.layers.Normalization(input_shape=X_train.shape[1:])\n",
    "model = tf.keras.Sequential([\n",
    "    norm_layer,\n",
    "    tf.keras.layers.Dense(50, activation=\"relu\" , kernel_initializer=\"he_normal\"),\n",
    "    tf.keras.layers.Dense(50, activation=\"relu\", kernel_initializer=\"he_normal\"),\n",
    "    tf.keras.layers.Dense(50, activation=\"relu\", kernel_initializer=\"he_normal\"),\n",
    "    tf.keras.layers.Dense(50, activation=\"relu\", kernel_initializer=\"he_normal\"),\n",
    "    tf.keras.layers.Dense(50, activation=\"relu\", kernel_initializer=\"he_normal\"),\n",
    "    tf.keras.layers.Dense(50, activation=\"relu\", kernel_initializer=\"he_normal\"),\n",
    "    tf.keras.layers.Dense(50, activation=\"relu\", kernel_initializer=\"he_normal\"),\n",
    "    tf.keras.layers.Dense(1)\n",
    "])"
   ]
  },
  {
   "cell_type": "code",
   "execution_count": 48,
   "metadata": {},
   "outputs": [
    {
     "name": "stdout",
     "output_type": "stream",
     "text": [
      "Epoch 1/100\n",
      "277/277 [==============================] - 2s 2ms/step - loss: 870.4645 - root_mean_squared_error: 29.5036 - val_loss: 511.3973 - val_root_mean_squared_error: 22.6141\n",
      "Epoch 2/100\n",
      "277/277 [==============================] - 0s 1ms/step - loss: 476.7728 - root_mean_squared_error: 21.8351 - val_loss: 507.2242 - val_root_mean_squared_error: 22.5216\n",
      "Epoch 3/100\n",
      "277/277 [==============================] - 0s 1ms/step - loss: 454.7319 - root_mean_squared_error: 21.3244 - val_loss: 484.1174 - val_root_mean_squared_error: 22.0027\n",
      "Epoch 4/100\n",
      "277/277 [==============================] - 0s 1ms/step - loss: 441.4389 - root_mean_squared_error: 21.0104 - val_loss: 461.5586 - val_root_mean_squared_error: 21.4839\n",
      "Epoch 5/100\n",
      "277/277 [==============================] - 0s 1ms/step - loss: 429.6366 - root_mean_squared_error: 20.7277 - val_loss: 463.8214 - val_root_mean_squared_error: 21.5365\n",
      "Epoch 6/100\n",
      "277/277 [==============================] - 0s 1ms/step - loss: 418.7336 - root_mean_squared_error: 20.4630 - val_loss: 448.7789 - val_root_mean_squared_error: 21.1844\n",
      "Epoch 7/100\n",
      "277/277 [==============================] - 0s 1ms/step - loss: 412.1194 - root_mean_squared_error: 20.3007 - val_loss: 439.2379 - val_root_mean_squared_error: 20.9580\n",
      "Epoch 8/100\n",
      "277/277 [==============================] - 0s 1ms/step - loss: 399.7973 - root_mean_squared_error: 19.9949 - val_loss: 447.1595 - val_root_mean_squared_error: 21.1461\n",
      "Epoch 9/100\n",
      "277/277 [==============================] - 0s 1ms/step - loss: 394.9983 - root_mean_squared_error: 19.8746 - val_loss: 433.0689 - val_root_mean_squared_error: 20.8103\n",
      "Epoch 10/100\n",
      "277/277 [==============================] - 0s 1ms/step - loss: 387.1715 - root_mean_squared_error: 19.6767 - val_loss: 418.0205 - val_root_mean_squared_error: 20.4455\n",
      "Epoch 11/100\n",
      "277/277 [==============================] - 0s 1ms/step - loss: 376.7294 - root_mean_squared_error: 19.4095 - val_loss: 438.5228 - val_root_mean_squared_error: 20.9409\n",
      "Epoch 12/100\n",
      "277/277 [==============================] - 0s 1ms/step - loss: 372.5901 - root_mean_squared_error: 19.3026 - val_loss: 420.0807 - val_root_mean_squared_error: 20.4959\n",
      "Epoch 13/100\n",
      "277/277 [==============================] - 0s 1ms/step - loss: 366.6680 - root_mean_squared_error: 19.1486 - val_loss: 423.2220 - val_root_mean_squared_error: 20.5724\n",
      "Epoch 14/100\n",
      "277/277 [==============================] - 0s 1ms/step - loss: 359.6236 - root_mean_squared_error: 18.9637 - val_loss: 418.3881 - val_root_mean_squared_error: 20.4545\n",
      "Epoch 15/100\n",
      "277/277 [==============================] - 0s 1ms/step - loss: 351.9728 - root_mean_squared_error: 18.7609 - val_loss: 420.9419 - val_root_mean_squared_error: 20.5169\n",
      "Epoch 16/100\n",
      "277/277 [==============================] - 0s 1ms/step - loss: 346.1665 - root_mean_squared_error: 18.6056 - val_loss: 417.8266 - val_root_mean_squared_error: 20.4408\n",
      "Epoch 17/100\n",
      "277/277 [==============================] - 0s 1ms/step - loss: 342.8665 - root_mean_squared_error: 18.5167 - val_loss: 421.5529 - val_root_mean_squared_error: 20.5318\n",
      "Epoch 18/100\n",
      "277/277 [==============================] - 0s 1ms/step - loss: 338.3057 - root_mean_squared_error: 18.3931 - val_loss: 391.0689 - val_root_mean_squared_error: 19.7755\n",
      "Epoch 19/100\n",
      "277/277 [==============================] - 0s 1ms/step - loss: 329.5359 - root_mean_squared_error: 18.1531 - val_loss: 397.2103 - val_root_mean_squared_error: 19.9301\n",
      "Epoch 20/100\n",
      "277/277 [==============================] - 0s 1ms/step - loss: 326.3845 - root_mean_squared_error: 18.0661 - val_loss: 391.7075 - val_root_mean_squared_error: 19.7916\n",
      "Epoch 21/100\n",
      "277/277 [==============================] - 0s 1ms/step - loss: 319.4221 - root_mean_squared_error: 17.8724 - val_loss: 392.9797 - val_root_mean_squared_error: 19.8237\n",
      "Epoch 22/100\n",
      "277/277 [==============================] - 0s 1ms/step - loss: 316.6727 - root_mean_squared_error: 17.7953 - val_loss: 396.7429 - val_root_mean_squared_error: 19.9184\n",
      "Epoch 23/100\n",
      "277/277 [==============================] - 0s 1ms/step - loss: 310.3414 - root_mean_squared_error: 17.6165 - val_loss: 406.0979 - val_root_mean_squared_error: 20.1519\n",
      "Epoch 24/100\n",
      "277/277 [==============================] - 0s 1ms/step - loss: 308.2846 - root_mean_squared_error: 17.5580 - val_loss: 372.3489 - val_root_mean_squared_error: 19.2963\n",
      "Epoch 25/100\n",
      "277/277 [==============================] - 0s 1ms/step - loss: 301.9072 - root_mean_squared_error: 17.3755 - val_loss: 384.5512 - val_root_mean_squared_error: 19.6100\n",
      "Epoch 26/100\n",
      "277/277 [==============================] - 0s 1ms/step - loss: 297.1617 - root_mean_squared_error: 17.2384 - val_loss: 386.8509 - val_root_mean_squared_error: 19.6685\n",
      "Epoch 27/100\n",
      "277/277 [==============================] - 0s 1ms/step - loss: 290.7314 - root_mean_squared_error: 17.0508 - val_loss: 403.5037 - val_root_mean_squared_error: 20.0874\n",
      "Epoch 28/100\n",
      "277/277 [==============================] - 0s 1ms/step - loss: 290.5518 - root_mean_squared_error: 17.0456 - val_loss: 379.2744 - val_root_mean_squared_error: 19.4750\n",
      "Epoch 29/100\n",
      "277/277 [==============================] - 0s 1ms/step - loss: 285.3284 - root_mean_squared_error: 16.8917 - val_loss: 387.3285 - val_root_mean_squared_error: 19.6807\n",
      "Epoch 30/100\n",
      "277/277 [==============================] - 0s 1ms/step - loss: 281.9569 - root_mean_squared_error: 16.7916 - val_loss: 382.4445 - val_root_mean_squared_error: 19.5562\n",
      "Epoch 31/100\n",
      "277/277 [==============================] - 0s 1ms/step - loss: 279.4330 - root_mean_squared_error: 16.7163 - val_loss: 377.7178 - val_root_mean_squared_error: 19.4350\n",
      "Epoch 32/100\n",
      "277/277 [==============================] - 0s 1ms/step - loss: 275.6364 - root_mean_squared_error: 16.6023 - val_loss: 381.7484 - val_root_mean_squared_error: 19.5384\n",
      "Epoch 33/100\n",
      "277/277 [==============================] - 0s 1ms/step - loss: 274.6776 - root_mean_squared_error: 16.5734 - val_loss: 365.9055 - val_root_mean_squared_error: 19.1287\n",
      "Epoch 34/100\n",
      "277/277 [==============================] - 0s 1ms/step - loss: 268.6957 - root_mean_squared_error: 16.3919 - val_loss: 360.9374 - val_root_mean_squared_error: 18.9984\n",
      "Epoch 35/100\n",
      "277/277 [==============================] - 0s 1ms/step - loss: 265.5158 - root_mean_squared_error: 16.2947 - val_loss: 381.1954 - val_root_mean_squared_error: 19.5242\n",
      "Epoch 36/100\n",
      "277/277 [==============================] - 0s 1ms/step - loss: 265.1846 - root_mean_squared_error: 16.2845 - val_loss: 373.3564 - val_root_mean_squared_error: 19.3224\n",
      "Epoch 37/100\n",
      "277/277 [==============================] - 0s 1ms/step - loss: 261.8035 - root_mean_squared_error: 16.1803 - val_loss: 375.1195 - val_root_mean_squared_error: 19.3680\n",
      "Epoch 38/100\n",
      "277/277 [==============================] - 0s 1ms/step - loss: 256.2570 - root_mean_squared_error: 16.0080 - val_loss: 375.3983 - val_root_mean_squared_error: 19.3752\n",
      "Epoch 39/100\n",
      "277/277 [==============================] - 0s 1ms/step - loss: 254.3076 - root_mean_squared_error: 15.9470 - val_loss: 378.6423 - val_root_mean_squared_error: 19.4587\n",
      "Epoch 40/100\n",
      "277/277 [==============================] - 0s 1ms/step - loss: 252.1718 - root_mean_squared_error: 15.8799 - val_loss: 375.5545 - val_root_mean_squared_error: 19.3792\n",
      "Epoch 41/100\n",
      "277/277 [==============================] - 0s 1ms/step - loss: 248.9091 - root_mean_squared_error: 15.7769 - val_loss: 385.1737 - val_root_mean_squared_error: 19.6258\n",
      "Epoch 42/100\n",
      "277/277 [==============================] - 0s 1ms/step - loss: 247.5514 - root_mean_squared_error: 15.7338 - val_loss: 362.4242 - val_root_mean_squared_error: 19.0374\n",
      "Epoch 43/100\n",
      "277/277 [==============================] - 0s 1ms/step - loss: 242.8493 - root_mean_squared_error: 15.5836 - val_loss: 375.7032 - val_root_mean_squared_error: 19.3831\n",
      "Epoch 44/100\n",
      "277/277 [==============================] - 0s 1ms/step - loss: 242.1012 - root_mean_squared_error: 15.5596 - val_loss: 379.5089 - val_root_mean_squared_error: 19.4810\n",
      "Epoch 45/100\n",
      "277/277 [==============================] - 0s 1ms/step - loss: 239.8638 - root_mean_squared_error: 15.4875 - val_loss: 372.5222 - val_root_mean_squared_error: 19.3008\n",
      "Epoch 46/100\n",
      "277/277 [==============================] - 0s 1ms/step - loss: 233.8218 - root_mean_squared_error: 15.2912 - val_loss: 375.8903 - val_root_mean_squared_error: 19.3879\n",
      "Epoch 47/100\n",
      "277/277 [==============================] - 0s 1ms/step - loss: 233.6999 - root_mean_squared_error: 15.2872 - val_loss: 358.4054 - val_root_mean_squared_error: 18.9316\n",
      "Epoch 48/100\n",
      "277/277 [==============================] - 0s 1ms/step - loss: 231.3807 - root_mean_squared_error: 15.2112 - val_loss: 364.9073 - val_root_mean_squared_error: 19.1025\n",
      "Epoch 49/100\n",
      "277/277 [==============================] - 0s 1ms/step - loss: 228.9434 - root_mean_squared_error: 15.1309 - val_loss: 366.3799 - val_root_mean_squared_error: 19.1411\n",
      "Epoch 50/100\n",
      "277/277 [==============================] - 0s 1ms/step - loss: 228.0853 - root_mean_squared_error: 15.1025 - val_loss: 384.7666 - val_root_mean_squared_error: 19.6155\n",
      "Epoch 51/100\n",
      "277/277 [==============================] - 0s 1ms/step - loss: 223.4299 - root_mean_squared_error: 14.9476 - val_loss: 364.7711 - val_root_mean_squared_error: 19.0990\n",
      "Epoch 52/100\n",
      "277/277 [==============================] - 0s 1ms/step - loss: 221.9226 - root_mean_squared_error: 14.8971 - val_loss: 376.5584 - val_root_mean_squared_error: 19.4051\n",
      "Epoch 53/100\n",
      "277/277 [==============================] - 0s 1ms/step - loss: 220.8788 - root_mean_squared_error: 14.8620 - val_loss: 363.8166 - val_root_mean_squared_error: 19.0740\n",
      "Epoch 54/100\n",
      "277/277 [==============================] - 0s 1ms/step - loss: 217.3083 - root_mean_squared_error: 14.7414 - val_loss: 367.3454 - val_root_mean_squared_error: 19.1663\n",
      "Epoch 55/100\n",
      "277/277 [==============================] - 0s 1ms/step - loss: 214.5464 - root_mean_squared_error: 14.6474 - val_loss: 368.5469 - val_root_mean_squared_error: 19.1976\n",
      "Epoch 56/100\n",
      "277/277 [==============================] - 0s 1ms/step - loss: 215.0193 - root_mean_squared_error: 14.6635 - val_loss: 356.7143 - val_root_mean_squared_error: 18.8869\n",
      "Epoch 57/100\n",
      "277/277 [==============================] - 0s 1ms/step - loss: 216.1674 - root_mean_squared_error: 14.7026 - val_loss: 365.5694 - val_root_mean_squared_error: 19.1199\n",
      "Epoch 58/100\n",
      "277/277 [==============================] - 0s 1ms/step - loss: 207.4819 - root_mean_squared_error: 14.4042 - val_loss: 370.1909 - val_root_mean_squared_error: 19.2403\n",
      "Epoch 59/100\n",
      "277/277 [==============================] - 0s 1ms/step - loss: 206.2737 - root_mean_squared_error: 14.3622 - val_loss: 382.2175 - val_root_mean_squared_error: 19.5504\n",
      "Epoch 60/100\n",
      "277/277 [==============================] - 0s 1ms/step - loss: 208.2623 - root_mean_squared_error: 14.4313 - val_loss: 374.9692 - val_root_mean_squared_error: 19.3641\n",
      "Epoch 61/100\n",
      "277/277 [==============================] - 0s 1ms/step - loss: 203.3850 - root_mean_squared_error: 14.2613 - val_loss: 382.7941 - val_root_mean_squared_error: 19.5651\n",
      "Epoch 62/100\n",
      "277/277 [==============================] - 0s 1ms/step - loss: 201.4897 - root_mean_squared_error: 14.1947 - val_loss: 358.2913 - val_root_mean_squared_error: 18.9286\n",
      "Epoch 63/100\n",
      "277/277 [==============================] - 0s 1ms/step - loss: 203.9336 - root_mean_squared_error: 14.2805 - val_loss: 377.0064 - val_root_mean_squared_error: 19.4167\n",
      "Epoch 64/100\n",
      "277/277 [==============================] - 0s 1ms/step - loss: 198.0309 - root_mean_squared_error: 14.0723 - val_loss: 368.0559 - val_root_mean_squared_error: 19.1848\n",
      "Epoch 65/100\n",
      "277/277 [==============================] - 0s 1ms/step - loss: 197.1041 - root_mean_squared_error: 14.0394 - val_loss: 352.3819 - val_root_mean_squared_error: 18.7718\n",
      "Epoch 66/100\n",
      "277/277 [==============================] - 0s 1ms/step - loss: 196.6531 - root_mean_squared_error: 14.0233 - val_loss: 362.4856 - val_root_mean_squared_error: 19.0391\n",
      "Epoch 67/100\n",
      "277/277 [==============================] - 0s 1ms/step - loss: 193.5969 - root_mean_squared_error: 13.9139 - val_loss: 370.4857 - val_root_mean_squared_error: 19.2480\n",
      "Epoch 68/100\n",
      "277/277 [==============================] - 0s 1ms/step - loss: 191.7014 - root_mean_squared_error: 13.8456 - val_loss: 352.6557 - val_root_mean_squared_error: 18.7791\n",
      "Epoch 69/100\n",
      "277/277 [==============================] - 0s 1ms/step - loss: 186.7291 - root_mean_squared_error: 13.6649 - val_loss: 358.3778 - val_root_mean_squared_error: 18.9309\n",
      "Epoch 70/100\n",
      "277/277 [==============================] - 0s 1ms/step - loss: 187.2275 - root_mean_squared_error: 13.6831 - val_loss: 393.4593 - val_root_mean_squared_error: 19.8358\n",
      "Epoch 71/100\n",
      "277/277 [==============================] - 0s 1ms/step - loss: 191.1364 - root_mean_squared_error: 13.8252 - val_loss: 371.8490 - val_root_mean_squared_error: 19.2834\n",
      "Epoch 72/100\n",
      "277/277 [==============================] - 0s 1ms/step - loss: 185.4964 - root_mean_squared_error: 13.6197 - val_loss: 357.9280 - val_root_mean_squared_error: 18.9190\n",
      "Epoch 73/100\n",
      "277/277 [==============================] - 0s 1ms/step - loss: 183.8293 - root_mean_squared_error: 13.5584 - val_loss: 384.1443 - val_root_mean_squared_error: 19.5996\n",
      "Epoch 74/100\n",
      "277/277 [==============================] - 0s 1ms/step - loss: 186.4522 - root_mean_squared_error: 13.6547 - val_loss: 367.9073 - val_root_mean_squared_error: 19.1809\n",
      "Epoch 75/100\n",
      "277/277 [==============================] - 0s 1ms/step - loss: 176.0061 - root_mean_squared_error: 13.2667 - val_loss: 356.5401 - val_root_mean_squared_error: 18.8823\n",
      "Epoch 76/100\n",
      "277/277 [==============================] - 0s 1ms/step - loss: 181.4993 - root_mean_squared_error: 13.4722 - val_loss: 352.2927 - val_root_mean_squared_error: 18.7695\n",
      "Epoch 77/100\n",
      "277/277 [==============================] - 0s 1ms/step - loss: 180.9113 - root_mean_squared_error: 13.4503 - val_loss: 349.4958 - val_root_mean_squared_error: 18.6948\n",
      "Epoch 78/100\n",
      "277/277 [==============================] - 0s 1ms/step - loss: 176.0482 - root_mean_squared_error: 13.2683 - val_loss: 349.5323 - val_root_mean_squared_error: 18.6958\n",
      "Epoch 79/100\n",
      "277/277 [==============================] - 0s 1ms/step - loss: 178.5650 - root_mean_squared_error: 13.3628 - val_loss: 370.0842 - val_root_mean_squared_error: 19.2376\n",
      "Epoch 80/100\n",
      "277/277 [==============================] - 0s 1ms/step - loss: 175.9362 - root_mean_squared_error: 13.2641 - val_loss: 361.8757 - val_root_mean_squared_error: 19.0230\n",
      "Epoch 81/100\n",
      "277/277 [==============================] - 0s 1ms/step - loss: 172.3488 - root_mean_squared_error: 13.1282 - val_loss: 375.8017 - val_root_mean_squared_error: 19.3856\n",
      "Epoch 82/100\n",
      "277/277 [==============================] - 0s 1ms/step - loss: 171.7832 - root_mean_squared_error: 13.1066 - val_loss: 364.1777 - val_root_mean_squared_error: 19.0834\n",
      "Epoch 83/100\n",
      "277/277 [==============================] - 0s 1ms/step - loss: 172.0020 - root_mean_squared_error: 13.1150 - val_loss: 355.1438 - val_root_mean_squared_error: 18.8453\n",
      "Epoch 84/100\n",
      "277/277 [==============================] - 0s 1ms/step - loss: 172.2917 - root_mean_squared_error: 13.1260 - val_loss: 356.2182 - val_root_mean_squared_error: 18.8737\n",
      "Epoch 85/100\n",
      "277/277 [==============================] - 0s 1ms/step - loss: 168.4225 - root_mean_squared_error: 12.9778 - val_loss: 359.5544 - val_root_mean_squared_error: 18.9619\n",
      "Epoch 86/100\n",
      "277/277 [==============================] - 0s 1ms/step - loss: 164.3761 - root_mean_squared_error: 12.8209 - val_loss: 369.3623 - val_root_mean_squared_error: 19.2188\n",
      "Epoch 87/100\n",
      "277/277 [==============================] - 0s 1ms/step - loss: 166.9295 - root_mean_squared_error: 12.9201 - val_loss: 371.0300 - val_root_mean_squared_error: 19.2621\n",
      "Epoch 88/100\n",
      "277/277 [==============================] - 0s 1ms/step - loss: 166.1746 - root_mean_squared_error: 12.8909 - val_loss: 367.4799 - val_root_mean_squared_error: 19.1698\n",
      "Epoch 89/100\n",
      "277/277 [==============================] - 0s 1ms/step - loss: 162.0036 - root_mean_squared_error: 12.7281 - val_loss: 363.2921 - val_root_mean_squared_error: 19.0602\n",
      "Epoch 90/100\n",
      "277/277 [==============================] - 0s 1ms/step - loss: 162.5095 - root_mean_squared_error: 12.7479 - val_loss: 351.6203 - val_root_mean_squared_error: 18.7515\n",
      "Epoch 91/100\n",
      "277/277 [==============================] - 0s 1ms/step - loss: 159.4662 - root_mean_squared_error: 12.6280 - val_loss: 353.3003 - val_root_mean_squared_error: 18.7963\n",
      "Epoch 92/100\n",
      "277/277 [==============================] - 0s 1ms/step - loss: 160.8582 - root_mean_squared_error: 12.6830 - val_loss: 356.6161 - val_root_mean_squared_error: 18.8843\n",
      "Epoch 93/100\n",
      "277/277 [==============================] - 0s 1ms/step - loss: 158.5084 - root_mean_squared_error: 12.5900 - val_loss: 390.6957 - val_root_mean_squared_error: 19.7660\n",
      "Epoch 94/100\n",
      "277/277 [==============================] - 0s 1ms/step - loss: 161.8962 - root_mean_squared_error: 12.7238 - val_loss: 362.5364 - val_root_mean_squared_error: 19.0404\n",
      "Epoch 95/100\n",
      "277/277 [==============================] - 0s 1ms/step - loss: 151.6859 - root_mean_squared_error: 12.3161 - val_loss: 350.3401 - val_root_mean_squared_error: 18.7174\n",
      "Epoch 96/100\n",
      "277/277 [==============================] - 0s 1ms/step - loss: 160.6535 - root_mean_squared_error: 12.6749 - val_loss: 365.7483 - val_root_mean_squared_error: 19.1245\n",
      "Epoch 97/100\n",
      "277/277 [==============================] - 0s 1ms/step - loss: 154.0227 - root_mean_squared_error: 12.4106 - val_loss: 367.9993 - val_root_mean_squared_error: 19.1833\n",
      "Epoch 98/100\n",
      "277/277 [==============================] - 0s 1ms/step - loss: 155.3795 - root_mean_squared_error: 12.4651 - val_loss: 346.4958 - val_root_mean_squared_error: 18.6144\n",
      "Epoch 99/100\n",
      "277/277 [==============================] - 0s 1ms/step - loss: 154.3089 - root_mean_squared_error: 12.4221 - val_loss: 366.9102 - val_root_mean_squared_error: 19.1549\n",
      "Epoch 100/100\n",
      "277/277 [==============================] - 0s 1ms/step - loss: 153.4416 - root_mean_squared_error: 12.3872 - val_loss: 369.5819 - val_root_mean_squared_error: 19.2245\n"
     ]
    }
   ],
   "source": [
    "optimizer = tf.keras.optimizers.Nadam(learning_rate=1e-3)\n",
    "model.compile(loss=\"mse\", optimizer=optimizer, metrics=[\"RootMeanSquaredError\"])\n",
    "norm_layer.adapt(X_train)\n",
    "history = model.fit(X_train, y_train, epochs=100,\n",
    "                    validation_data=(X_valid, y_valid))"
   ]
  },
  {
   "cell_type": "code",
   "execution_count": 49,
   "metadata": {},
   "outputs": [
    {
     "data": {
      "image/png": "[encoded data removed]",
      "text/plain": [
       "<Figure size 800x500 with 1 Axes>"
      ]
     },
     "metadata": {},
     "output_type": "display_data"
    }
   ],
   "source": [
    "import matplotlib.pyplot as plt\n",
    "\n",
    "pd.DataFrame(history.history).plot(\n",
    "    figsize=(8, 5), xlim=[0, 5], ylim=[0, 50], grid=True, xlabel=\"Epoch\",\n",
    "    style=[\"r--\", \"r--.\", \"b-\", \"b-*\"])\n",
    "plt.legend(loc=\"lower left\")\n",
    "plt.show()"
   ]
  },
  {
   "cell_type": "code",
   "execution_count": 50,
   "metadata": {},
   "outputs": [],
   "source": [
    "leaky_relu = tf.keras.layers.LeakyReLU(alpha=0.2)"
   ]
  },
  {
   "cell_type": "code",
   "execution_count": 54,
   "metadata": {},
   "outputs": [],
   "source": [
    "model = tf.keras.Sequential([\n",
    "    tf.keras.layers.Flatten(),\n",
    "    tf.keras.layers.BatchNormalization(),\n",
    "    tf.keras.layers.Dense(300, activation=leaky_relu,\n",
    "                          kernel_initializer=\"he_normal\"),\n",
    "    tf.keras.layers.BatchNormalization(),\n",
    "    tf.keras.layers.Dense(100, activation=leaky_relu,\n",
    "                          kernel_initializer=\"he_normal\"),\n",
    "    tf.keras.layers.BatchNormalization(),\n",
    "    tf.keras.layers.Dense(1)\n",
    "])"
   ]
  },
  {
   "cell_type": "code",
   "execution_count": 55,
   "metadata": {},
   "outputs": [],
   "source": [
    "optimizer = tf.keras.optimizers.Nadam(learning_rate=1e-3)\n",
    "model.compile(loss=\"mse\", optimizer=optimizer, metrics=[\"RootMeanSquaredError\"])"
   ]
  },
  {
   "cell_type": "code",
   "execution_count": 56,
   "metadata": {},
   "outputs": [
    {
     "name": "stdout",
     "output_type": "stream",
     "text": [
      "Epoch 1/50\n",
      "277/277 [==============================] - 2s 2ms/step - loss: 2472.7390 - root_mean_squared_error: 49.7266 - val_loss: 623.7928 - val_root_mean_squared_error: 24.9758\n",
      "Epoch 2/50\n",
      "277/277 [==============================] - 0s 2ms/step - loss: 1068.1967 - root_mean_squared_error: 32.6833 - val_loss: 582.5161 - val_root_mean_squared_error: 24.1354\n",
      "Epoch 3/50\n",
      "277/277 [==============================] - 0s 1ms/step - loss: 502.4700 - root_mean_squared_error: 22.4158 - val_loss: 471.6185 - val_root_mean_squared_error: 21.7168\n",
      "Epoch 4/50\n",
      "277/277 [==============================] - 0s 2ms/step - loss: 473.5563 - root_mean_squared_error: 21.7613 - val_loss: 473.5749 - val_root_mean_squared_error: 21.7618\n",
      "Epoch 5/50\n",
      "277/277 [==============================] - 0s 2ms/step - loss: 471.8544 - root_mean_squared_error: 21.7222 - val_loss: 481.2686 - val_root_mean_squared_error: 21.9378\n",
      "Epoch 6/50\n",
      "277/277 [==============================] - 0s 2ms/step - loss: 462.7759 - root_mean_squared_error: 21.5122 - val_loss: 465.6127 - val_root_mean_squared_error: 21.5781\n",
      "Epoch 7/50\n",
      "277/277 [==============================] - 0s 2ms/step - loss: 465.5095 - root_mean_squared_error: 21.5757 - val_loss: 461.0588 - val_root_mean_squared_error: 21.4723\n",
      "Epoch 8/50\n",
      "277/277 [==============================] - 0s 2ms/step - loss: 461.6613 - root_mean_squared_error: 21.4863 - val_loss: 460.0551 - val_root_mean_squared_error: 21.4489\n",
      "Epoch 9/50\n",
      "277/277 [==============================] - 0s 2ms/step - loss: 465.8841 - root_mean_squared_error: 21.5843 - val_loss: 460.7783 - val_root_mean_squared_error: 21.4657\n",
      "Epoch 10/50\n",
      "277/277 [==============================] - 0s 2ms/step - loss: 459.4651 - root_mean_squared_error: 21.4351 - val_loss: 460.5318 - val_root_mean_squared_error: 21.4600\n",
      "Epoch 11/50\n",
      "277/277 [==============================] - 0s 2ms/step - loss: 463.6599 - root_mean_squared_error: 21.5328 - val_loss: 462.7050 - val_root_mean_squared_error: 21.5106\n",
      "Epoch 12/50\n",
      "277/277 [==============================] - 0s 2ms/step - loss: 461.3486 - root_mean_squared_error: 21.4790 - val_loss: 462.0793 - val_root_mean_squared_error: 21.4960\n",
      "Epoch 13/50\n",
      "277/277 [==============================] - 0s 2ms/step - loss: 461.7829 - root_mean_squared_error: 21.4891 - val_loss: 457.0284 - val_root_mean_squared_error: 21.3782\n",
      "Epoch 14/50\n",
      "277/277 [==============================] - 0s 2ms/step - loss: 446.9510 - root_mean_squared_error: 21.1412 - val_loss: 455.6023 - val_root_mean_squared_error: 21.3448\n",
      "Epoch 15/50\n",
      "277/277 [==============================] - 0s 2ms/step - loss: 449.7788 - root_mean_squared_error: 21.2080 - val_loss: 449.2617 - val_root_mean_squared_error: 21.1958\n",
      "Epoch 16/50\n",
      "277/277 [==============================] - 0s 2ms/step - loss: 444.0687 - root_mean_squared_error: 21.0729 - val_loss: 452.0343 - val_root_mean_squared_error: 21.2611\n",
      "Epoch 17/50\n",
      "277/277 [==============================] - 0s 1ms/step - loss: 450.7591 - root_mean_squared_error: 21.2311 - val_loss: 464.1181 - val_root_mean_squared_error: 21.5434\n",
      "Epoch 18/50\n",
      "277/277 [==============================] - 0s 1ms/step - loss: 445.6262 - root_mean_squared_error: 21.1099 - val_loss: 446.1582 - val_root_mean_squared_error: 21.1225\n",
      "Epoch 19/50\n",
      "277/277 [==============================] - 0s 1ms/step - loss: 439.2339 - root_mean_squared_error: 20.9579 - val_loss: 442.5376 - val_root_mean_squared_error: 21.0366\n",
      "Epoch 20/50\n",
      "277/277 [==============================] - 0s 1ms/step - loss: 443.2992 - root_mean_squared_error: 21.0547 - val_loss: 442.4097 - val_root_mean_squared_error: 21.0335\n",
      "Epoch 21/50\n",
      "277/277 [==============================] - 0s 1ms/step - loss: 449.7314 - root_mean_squared_error: 21.2069 - val_loss: 440.8511 - val_root_mean_squared_error: 20.9965\n",
      "Epoch 22/50\n",
      "277/277 [==============================] - 0s 1ms/step - loss: 447.3273 - root_mean_squared_error: 21.1501 - val_loss: 451.2317 - val_root_mean_squared_error: 21.2422\n",
      "Epoch 23/50\n",
      "277/277 [==============================] - 0s 1ms/step - loss: 440.7405 - root_mean_squared_error: 20.9938 - val_loss: 454.2519 - val_root_mean_squared_error: 21.3132\n",
      "Epoch 24/50\n",
      "277/277 [==============================] - 0s 1ms/step - loss: 438.1439 - root_mean_squared_error: 20.9319 - val_loss: 438.1131 - val_root_mean_squared_error: 20.9312\n",
      "Epoch 25/50\n",
      "277/277 [==============================] - 0s 1ms/step - loss: 437.8879 - root_mean_squared_error: 20.9258 - val_loss: 442.1663 - val_root_mean_squared_error: 21.0278\n",
      "Epoch 26/50\n",
      "277/277 [==============================] - 0s 1ms/step - loss: 439.0191 - root_mean_squared_error: 20.9528 - val_loss: 436.2889 - val_root_mean_squared_error: 20.8875\n",
      "Epoch 27/50\n",
      "277/277 [==============================] - 0s 1ms/step - loss: 439.4825 - root_mean_squared_error: 20.9638 - val_loss: 449.4135 - val_root_mean_squared_error: 21.1994\n",
      "Epoch 28/50\n",
      "277/277 [==============================] - 0s 1ms/step - loss: 434.1071 - root_mean_squared_error: 20.8352 - val_loss: 441.8342 - val_root_mean_squared_error: 21.0199\n",
      "Epoch 29/50\n",
      "277/277 [==============================] - 0s 1ms/step - loss: 430.3863 - root_mean_squared_error: 20.7458 - val_loss: 435.1671 - val_root_mean_squared_error: 20.8607\n",
      "Epoch 30/50\n",
      "277/277 [==============================] - 0s 1ms/step - loss: 437.5618 - root_mean_squared_error: 20.9180 - val_loss: 438.9428 - val_root_mean_squared_error: 20.9510\n",
      "Epoch 31/50\n",
      "277/277 [==============================] - 0s 1ms/step - loss: 437.9522 - root_mean_squared_error: 20.9273 - val_loss: 442.4739 - val_root_mean_squared_error: 21.0351\n",
      "Epoch 32/50\n",
      "277/277 [==============================] - 0s 2ms/step - loss: 430.6632 - root_mean_squared_error: 20.7524 - val_loss: 437.8009 - val_root_mean_squared_error: 20.9237\n",
      "Epoch 33/50\n",
      "277/277 [==============================] - 0s 1ms/step - loss: 429.6342 - root_mean_squared_error: 20.7276 - val_loss: 438.0288 - val_root_mean_squared_error: 20.9291\n",
      "Epoch 34/50\n",
      "277/277 [==============================] - 0s 1ms/step - loss: 429.3177 - root_mean_squared_error: 20.7200 - val_loss: 433.1159 - val_root_mean_squared_error: 20.8114\n",
      "Epoch 35/50\n",
      "277/277 [==============================] - 0s 1ms/step - loss: 433.7868 - root_mean_squared_error: 20.8275 - val_loss: 435.1212 - val_root_mean_squared_error: 20.8596\n",
      "Epoch 36/50\n",
      "277/277 [==============================] - 0s 1ms/step - loss: 430.9430 - root_mean_squared_error: 20.7592 - val_loss: 429.7853 - val_root_mean_squared_error: 20.7313\n",
      "Epoch 37/50\n",
      "277/277 [==============================] - 0s 1ms/step - loss: 427.2126 - root_mean_squared_error: 20.6691 - val_loss: 447.6999 - val_root_mean_squared_error: 21.1589\n",
      "Epoch 38/50\n",
      "277/277 [==============================] - 0s 1ms/step - loss: 426.3716 - root_mean_squared_error: 20.6488 - val_loss: 445.8055 - val_root_mean_squared_error: 21.1141\n",
      "Epoch 39/50\n",
      "277/277 [==============================] - 0s 1ms/step - loss: 434.2872 - root_mean_squared_error: 20.8396 - val_loss: 441.8297 - val_root_mean_squared_error: 21.0197\n",
      "Epoch 40/50\n",
      "277/277 [==============================] - 0s 1ms/step - loss: 423.9513 - root_mean_squared_error: 20.5901 - val_loss: 442.7968 - val_root_mean_squared_error: 21.0427\n",
      "Epoch 41/50\n",
      "277/277 [==============================] - 0s 1ms/step - loss: 425.9187 - root_mean_squared_error: 20.6378 - val_loss: 432.7045 - val_root_mean_squared_error: 20.8016\n",
      "Epoch 42/50\n",
      "277/277 [==============================] - 0s 1ms/step - loss: 418.9389 - root_mean_squared_error: 20.4680 - val_loss: 434.3781 - val_root_mean_squared_error: 20.8417\n",
      "Epoch 43/50\n",
      "277/277 [==============================] - 0s 1ms/step - loss: 421.0450 - root_mean_squared_error: 20.5194 - val_loss: 433.0981 - val_root_mean_squared_error: 20.8110\n",
      "Epoch 44/50\n",
      "277/277 [==============================] - 0s 1ms/step - loss: 429.7064 - root_mean_squared_error: 20.7294 - val_loss: 438.0051 - val_root_mean_squared_error: 20.9286\n",
      "Epoch 45/50\n",
      "277/277 [==============================] - 0s 1ms/step - loss: 420.7391 - root_mean_squared_error: 20.5119 - val_loss: 426.0249 - val_root_mean_squared_error: 20.6404\n",
      "Epoch 46/50\n",
      "277/277 [==============================] - 0s 1ms/step - loss: 423.5134 - root_mean_squared_error: 20.5794 - val_loss: 428.3052 - val_root_mean_squared_error: 20.6955\n",
      "Epoch 47/50\n",
      "277/277 [==============================] - 0s 2ms/step - loss: 427.3809 - root_mean_squared_error: 20.6732 - val_loss: 440.0382 - val_root_mean_squared_error: 20.9771\n",
      "Epoch 48/50\n",
      "277/277 [==============================] - 0s 1ms/step - loss: 417.1576 - root_mean_squared_error: 20.4244 - val_loss: 422.3804 - val_root_mean_squared_error: 20.5519\n",
      "Epoch 49/50\n",
      "277/277 [==============================] - 0s 1ms/step - loss: 420.3183 - root_mean_squared_error: 20.5017 - val_loss: 426.4967 - val_root_mean_squared_error: 20.6518\n",
      "Epoch 50/50\n",
      "277/277 [==============================] - 0s 1ms/step - loss: 422.1930 - root_mean_squared_error: 20.5473 - val_loss: 424.9218 - val_root_mean_squared_error: 20.6136\n"
     ]
    }
   ],
   "source": [
    "history = model.fit(X_train, y_train, epochs=50,\n",
    "                    validation_data=(X_valid, y_valid))"
   ]
  },
  {
   "cell_type": "code",
   "execution_count": 57,
   "metadata": {},
   "outputs": [
    {
     "data": {
      "image/png": "[encoded data removed]",
      "text/plain": [
       "<Figure size 800x500 with 1 Axes>"
      ]
     },
     "metadata": {},
     "output_type": "display_data"
    }
   ],
   "source": [
    "import matplotlib.pyplot as plt\n",
    "\n",
    "pd.DataFrame(history.history).plot(\n",
    "    figsize=(8, 5), xlim=[0, 5], ylim=[0, 50], grid=True, xlabel=\"Epoch\",\n",
    "    style=[\"r--\", \"r--.\", \"b-\", \"b-*\"])\n",
    "plt.legend(loc=\"lower left\")\n",
    "plt.show()"
   ]
  },
  {
   "cell_type": "code",
   "execution_count": 58,
   "metadata": {},
   "outputs": [
    {
     "name": "stderr",
     "output_type": "stream",
     "text": [
      "WARNING:absl:Found untraced functions such as _update_step_xla, leaky_re_lu_layer_call_fn, leaky_re_lu_layer_call_and_return_conditional_losses while saving (showing 3 of 3). These functions will not be directly callable after loading.\n"
     ]
    },
    {
     "name": "stdout",
     "output_type": "stream",
     "text": [
      "INFO:tensorflow:Assets written to: C:/Users/Aravind/Work/PROJECTS/Cloudburst-Prediction-System/models/api_model\\assets\n"
     ]
    },
    {
     "name": "stderr",
     "output_type": "stream",
     "text": [
      "INFO:tensorflow:Assets written to: C:/Users/Aravind/Work/PROJECTS/Cloudburst-Prediction-System/models/api_model\\assets\n"
     ]
    }
   ],
   "source": [
    "model.save(\"C:/Users/Aravind/Work/PROJECTS/Cloudburst-Prediction-System/models/api_model\" , save_format=\"tf\")"
   ]
  }
 ],
 "metadata": {
  "kernelspec": {
   "display_name": "Python 3",
   "language": "python",
   "name": "python3"
  },
  "language_info": {
   "codemirror_mode": {
    "name": "ipython",
    "version": 3
   },
   "file_extension": ".py",
   "mimetype": "text/x-python",
   "name": "python",
   "nbconvert_exporter": "python",
   "pygments_lexer": "ipython3",
   "version": "3.11.5"
  }
 },
 "nbformat": 4,
 "nbformat_minor": 2
}
