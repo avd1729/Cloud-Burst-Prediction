{
 "cells": [
  {
   "cell_type": "code",
   "execution_count": 165,
   "metadata": {},
   "outputs": [],
   "source": [
    "import warnings\n",
    "warnings.filterwarnings('ignore')"
   ]
  },
  {
   "cell_type": "code",
   "execution_count": 166,
   "metadata": {},
   "outputs": [],
   "source": [
    "import numpy as np\n",
    "import pandas as pd\n",
    "import tensorflow as tf"
   ]
  },
  {
   "cell_type": "code",
   "execution_count": 167,
   "metadata": {},
   "outputs": [],
   "source": [
    "data = pd.read_csv('C:/Users/Aravind/Work/PROJECTS/Cloudburst-Prediction-System/data/processed/Data-final.csv')"
   ]
  },
  {
   "cell_type": "code",
   "execution_count": 168,
   "metadata": {},
   "outputs": [
    {
     "name": "stdout",
     "output_type": "stream",
     "text": [
      "<class 'pandas.core.frame.DataFrame'>\n",
      "RangeIndex: 9840 entries, 0 to 9839\n",
      "Data columns (total 27 columns):\n",
      " #   Column                        Non-Null Count  Dtype  \n",
      "---  ------                        --------------  -----  \n",
      " 0   latitude                      9840 non-null   float64\n",
      " 1   longitude                     9840 non-null   float64\n",
      " 2   temperature_celsius           9840 non-null   float64\n",
      " 3   condition_text                9840 non-null   float64\n",
      " 4   wind_mph                      9840 non-null   float64\n",
      " 5   wind_degree                   9840 non-null   int64  \n",
      " 6   wind_direction                9840 non-null   float64\n",
      " 7   pressure_mb                   9840 non-null   float64\n",
      " 8   pressure_in                   9840 non-null   float64\n",
      " 9   precip_mm                     9840 non-null   float64\n",
      " 10  precip_in                     9840 non-null   float64\n",
      " 11  humidity                      9840 non-null   int64  \n",
      " 12  cloud                         9840 non-null   int64  \n",
      " 13  feels_like_celsius            9840 non-null   float64\n",
      " 14  visibility_miles              9840 non-null   float64\n",
      " 15  uv_index                      9840 non-null   float64\n",
      " 16  gust_mph                      9840 non-null   float64\n",
      " 17  air_quality_Carbon_Monoxide   9840 non-null   float64\n",
      " 18  air_quality_Ozone             9840 non-null   float64\n",
      " 19  air_quality_Nitrogen_dioxide  9840 non-null   float64\n",
      " 20  air_quality_Sulphur_dioxide   9840 non-null   float64\n",
      " 21  air_quality_PM2.5             9840 non-null   float64\n",
      " 22  air_quality_PM10              9840 non-null   float64\n",
      " 23  air_quality_us-epa-index      9840 non-null   int64  \n",
      " 24  air_quality_gb-defra-index    9840 non-null   int64  \n",
      " 25  moon_phase                    9840 non-null   float64\n",
      " 26  moon_illumination             9840 non-null   int64  \n",
      "dtypes: float64(21), int64(6)\n",
      "memory usage: 2.0 MB\n"
     ]
    }
   ],
   "source": [
    "data.info()"
   ]
  },
  {
   "cell_type": "code",
   "execution_count": 169,
   "metadata": {},
   "outputs": [],
   "source": [
    "data = data[['latitude' , 'longitude' ,'temperature_celsius' , 'feels_like_celsius' , 'pressure_mb' , 'humidity' ,  'wind_mph' , 'wind_degree' , 'cloud']]"
   ]
  },
  {
   "cell_type": "code",
   "execution_count": 170,
   "metadata": {},
   "outputs": [
    {
     "name": "stdout",
     "output_type": "stream",
     "text": [
      "<class 'pandas.core.frame.DataFrame'>\n",
      "RangeIndex: 9840 entries, 0 to 9839\n",
      "Data columns (total 9 columns):\n",
      " #   Column               Non-Null Count  Dtype  \n",
      "---  ------               --------------  -----  \n",
      " 0   latitude             9840 non-null   float64\n",
      " 1   longitude            9840 non-null   float64\n",
      " 2   temperature_celsius  9840 non-null   float64\n",
      " 3   feels_like_celsius   9840 non-null   float64\n",
      " 4   pressure_mb          9840 non-null   float64\n",
      " 5   humidity             9840 non-null   int64  \n",
      " 6   wind_mph             9840 non-null   float64\n",
      " 7   wind_degree          9840 non-null   int64  \n",
      " 8   cloud                9840 non-null   int64  \n",
      "dtypes: float64(6), int64(3)\n",
      "memory usage: 692.0 KB\n"
     ]
    }
   ],
   "source": [
    "data.info()"
   ]
  },
  {
   "cell_type": "code",
   "execution_count": 171,
   "metadata": {},
   "outputs": [],
   "source": [
    "conversion_factor = 273.15\n",
    "data['temperature_celsius'] = data['temperature_celsius'].add(conversion_factor)\n",
    "data['feels_like_celsius'] = data['feels_like_celsius'].add(conversion_factor)"
   ]
  },
  {
   "cell_type": "code",
   "execution_count": 172,
   "metadata": {},
   "outputs": [],
   "source": [
    "new_column_name = 'temperature_kelvin'\n",
    "data = data.rename(columns={'temperature_celsius': new_column_name})"
   ]
  },
  {
   "cell_type": "code",
   "execution_count": 173,
   "metadata": {},
   "outputs": [],
   "source": [
    "new_column_name = 'feels_like_kelvin'\n",
    "data = data.rename(columns={'feels_like_celsius': new_column_name})"
   ]
  },
  {
   "cell_type": "code",
   "execution_count": 174,
   "metadata": {},
   "outputs": [
    {
     "name": "stdout",
     "output_type": "stream",
     "text": [
      "<class 'pandas.core.frame.DataFrame'>\n",
      "RangeIndex: 9840 entries, 0 to 9839\n",
      "Data columns (total 9 columns):\n",
      " #   Column              Non-Null Count  Dtype  \n",
      "---  ------              --------------  -----  \n",
      " 0   latitude            9840 non-null   float64\n",
      " 1   longitude           9840 non-null   float64\n",
      " 2   temperature_kelvin  9840 non-null   float64\n",
      " 3   feels_like_kelvin   9840 non-null   float64\n",
      " 4   pressure_mb         9840 non-null   float64\n",
      " 5   humidity            9840 non-null   int64  \n",
      " 6   wind_mph            9840 non-null   float64\n",
      " 7   wind_degree         9840 non-null   int64  \n",
      " 8   cloud               9840 non-null   int64  \n",
      "dtypes: float64(6), int64(3)\n",
      "memory usage: 692.0 KB\n"
     ]
    }
   ],
   "source": [
    "data.info()"
   ]
  },
  {
   "cell_type": "code",
   "execution_count": 175,
   "metadata": {},
   "outputs": [
    {
     "data": {
      "text/html": [
       "<div>\n",
       "<style scoped>\n",
       "    .dataframe tbody tr th:only-of-type {\n",
       "        vertical-align: middle;\n",
       "    }\n",
       "\n",
       "    .dataframe tbody tr th {\n",
       "        vertical-align: top;\n",
       "    }\n",
       "\n",
       "    .dataframe thead th {\n",
       "        text-align: right;\n",
       "    }\n",
       "</style>\n",
       "<table border=\"1\" class=\"dataframe\">\n",
       "  <thead>\n",
       "    <tr style=\"text-align: right;\">\n",
       "      <th></th>\n",
       "      <th>latitude</th>\n",
       "      <th>longitude</th>\n",
       "      <th>temperature_kelvin</th>\n",
       "      <th>feels_like_kelvin</th>\n",
       "      <th>pressure_mb</th>\n",
       "      <th>humidity</th>\n",
       "      <th>wind_mph</th>\n",
       "      <th>wind_degree</th>\n",
       "      <th>cloud</th>\n",
       "    </tr>\n",
       "  </thead>\n",
       "  <tbody>\n",
       "    <tr>\n",
       "      <th>0</th>\n",
       "      <td>24.57</td>\n",
       "      <td>77.72</td>\n",
       "      <td>300.65</td>\n",
       "      <td>302.85</td>\n",
       "      <td>1008.0</td>\n",
       "      <td>67</td>\n",
       "      <td>12.8</td>\n",
       "      <td>281</td>\n",
       "      <td>26</td>\n",
       "    </tr>\n",
       "    <tr>\n",
       "      <th>1</th>\n",
       "      <td>23.33</td>\n",
       "      <td>77.80</td>\n",
       "      <td>300.65</td>\n",
       "      <td>303.15</td>\n",
       "      <td>1008.0</td>\n",
       "      <td>70</td>\n",
       "      <td>9.6</td>\n",
       "      <td>287</td>\n",
       "      <td>19</td>\n",
       "    </tr>\n",
       "    <tr>\n",
       "      <th>2</th>\n",
       "      <td>22.07</td>\n",
       "      <td>78.93</td>\n",
       "      <td>299.45</td>\n",
       "      <td>301.35</td>\n",
       "      <td>1009.0</td>\n",
       "      <td>70</td>\n",
       "      <td>11.4</td>\n",
       "      <td>317</td>\n",
       "      <td>51</td>\n",
       "    </tr>\n",
       "    <tr>\n",
       "      <th>3</th>\n",
       "      <td>21.86</td>\n",
       "      <td>77.93</td>\n",
       "      <td>298.75</td>\n",
       "      <td>300.75</td>\n",
       "      <td>1009.0</td>\n",
       "      <td>76</td>\n",
       "      <td>10.5</td>\n",
       "      <td>297</td>\n",
       "      <td>65</td>\n",
       "    </tr>\n",
       "    <tr>\n",
       "      <th>4</th>\n",
       "      <td>22.75</td>\n",
       "      <td>77.72</td>\n",
       "      <td>300.35</td>\n",
       "      <td>303.05</td>\n",
       "      <td>1009.0</td>\n",
       "      <td>74</td>\n",
       "      <td>10.1</td>\n",
       "      <td>274</td>\n",
       "      <td>82</td>\n",
       "    </tr>\n",
       "  </tbody>\n",
       "</table>\n",
       "</div>"
      ],
      "text/plain": [
       "   latitude  longitude  temperature_kelvin  feels_like_kelvin  pressure_mb  \\\n",
       "0     24.57      77.72              300.65             302.85       1008.0   \n",
       "1     23.33      77.80              300.65             303.15       1008.0   \n",
       "2     22.07      78.93              299.45             301.35       1009.0   \n",
       "3     21.86      77.93              298.75             300.75       1009.0   \n",
       "4     22.75      77.72              300.35             303.05       1009.0   \n",
       "\n",
       "   humidity  wind_mph  wind_degree  cloud  \n",
       "0        67      12.8          281     26  \n",
       "1        70       9.6          287     19  \n",
       "2        70      11.4          317     51  \n",
       "3        76      10.5          297     65  \n",
       "4        74      10.1          274     82  "
      ]
     },
     "execution_count": 175,
     "metadata": {},
     "output_type": "execute_result"
    }
   ],
   "source": [
    "data.head()"
   ]
  },
  {
   "cell_type": "code",
   "execution_count": 176,
   "metadata": {},
   "outputs": [],
   "source": [
    "X = data.drop(['cloud'],axis=1)\n",
    "y = data['cloud']"
   ]
  },
  {
   "cell_type": "code",
   "execution_count": 177,
   "metadata": {},
   "outputs": [],
   "source": [
    "from sklearn.model_selection import train_test_split\n",
    "\n",
    "X_train , X_test , y_train , y_test = train_test_split(X , y , test_size=0.2 , random_state=42)"
   ]
  },
  {
   "cell_type": "code",
   "execution_count": 178,
   "metadata": {},
   "outputs": [],
   "source": [
    "from sklearn.metrics import mean_squared_error\n",
    "from sklearn.ensemble import RandomForestRegressor\n",
    "from sklearn.metrics import r2_score"
   ]
  },
  {
   "cell_type": "code",
   "execution_count": 179,
   "metadata": {},
   "outputs": [
    {
     "name": "stdout",
     "output_type": "stream",
     "text": [
      "Root mean squared error of the model : 19.710061913283973 \n",
      "R2 score of the model : 0.6181507586319519 \n"
     ]
    }
   ],
   "source": [
    "reg = RandomForestRegressor(max_depth=8)\n",
    "reg.fit(X_train , y_train)\n",
    "y_pred = reg.predict(X_test)\n",
    "\n",
    "rmse = np.sqrt(mean_squared_error(y_test , y_pred))\n",
    "print(f\"Root mean squared error of the model : {rmse} \")\n",
    "r2 = r2_score(y_test , y_pred)\n",
    "print(f\"R2 score of the model : {r2} \")"
   ]
  },
  {
   "cell_type": "code",
   "execution_count": 180,
   "metadata": {},
   "outputs": [],
   "source": [
    "from sklearn.linear_model import LinearRegression\n",
    "from sklearn.ensemble import ExtraTreesRegressor"
   ]
  },
  {
   "cell_type": "code",
   "execution_count": 181,
   "metadata": {},
   "outputs": [
    {
     "name": "stdout",
     "output_type": "stream",
     "text": [
      "Root mean squared error of the model : 19.632182622257652 \n",
      "R2 score of the model : 0.6211623571715161 \n"
     ]
    }
   ],
   "source": [
    "from sklearn.ensemble import StackingRegressor\n",
    "\n",
    "stacking_reg = StackingRegressor(\n",
    "    estimators = [\n",
    "        ('Extra Trees ',ExtraTreesRegressor(max_depth=8)),\n",
    "        ('Random Forest ',RandomForestRegressor(max_depth=8)),\n",
    "        ('Linear Regression', LinearRegression())\n",
    "    ],\n",
    "    final_estimator = ExtraTreesRegressor(max_depth=8) , cv = 5\n",
    ")\n",
    "stacking_reg.fit(X_train , y_train)\n",
    "y_pred = stacking_reg.predict(X_test)\n",
    "\n",
    "rmse = np.sqrt(mean_squared_error(y_test , y_pred))\n",
    "print(f\"Root mean squared error of the model : {rmse} \")\n",
    "r2 = r2_score(y_test , y_pred)\n",
    "print(f\"R2 score of the model : {r2} \")"
   ]
  },
  {
   "cell_type": "code",
   "execution_count": 182,
   "metadata": {},
   "outputs": [
    {
     "data": {
      "text/html": [
       "<style>#sk-container-id-2 {color: black;background-color: white;}#sk-container-id-2 pre{padding: 0;}#sk-container-id-2 div.sk-toggleable {background-color: white;}#sk-container-id-2 label.sk-toggleable__label {cursor: pointer;display: block;width: 100%;margin-bottom: 0;padding: 0.3em;box-sizing: border-box;text-align: center;}#sk-container-id-2 label.sk-toggleable__label-arrow:before {content: \"▸\";float: left;margin-right: 0.25em;color: #696969;}#sk-container-id-2 label.sk-toggleable__label-arrow:hover:before {color: black;}#sk-container-id-2 div.sk-estimator:hover label.sk-toggleable__label-arrow:before {color: black;}#sk-container-id-2 div.sk-toggleable__content {max-height: 0;max-width: 0;overflow: hidden;text-align: left;background-color: #f0f8ff;}#sk-container-id-2 div.sk-toggleable__content pre {margin: 0.2em;color: black;border-radius: 0.25em;background-color: #f0f8ff;}#sk-container-id-2 input.sk-toggleable__control:checked~div.sk-toggleable__content {max-height: 200px;max-width: 100%;overflow: auto;}#sk-container-id-2 input.sk-toggleable__control:checked~label.sk-toggleable__label-arrow:before {content: \"▾\";}#sk-container-id-2 div.sk-estimator input.sk-toggleable__control:checked~label.sk-toggleable__label {background-color: #d4ebff;}#sk-container-id-2 div.sk-label input.sk-toggleable__control:checked~label.sk-toggleable__label {background-color: #d4ebff;}#sk-container-id-2 input.sk-hidden--visually {border: 0;clip: rect(1px 1px 1px 1px);clip: rect(1px, 1px, 1px, 1px);height: 1px;margin: -1px;overflow: hidden;padding: 0;position: absolute;width: 1px;}#sk-container-id-2 div.sk-estimator {font-family: monospace;background-color: #f0f8ff;border: 1px dotted black;border-radius: 0.25em;box-sizing: border-box;margin-bottom: 0.5em;}#sk-container-id-2 div.sk-estimator:hover {background-color: #d4ebff;}#sk-container-id-2 div.sk-parallel-item::after {content: \"\";width: 100%;border-bottom: 1px solid gray;flex-grow: 1;}#sk-container-id-2 div.sk-label:hover label.sk-toggleable__label {background-color: #d4ebff;}#sk-container-id-2 div.sk-serial::before {content: \"\";position: absolute;border-left: 1px solid gray;box-sizing: border-box;top: 0;bottom: 0;left: 50%;z-index: 0;}#sk-container-id-2 div.sk-serial {display: flex;flex-direction: column;align-items: center;background-color: white;padding-right: 0.2em;padding-left: 0.2em;position: relative;}#sk-container-id-2 div.sk-item {position: relative;z-index: 1;}#sk-container-id-2 div.sk-parallel {display: flex;align-items: stretch;justify-content: center;background-color: white;position: relative;}#sk-container-id-2 div.sk-item::before, #sk-container-id-2 div.sk-parallel-item::before {content: \"\";position: absolute;border-left: 1px solid gray;box-sizing: border-box;top: 0;bottom: 0;left: 50%;z-index: -1;}#sk-container-id-2 div.sk-parallel-item {display: flex;flex-direction: column;z-index: 1;position: relative;background-color: white;}#sk-container-id-2 div.sk-parallel-item:first-child::after {align-self: flex-end;width: 50%;}#sk-container-id-2 div.sk-parallel-item:last-child::after {align-self: flex-start;width: 50%;}#sk-container-id-2 div.sk-parallel-item:only-child::after {width: 0;}#sk-container-id-2 div.sk-dashed-wrapped {border: 1px dashed gray;margin: 0 0.4em 0.5em 0.4em;box-sizing: border-box;padding-bottom: 0.4em;background-color: white;}#sk-container-id-2 div.sk-label label {font-family: monospace;font-weight: bold;display: inline-block;line-height: 1.2em;}#sk-container-id-2 div.sk-label-container {text-align: center;}#sk-container-id-2 div.sk-container {/* jupyter's `normalize.less` sets `[hidden] { display: none; }` but bootstrap.min.css set `[hidden] { display: none !important; }` so we also need the `!important` here to be able to override the default hidden behavior on the sphinx rendered scikit-learn.org. See: https://github.com/scikit-learn/scikit-learn/issues/21755 */display: inline-block !important;position: relative;}#sk-container-id-2 div.sk-text-repr-fallback {display: none;}</style><div id=\"sk-container-id-2\" class=\"sk-top-container\"><div class=\"sk-text-repr-fallback\"><pre>StackingRegressor(cv=5,\n",
       "                  estimators=[(&#x27;Extra Trees &#x27;,\n",
       "                               ExtraTreesRegressor(max_depth=8)),\n",
       "                              (&#x27;Random Forest &#x27;,\n",
       "                               RandomForestRegressor(max_depth=8)),\n",
       "                              (&#x27;Linear Regression&#x27;, LinearRegression())],\n",
       "                  final_estimator=ExtraTreesRegressor(max_depth=8))</pre><b>In a Jupyter environment, please rerun this cell to show the HTML representation or trust the notebook. <br />On GitHub, the HTML representation is unable to render, please try loading this page with nbviewer.org.</b></div><div class=\"sk-container\" hidden><div class=\"sk-item sk-dashed-wrapped\"><div class=\"sk-label-container\"><div class=\"sk-label sk-toggleable\"><input class=\"sk-toggleable__control sk-hidden--visually\" id=\"sk-estimator-id-6\" type=\"checkbox\" ><label for=\"sk-estimator-id-6\" class=\"sk-toggleable__label sk-toggleable__label-arrow\">StackingRegressor</label><div class=\"sk-toggleable__content\"><pre>StackingRegressor(cv=5,\n",
       "                  estimators=[(&#x27;Extra Trees &#x27;,\n",
       "                               ExtraTreesRegressor(max_depth=8)),\n",
       "                              (&#x27;Random Forest &#x27;,\n",
       "                               RandomForestRegressor(max_depth=8)),\n",
       "                              (&#x27;Linear Regression&#x27;, LinearRegression())],\n",
       "                  final_estimator=ExtraTreesRegressor(max_depth=8))</pre></div></div></div><div class=\"sk-serial\"><div class=\"sk-item\"><div class=\"sk-parallel\"><div class=\"sk-parallel-item\"><div class=\"sk-item\"><div class=\"sk-label-container\"><div class=\"sk-label sk-toggleable\"><label>Extra Trees </label></div></div><div class=\"sk-serial\"><div class=\"sk-item\"><div class=\"sk-estimator sk-toggleable\"><input class=\"sk-toggleable__control sk-hidden--visually\" id=\"sk-estimator-id-7\" type=\"checkbox\" ><label for=\"sk-estimator-id-7\" class=\"sk-toggleable__label sk-toggleable__label-arrow\">ExtraTreesRegressor</label><div class=\"sk-toggleable__content\"><pre>ExtraTreesRegressor(max_depth=8)</pre></div></div></div></div></div></div><div class=\"sk-parallel-item\"><div class=\"sk-item\"><div class=\"sk-label-container\"><div class=\"sk-label sk-toggleable\"><label>Random Forest </label></div></div><div class=\"sk-serial\"><div class=\"sk-item\"><div class=\"sk-estimator sk-toggleable\"><input class=\"sk-toggleable__control sk-hidden--visually\" id=\"sk-estimator-id-8\" type=\"checkbox\" ><label for=\"sk-estimator-id-8\" class=\"sk-toggleable__label sk-toggleable__label-arrow\">RandomForestRegressor</label><div class=\"sk-toggleable__content\"><pre>RandomForestRegressor(max_depth=8)</pre></div></div></div></div></div></div><div class=\"sk-parallel-item\"><div class=\"sk-item\"><div class=\"sk-label-container\"><div class=\"sk-label sk-toggleable\"><label>Linear Regression</label></div></div><div class=\"sk-serial\"><div class=\"sk-item\"><div class=\"sk-estimator sk-toggleable\"><input class=\"sk-toggleable__control sk-hidden--visually\" id=\"sk-estimator-id-9\" type=\"checkbox\" ><label for=\"sk-estimator-id-9\" class=\"sk-toggleable__label sk-toggleable__label-arrow\">LinearRegression</label><div class=\"sk-toggleable__content\"><pre>LinearRegression()</pre></div></div></div></div></div></div></div></div><div class=\"sk-item\"><div class=\"sk-parallel\"><div class=\"sk-parallel-item\"><div class=\"sk-item\"><div class=\"sk-label-container\"><div class=\"sk-label sk-toggleable\"><label>final_estimator</label></div></div><div class=\"sk-serial\"><div class=\"sk-item\"><div class=\"sk-estimator sk-toggleable\"><input class=\"sk-toggleable__control sk-hidden--visually\" id=\"sk-estimator-id-10\" type=\"checkbox\" ><label for=\"sk-estimator-id-10\" class=\"sk-toggleable__label sk-toggleable__label-arrow\">ExtraTreesRegressor</label><div class=\"sk-toggleable__content\"><pre>ExtraTreesRegressor(max_depth=8)</pre></div></div></div></div></div></div></div></div></div></div></div></div>"
      ],
      "text/plain": [
       "StackingRegressor(cv=5,\n",
       "                  estimators=[('Extra Trees ',\n",
       "                               ExtraTreesRegressor(max_depth=8)),\n",
       "                              ('Random Forest ',\n",
       "                               RandomForestRegressor(max_depth=8)),\n",
       "                              ('Linear Regression', LinearRegression())],\n",
       "                  final_estimator=ExtraTreesRegressor(max_depth=8))"
      ]
     },
     "execution_count": 182,
     "metadata": {},
     "output_type": "execute_result"
    }
   ],
   "source": [
    "stacking_reg"
   ]
  },
  {
   "cell_type": "code",
   "execution_count": 183,
   "metadata": {},
   "outputs": [],
   "source": [
    "X_train_full, X_test, y_train_full, y_test = train_test_split(\n",
    "    X , y, random_state=42)\n",
    "X_train, X_valid, y_train, y_valid = train_test_split(\n",
    "    X_train_full, y_train_full, random_state=42)"
   ]
  },
  {
   "cell_type": "code",
   "execution_count": 184,
   "metadata": {},
   "outputs": [],
   "source": [
    "tf.random.set_seed(42)\n",
    "norm_layer = tf.keras.layers.Normalization(input_shape=X_train.shape[1:])\n",
    "model = tf.keras.Sequential([\n",
    "    norm_layer,\n",
    "    tf.keras.layers.Dense(50, activation=\"relu\" , kernel_initializer=\"he_normal\"),\n",
    "    tf.keras.layers.Dense(50, activation=\"relu\", kernel_initializer=\"he_normal\"),\n",
    "    tf.keras.layers.Dense(50, activation=\"relu\", kernel_initializer=\"he_normal\"),\n",
    "    tf.keras.layers.Dense(50, activation=\"relu\", kernel_initializer=\"he_normal\"),\n",
    "    tf.keras.layers.Dense(50, activation=\"relu\", kernel_initializer=\"he_normal\"),\n",
    "    tf.keras.layers.Dense(50, activation=\"relu\", kernel_initializer=\"he_normal\"),\n",
    "    tf.keras.layers.Dense(50, activation=\"relu\", kernel_initializer=\"he_normal\"),\n",
    "    tf.keras.layers.Dense(1)\n",
    "])"
   ]
  },
  {
   "cell_type": "code",
   "execution_count": 185,
   "metadata": {},
   "outputs": [
    {
     "name": "stdout",
     "output_type": "stream",
     "text": [
      "Epoch 1/20\n",
      "173/173 [==============================] - 2s 3ms/step - loss: 822.2025 - root_mean_squared_error: 28.6741 - val_loss: 526.3055 - val_root_mean_squared_error: 22.9414\n",
      "Epoch 2/20\n",
      "173/173 [==============================] - 0s 2ms/step - loss: 484.3081 - root_mean_squared_error: 22.0070 - val_loss: 492.3052 - val_root_mean_squared_error: 22.1880\n",
      "Epoch 3/20\n",
      "173/173 [==============================] - 0s 2ms/step - loss: 460.6635 - root_mean_squared_error: 21.4631 - val_loss: 486.5498 - val_root_mean_squared_error: 22.0579\n",
      "Epoch 4/20\n",
      "173/173 [==============================] - 0s 2ms/step - loss: 444.3642 - root_mean_squared_error: 21.0799 - val_loss: 471.0850 - val_root_mean_squared_error: 21.7045\n",
      "Epoch 5/20\n",
      "173/173 [==============================] - 0s 2ms/step - loss: 432.2278 - root_mean_squared_error: 20.7901 - val_loss: 465.9135 - val_root_mean_squared_error: 21.5850\n",
      "Epoch 6/20\n",
      "173/173 [==============================] - 0s 2ms/step - loss: 420.9677 - root_mean_squared_error: 20.5175 - val_loss: 453.1271 - val_root_mean_squared_error: 21.2868\n",
      "Epoch 7/20\n",
      "173/173 [==============================] - 0s 2ms/step - loss: 411.0237 - root_mean_squared_error: 20.2737 - val_loss: 449.6136 - val_root_mean_squared_error: 21.2041\n",
      "Epoch 8/20\n",
      "173/173 [==============================] - 0s 2ms/step - loss: 403.3000 - root_mean_squared_error: 20.0823 - val_loss: 443.0087 - val_root_mean_squared_error: 21.0478\n",
      "Epoch 9/20\n",
      "173/173 [==============================] - 0s 2ms/step - loss: 393.6051 - root_mean_squared_error: 19.8395 - val_loss: 443.6645 - val_root_mean_squared_error: 21.0633\n",
      "Epoch 10/20\n",
      "173/173 [==============================] - 0s 2ms/step - loss: 388.9176 - root_mean_squared_error: 19.7210 - val_loss: 436.1370 - val_root_mean_squared_error: 20.8839\n",
      "Epoch 11/20\n",
      "173/173 [==============================] - 0s 2ms/step - loss: 379.9408 - root_mean_squared_error: 19.4921 - val_loss: 445.6964 - val_root_mean_squared_error: 21.1115\n",
      "Epoch 12/20\n",
      "173/173 [==============================] - 0s 2ms/step - loss: 370.9875 - root_mean_squared_error: 19.2610 - val_loss: 434.6577 - val_root_mean_squared_error: 20.8484\n",
      "Epoch 13/20\n",
      "173/173 [==============================] - 0s 2ms/step - loss: 366.6099 - root_mean_squared_error: 19.1471 - val_loss: 441.9112 - val_root_mean_squared_error: 21.0217\n",
      "Epoch 14/20\n",
      "173/173 [==============================] - 0s 2ms/step - loss: 355.3698 - root_mean_squared_error: 18.8513 - val_loss: 450.8075 - val_root_mean_squared_error: 21.2322\n",
      "Epoch 15/20\n",
      "173/173 [==============================] - 0s 2ms/step - loss: 352.9626 - root_mean_squared_error: 18.7873 - val_loss: 436.4165 - val_root_mean_squared_error: 20.8906\n",
      "Epoch 16/20\n",
      "173/173 [==============================] - 0s 2ms/step - loss: 346.9297 - root_mean_squared_error: 18.6260 - val_loss: 431.0369 - val_root_mean_squared_error: 20.7614\n",
      "Epoch 17/20\n",
      "173/173 [==============================] - 0s 2ms/step - loss: 340.0064 - root_mean_squared_error: 18.4393 - val_loss: 431.9968 - val_root_mean_squared_error: 20.7845\n",
      "Epoch 18/20\n",
      "173/173 [==============================] - 0s 2ms/step - loss: 334.5788 - root_mean_squared_error: 18.2915 - val_loss: 416.4726 - val_root_mean_squared_error: 20.4077\n",
      "Epoch 19/20\n",
      "173/173 [==============================] - 0s 2ms/step - loss: 327.8516 - root_mean_squared_error: 18.1067 - val_loss: 425.2038 - val_root_mean_squared_error: 20.6205\n",
      "Epoch 20/20\n",
      "173/173 [==============================] - 0s 2ms/step - loss: 326.0520 - root_mean_squared_error: 18.0569 - val_loss: 422.7762 - val_root_mean_squared_error: 20.5615\n"
     ]
    }
   ],
   "source": [
    "optimizer = tf.keras.optimizers.Nadam(learning_rate=1e-3)\n",
    "model.compile(loss=\"mse\", optimizer=optimizer, metrics=[\"RootMeanSquaredError\"])\n",
    "norm_layer.adapt(X_train)\n",
    "history = model.fit(X_train, y_train, epochs=20,\n",
    "                    validation_data=(X_valid, y_valid))"
   ]
  },
  {
   "cell_type": "code",
   "execution_count": 186,
   "metadata": {},
   "outputs": [
    {
     "data": {
      "image/png": "[encoded data removed]",
      "text/plain": [
       "<Figure size 1200x800 with 1 Axes>"
      ]
     },
     "metadata": {},
     "output_type": "display_data"
    }
   ],
   "source": [
    "import matplotlib.pyplot as plt\n",
    "\n",
    "pd.DataFrame(history.history).plot(\n",
    "    figsize=(12, 8), xlim=[0, 20], ylim=[0, 1000], grid=True, xlabel=\"Epoch\",\n",
    "    style=[\"r--\", \"r--.\", \"b-\", \"b-*\"])\n",
    "plt.legend(loc=\"lower left\")\n",
    "plt.show()"
   ]
  },
  {
   "cell_type": "code",
   "execution_count": 187,
   "metadata": {},
   "outputs": [],
   "source": [
    "tf.keras.backend.clear_session()\n",
    "tf.random.set_seed(42)\n",
    "model = tf.keras.Sequential([\n",
    "    tf.keras.layers.Flatten(),\n",
    "    tf.keras.layers.BatchNormalization(),\n",
    "    tf.keras.layers.Dense(512, activation='relu',\n",
    "                          kernel_initializer=\"he_normal\"),\n",
    "    tf.keras.layers.BatchNormalization(),\n",
    "    tf.keras.layers.Dense(256, activation='relu',\n",
    "                          kernel_initializer=\"he_normal\"),\n",
    "    tf.keras.layers.BatchNormalization(),\n",
    "    tf.keras.layers.Dense(128, activation='relu',\n",
    "                          kernel_initializer=\"he_normal\"),\n",
    "    tf.keras.layers.BatchNormalization(),\n",
    "    tf.keras.layers.Dense(64, activation='relu',\n",
    "                          kernel_initializer=\"he_normal\"),\n",
    "    tf.keras.layers.BatchNormalization(),\n",
    "    tf.keras.layers.Dense(1)\n",
    "])"
   ]
  },
  {
   "cell_type": "code",
   "execution_count": 188,
   "metadata": {},
   "outputs": [],
   "source": [
    "optimizer = tf.keras.optimizers.Nadam(learning_rate=1e-3)\n",
    "model.compile(loss=\"mse\", optimizer=optimizer, metrics=[\"RootMeanSquaredError\"])"
   ]
  },
  {
   "cell_type": "code",
   "execution_count": 189,
   "metadata": {},
   "outputs": [
    {
     "name": "stdout",
     "output_type": "stream",
     "text": [
      "Epoch 1/50\n",
      "173/173 [==============================] - 4s 7ms/step - loss: 2742.4409 - root_mean_squared_error: 52.3683 - val_loss: 4944.3193 - val_root_mean_squared_error: 70.3159\n",
      "Epoch 2/50\n",
      "173/173 [==============================] - 1s 5ms/step - loss: 2065.1914 - root_mean_squared_error: 45.4444 - val_loss: 1305.7594 - val_root_mean_squared_error: 36.1353\n",
      "Epoch 3/50\n",
      "173/173 [==============================] - 1s 6ms/step - loss: 1313.6490 - root_mean_squared_error: 36.2443 - val_loss: 881.8826 - val_root_mean_squared_error: 29.6965\n",
      "Epoch 4/50\n",
      "173/173 [==============================] - 1s 6ms/step - loss: 717.4203 - root_mean_squared_error: 26.7847 - val_loss: 560.3675 - val_root_mean_squared_error: 23.6721\n",
      "Epoch 5/50\n",
      "173/173 [==============================] - 1s 6ms/step - loss: 490.2874 - root_mean_squared_error: 22.1424 - val_loss: 456.1594 - val_root_mean_squared_error: 21.3579\n",
      "Epoch 6/50\n",
      "173/173 [==============================] - 1s 6ms/step - loss: 450.1478 - root_mean_squared_error: 21.2167 - val_loss: 454.5059 - val_root_mean_squared_error: 21.3191\n",
      "Epoch 7/50\n",
      "173/173 [==============================] - 1s 6ms/step - loss: 446.5818 - root_mean_squared_error: 21.1325 - val_loss: 439.2484 - val_root_mean_squared_error: 20.9583\n",
      "Epoch 8/50\n",
      "173/173 [==============================] - 1s 6ms/step - loss: 436.6451 - root_mean_squared_error: 20.8961 - val_loss: 448.7469 - val_root_mean_squared_error: 21.1836\n",
      "Epoch 9/50\n",
      "173/173 [==============================] - 1s 7ms/step - loss: 444.3835 - root_mean_squared_error: 21.0804 - val_loss: 437.1208 - val_root_mean_squared_error: 20.9074\n",
      "Epoch 10/50\n",
      "173/173 [==============================] - 1s 6ms/step - loss: 434.6805 - root_mean_squared_error: 20.8490 - val_loss: 432.4005 - val_root_mean_squared_error: 20.7942\n",
      "Epoch 11/50\n",
      "173/173 [==============================] - 1s 6ms/step - loss: 435.2639 - root_mean_squared_error: 20.8630 - val_loss: 441.4044 - val_root_mean_squared_error: 21.0096\n",
      "Epoch 12/50\n",
      "173/173 [==============================] - 1s 6ms/step - loss: 431.8250 - root_mean_squared_error: 20.7804 - val_loss: 423.1265 - val_root_mean_squared_error: 20.5700\n",
      "Epoch 13/50\n",
      "173/173 [==============================] - 1s 6ms/step - loss: 424.0493 - root_mean_squared_error: 20.5925 - val_loss: 427.4388 - val_root_mean_squared_error: 20.6746\n",
      "Epoch 14/50\n",
      "173/173 [==============================] - 1s 6ms/step - loss: 423.2984 - root_mean_squared_error: 20.5742 - val_loss: 429.1754 - val_root_mean_squared_error: 20.7166\n",
      "Epoch 15/50\n",
      "173/173 [==============================] - 1s 7ms/step - loss: 421.6870 - root_mean_squared_error: 20.5350 - val_loss: 409.5122 - val_root_mean_squared_error: 20.2364\n",
      "Epoch 16/50\n",
      "173/173 [==============================] - 1s 6ms/step - loss: 418.4437 - root_mean_squared_error: 20.4559 - val_loss: 421.1416 - val_root_mean_squared_error: 20.5217\n",
      "Epoch 17/50\n",
      "173/173 [==============================] - 1s 6ms/step - loss: 407.2183 - root_mean_squared_error: 20.1797 - val_loss: 421.7681 - val_root_mean_squared_error: 20.5370\n",
      "Epoch 18/50\n",
      "173/173 [==============================] - 1s 6ms/step - loss: 410.2099 - root_mean_squared_error: 20.2536 - val_loss: 410.7477 - val_root_mean_squared_error: 20.2669\n",
      "Epoch 19/50\n",
      "173/173 [==============================] - 1s 6ms/step - loss: 409.7785 - root_mean_squared_error: 20.2430 - val_loss: 411.4357 - val_root_mean_squared_error: 20.2839\n",
      "Epoch 20/50\n",
      "173/173 [==============================] - 1s 6ms/step - loss: 398.6891 - root_mean_squared_error: 19.9672 - val_loss: 413.6373 - val_root_mean_squared_error: 20.3381\n",
      "Epoch 21/50\n",
      "173/173 [==============================] - 1s 6ms/step - loss: 406.5048 - root_mean_squared_error: 20.1620 - val_loss: 423.8799 - val_root_mean_squared_error: 20.5883\n",
      "Epoch 22/50\n",
      "173/173 [==============================] - 1s 6ms/step - loss: 405.9806 - root_mean_squared_error: 20.1490 - val_loss: 417.0480 - val_root_mean_squared_error: 20.4218\n",
      "Epoch 23/50\n",
      "173/173 [==============================] - 1s 6ms/step - loss: 402.4439 - root_mean_squared_error: 20.0610 - val_loss: 408.3073 - val_root_mean_squared_error: 20.2066\n",
      "Epoch 24/50\n",
      "173/173 [==============================] - 1s 6ms/step - loss: 403.7714 - root_mean_squared_error: 20.0941 - val_loss: 409.0798 - val_root_mean_squared_error: 20.2257\n",
      "Epoch 25/50\n",
      "173/173 [==============================] - 1s 6ms/step - loss: 397.8261 - root_mean_squared_error: 19.9456 - val_loss: 406.1452 - val_root_mean_squared_error: 20.1530\n",
      "Epoch 26/50\n",
      "173/173 [==============================] - 1s 6ms/step - loss: 399.0144 - root_mean_squared_error: 19.9753 - val_loss: 413.9338 - val_root_mean_squared_error: 20.3454\n",
      "Epoch 27/50\n",
      "173/173 [==============================] - 1s 6ms/step - loss: 397.6840 - root_mean_squared_error: 19.9420 - val_loss: 414.4685 - val_root_mean_squared_error: 20.3585\n",
      "Epoch 28/50\n",
      "173/173 [==============================] - 1s 6ms/step - loss: 377.9792 - root_mean_squared_error: 19.4417 - val_loss: 404.8116 - val_root_mean_squared_error: 20.1199\n",
      "Epoch 29/50\n",
      "173/173 [==============================] - 1s 6ms/step - loss: 384.0953 - root_mean_squared_error: 19.5984 - val_loss: 389.5301 - val_root_mean_squared_error: 19.7365\n",
      "Epoch 30/50\n",
      "173/173 [==============================] - 1s 5ms/step - loss: 390.0687 - root_mean_squared_error: 19.7502 - val_loss: 396.8346 - val_root_mean_squared_error: 19.9207\n",
      "Epoch 31/50\n",
      "173/173 [==============================] - 1s 5ms/step - loss: 381.4310 - root_mean_squared_error: 19.5303 - val_loss: 398.3197 - val_root_mean_squared_error: 19.9579\n",
      "Epoch 32/50\n",
      "173/173 [==============================] - 1s 5ms/step - loss: 383.7949 - root_mean_squared_error: 19.5907 - val_loss: 396.1829 - val_root_mean_squared_error: 19.9043\n",
      "Epoch 33/50\n",
      "173/173 [==============================] - 1s 6ms/step - loss: 392.0505 - root_mean_squared_error: 19.8003 - val_loss: 393.9311 - val_root_mean_squared_error: 19.8477\n",
      "Epoch 34/50\n",
      "173/173 [==============================] - 1s 6ms/step - loss: 374.6488 - root_mean_squared_error: 19.3558 - val_loss: 391.8581 - val_root_mean_squared_error: 19.7954\n",
      "Epoch 35/50\n",
      "173/173 [==============================] - 1s 6ms/step - loss: 375.9807 - root_mean_squared_error: 19.3902 - val_loss: 410.6139 - val_root_mean_squared_error: 20.2636\n",
      "Epoch 36/50\n",
      "173/173 [==============================] - 1s 5ms/step - loss: 377.2150 - root_mean_squared_error: 19.4220 - val_loss: 405.4267 - val_root_mean_squared_error: 20.1352\n",
      "Epoch 37/50\n",
      "173/173 [==============================] - 1s 5ms/step - loss: 381.4240 - root_mean_squared_error: 19.5301 - val_loss: 393.4111 - val_root_mean_squared_error: 19.8346\n",
      "Epoch 38/50\n",
      "173/173 [==============================] - 1s 6ms/step - loss: 370.2861 - root_mean_squared_error: 19.2428 - val_loss: 389.2746 - val_root_mean_squared_error: 19.7300\n",
      "Epoch 39/50\n",
      "173/173 [==============================] - 1s 6ms/step - loss: 374.1869 - root_mean_squared_error: 19.3439 - val_loss: 393.0172 - val_root_mean_squared_error: 19.8247\n",
      "Epoch 40/50\n",
      "173/173 [==============================] - 1s 6ms/step - loss: 375.0648 - root_mean_squared_error: 19.3666 - val_loss: 399.1326 - val_root_mean_squared_error: 19.9783\n",
      "Epoch 41/50\n",
      "173/173 [==============================] - 1s 7ms/step - loss: 373.7918 - root_mean_squared_error: 19.3337 - val_loss: 398.1733 - val_root_mean_squared_error: 19.9543\n",
      "Epoch 42/50\n",
      "173/173 [==============================] - 1s 7ms/step - loss: 372.7491 - root_mean_squared_error: 19.3067 - val_loss: 389.2937 - val_root_mean_squared_error: 19.7305\n",
      "Epoch 43/50\n",
      "173/173 [==============================] - 1s 6ms/step - loss: 364.2639 - root_mean_squared_error: 19.0857 - val_loss: 400.4430 - val_root_mean_squared_error: 20.0111\n",
      "Epoch 44/50\n",
      "173/173 [==============================] - 1s 6ms/step - loss: 371.9456 - root_mean_squared_error: 19.2859 - val_loss: 404.0737 - val_root_mean_squared_error: 20.1016\n",
      "Epoch 45/50\n",
      "173/173 [==============================] - 1s 6ms/step - loss: 367.9188 - root_mean_squared_error: 19.1812 - val_loss: 390.8533 - val_root_mean_squared_error: 19.7700\n",
      "Epoch 46/50\n",
      "173/173 [==============================] - 1s 6ms/step - loss: 364.8944 - root_mean_squared_error: 19.1022 - val_loss: 400.4646 - val_root_mean_squared_error: 20.0116\n",
      "Epoch 47/50\n",
      "173/173 [==============================] - 1s 6ms/step - loss: 372.5154 - root_mean_squared_error: 19.3007 - val_loss: 391.5254 - val_root_mean_squared_error: 19.7870\n",
      "Epoch 48/50\n",
      "173/173 [==============================] - 1s 5ms/step - loss: 366.3068 - root_mean_squared_error: 19.1391 - val_loss: 387.0298 - val_root_mean_squared_error: 19.6731\n",
      "Epoch 49/50\n",
      "173/173 [==============================] - 1s 6ms/step - loss: 360.7917 - root_mean_squared_error: 18.9945 - val_loss: 379.5308 - val_root_mean_squared_error: 19.4816\n",
      "Epoch 50/50\n",
      "173/173 [==============================] - 1s 6ms/step - loss: 354.5618 - root_mean_squared_error: 18.8298 - val_loss: 392.1552 - val_root_mean_squared_error: 19.8029\n"
     ]
    }
   ],
   "source": [
    "history = model.fit(X_train, y_train, epochs=50,\n",
    "                    validation_data=(X_valid, y_valid))"
   ]
  },
  {
   "cell_type": "code",
   "execution_count": 190,
   "metadata": {},
   "outputs": [
    {
     "name": "stdout",
     "output_type": "stream",
     "text": [
      "Model: \"sequential\"\n",
      "_________________________________________________________________\n",
      " Layer (type)                Output Shape              Param #   \n",
      "=================================================================\n",
      " flatten (Flatten)           (None, 8)                 0         \n",
      "                                                                 \n",
      " batch_normalization (BatchN  (None, 8)                32        \n",
      " ormalization)                                                   \n",
      "                                                                 \n",
      " dense (Dense)               (None, 512)               4608      \n",
      "                                                                 \n",
      " batch_normalization_1 (Batc  (None, 512)              2048      \n",
      " hNormalization)                                                 \n",
      "                                                                 \n",
      " dense_1 (Dense)             (None, 256)               131328    \n",
      "                                                                 \n",
      " batch_normalization_2 (Batc  (None, 256)              1024      \n",
      " hNormalization)                                                 \n",
      "                                                                 \n",
      " dense_2 (Dense)             (None, 128)               32896     \n",
      "                                                                 \n",
      " batch_normalization_3 (Batc  (None, 128)              512       \n",
      " hNormalization)                                                 \n",
      "                                                                 \n",
      " dense_3 (Dense)             (None, 64)                8256      \n",
      "                                                                 \n",
      " batch_normalization_4 (Batc  (None, 64)               256       \n",
      " hNormalization)                                                 \n",
      "                                                                 \n",
      " dense_4 (Dense)             (None, 1)                 65        \n",
      "                                                                 \n",
      "=================================================================\n",
      "Total params: 181,025\n",
      "Trainable params: 179,089\n",
      "Non-trainable params: 1,936\n",
      "_________________________________________________________________\n"
     ]
    }
   ],
   "source": [
    "model.summary()"
   ]
  },
  {
   "cell_type": "code",
   "execution_count": 191,
   "metadata": {},
   "outputs": [
    {
     "name": "stdout",
     "output_type": "stream",
     "text": [
      " 1/77 [..............................] - ETA: 1s - loss: 273.9459 - root_mean_squared_error: 16.5513"
     ]
    },
    {
     "name": "stdout",
     "output_type": "stream",
     "text": [
      "77/77 [==============================] - 0s 2ms/step - loss: 379.9012 - root_mean_squared_error: 19.4911\n"
     ]
    }
   ],
   "source": [
    "score = model.evaluate(X_test , y_test)"
   ]
  },
  {
   "cell_type": "code",
   "execution_count": 192,
   "metadata": {},
   "outputs": [
    {
     "name": "stdout",
     "output_type": "stream",
     "text": [
      "77/77 [==============================] - 0s 1ms/step\n"
     ]
    }
   ],
   "source": [
    "y_pred = model.predict(X_test)\n",
    "r2 = r2_score(y_test , y_pred)"
   ]
  },
  {
   "cell_type": "code",
   "execution_count": 193,
   "metadata": {},
   "outputs": [
    {
     "name": "stdout",
     "output_type": "stream",
     "text": [
      "Root mean squared error of the model : 19.491056442260742 \n",
      "R2 score of the model : 0.624076433432927 \n"
     ]
    }
   ],
   "source": [
    "print(f\"Root mean squared error of the model : {score[1]} \")\n",
    "print(f\"R2 score of the model : {r2} \")"
   ]
  },
  {
   "cell_type": "code",
   "execution_count": 194,
   "metadata": {},
   "outputs": [
    {
     "data": {
      "image/png": "[encoded data removed]",
      "text/plain": [
       "<Figure size 1200x800 with 1 Axes>"
      ]
     },
     "metadata": {},
     "output_type": "display_data"
    }
   ],
   "source": [
    "import matplotlib.pyplot as plt\n",
    "\n",
    "pd.DataFrame(history.history).plot(\n",
    "    figsize=(12, 8), xlim=[0, 20], ylim=[0, 500], grid=True, xlabel=\"Epoch\",\n",
    "    style=[\"r--\", \"r--.\", \"b-\", \"b-*\"])\n",
    "plt.legend(loc=\"lower left\")\n",
    "plt.show()"
   ]
  },
  {
   "cell_type": "code",
   "execution_count": 195,
   "metadata": {},
   "outputs": [
    {
     "name": "stderr",
     "output_type": "stream",
     "text": [
      "WARNING:absl:Found untraced functions such as _update_step_xla while saving (showing 1 of 1). These functions will not be directly callable after loading.\n"
     ]
    },
    {
     "name": "stdout",
     "output_type": "stream",
     "text": [
      "INFO:tensorflow:Assets written to: C:/Users/Aravind/Work/PROJECTS/Cloudburst-Prediction-System/models/api_model\\assets\n"
     ]
    },
    {
     "name": "stderr",
     "output_type": "stream",
     "text": [
      "INFO:tensorflow:Assets written to: C:/Users/Aravind/Work/PROJECTS/Cloudburst-Prediction-System/models/api_model\\assets\n"
     ]
    }
   ],
   "source": [
    "model.save(\"C:/Users/Aravind/Work/PROJECTS/Cloudburst-Prediction-System/models/api_model\" , save_format=\"tf\")"
   ]
  }
 ],
 "metadata": {
  "kernelspec": {
   "display_name": "Python 3",
   "language": "python",
   "name": "python3"
  },
  "language_info": {
   "codemirror_mode": {
    "name": "ipython",
    "version": 3
   },
   "file_extension": ".py",
   "mimetype": "text/x-python",
   "name": "python",
   "nbconvert_exporter": "python",
   "pygments_lexer": "ipython3",
   "version": "3.11.5"
  }
 },
 "nbformat": 4,
 "nbformat_minor": 2
}
